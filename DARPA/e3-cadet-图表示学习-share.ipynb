{
 "cells": [
  {
   "cell_type": "markdown",
   "metadata": {},
   "source": [
    "# 引用包"
   ]
  },
  {
   "cell_type": "code",
   "execution_count": 1,
   "metadata": {},
   "outputs": [],
   "source": [
    "# encoding=utf-8\n",
    "import os.path as osp\n",
    "import os\n",
    "import copy\n",
    "import matplotlib.pyplot as plt\n",
    "import torch\n",
    "from torch.nn import Linear\n",
    "from sklearn.metrics import average_precision_score, roc_auc_score\n",
    "from torch_geometric.data import TemporalData\n",
    "from torch_geometric.datasets import JODIEDataset\n",
    "from torch_geometric.datasets import ICEWS18\n",
    "from torch_geometric.nn import TGNMemory, TransformerConv\n",
    "import torch.nn as nn\n",
    "import torch.nn.functional as F\n",
    "from torch_geometric.nn.models.tgn import (LastNeighborLoader, IdentityMessage, MeanAggregator,\n",
    "                                           LastAggregator)\n",
    "from torch_geometric import *\n",
    "from torch_geometric.utils import negative_sampling\n",
    "from tqdm import tqdm\n",
    "import networkx as nx\n",
    "import numpy as np\n",
    "import math\n",
    "import copy\n",
    "import re\n",
    "import time\n",
    "import json\n",
    "import pandas as pd\n",
    "from random import choice\n",
    "import gc\n",
    "device = torch.device('cuda' if torch.cuda.is_available() else 'cpu')\n",
    "# device = 'cpu'\n",
    "# msg的特征采取    [src_node_feature,edge_attr,dst_node_feature]的格式\n",
    "\n",
    "# compute the best partition 计算出最佳的社区划分\n",
    "import datetime\n",
    "# import community as community_louvain\n",
    "\n",
    "# import xxhash\n",
    "# 查找edge向量所对应的下标\n",
    "def tensor_find(t,x):\n",
    "    t_np=t.cpu().numpy()\n",
    "    idx=np.argwhere(t_np==x)\n",
    "    return idx[0][0]+1\n",
    "\n",
    "\n",
    "def std(t):\n",
    "    t = np.array(t)\n",
    "    return np.std(t)\n",
    "\n",
    "\n",
    "def var(t):\n",
    "    t = np.array(t)\n",
    "    return np.var(t)\n",
    "\n",
    "\n",
    "def mean(t):\n",
    "    t = np.array(t)\n",
    "    return np.mean(t)\n",
    "\n",
    "def hashgen(l):\n",
    "    \"\"\"Generate a single hash value from a list. @l is a list of\n",
    "    string values, which can be properties of a node/edge. This\n",
    "    function returns a single hashed integer value.\"\"\"\n",
    "    hasher = xxhash.xxh64()\n",
    "    for e in l:\n",
    "        hasher.update(e)\n",
    "    return hasher.intdigest()\n",
    "\n",
    "# 单独计算出每条边的loss值来分析出 具体的异常行为\n",
    "def cal_pos_edges_loss(link_pred_ratio):\n",
    "    loss=[]\n",
    "    for i in link_pred_ratio:\n",
    "        loss.append(criterion(i,torch.ones(1)))\n",
    "    return torch.tensor(loss)\n",
    "\n",
    "def cal_pos_edges_loss_multiclass(link_pred_ratio,labels):\n",
    "    loss=[] \n",
    "    for i in range(len(link_pred_ratio)):\n",
    "        loss.append(criterion(link_pred_ratio[i].reshape(1,-1),labels[i].reshape(-1)))\n",
    "    return torch.tensor(loss)\n",
    "\n",
    "def cal_pos_edges_loss_autoencoder(decoded,msg):\n",
    "    loss=[] \n",
    "    for i in range(len(decoded)):\n",
    "        loss.append(criterion(decoded[i].reshape(1,-1),msg[i].reshape(-1)))\n",
    "    return torch.tensor(loss)"
   ]
  },
  {
   "cell_type": "code",
   "execution_count": 2,
   "metadata": {},
   "outputs": [
    {
     "data": {
      "application/javascript": [
       "IPython.notebook.set_autosave_interval(120000)"
      ]
     },
     "metadata": {},
     "output_type": "display_data"
    },
    {
     "name": "stdout",
     "output_type": "stream",
     "text": [
      "Autosaving every 120 seconds\n"
     ]
    }
   ],
   "source": [
    "%autosave 120  \n",
    "# 0为取消自动保存"
   ]
  },
  {
   "cell_type": "code",
   "execution_count": 3,
   "metadata": {
    "code_folding": [
     0
    ]
   },
   "outputs": [],
   "source": [
    "# 时间戳转换函数\n",
    "\n",
    "from datetime import datetime, timezone\n",
    "import time\n",
    "import pytz\n",
    "from time import mktime\n",
    "from datetime import datetime\n",
    "import time\n",
    "def ns_time_to_datetime(ns):\n",
    "    \"\"\"\n",
    "    :param ns: int 纳秒时间戳\n",
    "    :return: datetime   格式为 2013-10-10 23:40:00.000000000\n",
    "    \"\"\"\n",
    "    dt = datetime.fromtimestamp(int(ns) // 1000000000)\n",
    "    s = dt.strftime('%Y-%m-%d %H:%M:%S')\n",
    "    s += '.' + str(int(int(ns) % 1000000000)).zfill(9)\n",
    "    return s\n",
    "\n",
    "\n",
    "def ns_time_to_datetime_US(ns):\n",
    "    \"\"\"\n",
    "    :param ns: int 纳秒时间戳\n",
    "    :return: datetime   格式为 2013-10-10 23:40:00.000000000\n",
    "    \"\"\"\n",
    "    tz = pytz.timezone('US/Eastern')\n",
    "    dt = pytz.datetime.datetime.fromtimestamp(int(ns) // 1000000000, tz)\n",
    "    s = dt.strftime('%Y-%m-%d %H:%M:%S')\n",
    "    s += '.' + str(int(int(ns) % 1000000000)).zfill(9)\n",
    "    return s\n",
    "\n",
    "def time_to_datetime_US(s):\n",
    "    \"\"\"\n",
    "    :param ns: int 秒时间戳\n",
    "    :return: datetime   格式为 2013-10-10 23:40:00\n",
    "    \"\"\"\n",
    "    tz = pytz.timezone('US/Eastern')\n",
    "    dt = pytz.datetime.datetime.fromtimestamp(int(s), tz)\n",
    "    s = dt.strftime('%Y-%m-%d %H:%M:%S')\n",
    "    \n",
    "    return s\n",
    "\n",
    "def datetime_to_ns_time(date):\n",
    "    \"\"\"\n",
    "    :param date: str 格式为  %Y-%m-%d %H:%M:%S   例如 2013-10-10 23:40:00\n",
    "    :return: 纳秒时间戳\n",
    "    \"\"\"\n",
    "    timeArray = time.strptime(date, \"%Y-%m-%d %H:%M:%S\")\n",
    "    timeStamp = int(time.mktime(timeArray))\n",
    "    timeStamp = timeStamp * 1000000000\n",
    "    return timeStamp\n",
    "\n",
    "def datetime_to_ns_time_US(date):\n",
    "    \"\"\"\n",
    "    :param date: str 格式为  %Y-%m-%d %H:%M:%S   例如 2013-10-10 23:40:00\n",
    "    :return: 纳秒时间戳\n",
    "    \"\"\"\n",
    "    tz = pytz.timezone('US/Eastern')\n",
    "    timeArray = time.strptime(date, \"%Y-%m-%d %H:%M:%S\")\n",
    "    dt = datetime.fromtimestamp(mktime(timeArray))\n",
    "    timestamp = tz.localize(dt)\n",
    "    timestamp=timestamp.timestamp()\n",
    "    timeStamp = timestamp * 1000000000\n",
    "    return int(timeStamp)\n",
    "\n",
    "def datetime_to_timestamp_US(date):\n",
    "    \"\"\"\n",
    "    :param date: str 格式为  %Y-%m-%d %H:%M:%S   例如 2013-10-10 23:40:00\n",
    "    :return: 纳秒时间戳\n",
    "    \"\"\"\n",
    "    tz = pytz.timezone('US/Eastern')\n",
    "    timeArray = time.strptime(date, \"%Y-%m-%d %H:%M:%S\")\n",
    "    dt = datetime.fromtimestamp(mktime(timeArray))\n",
    "    timestamp = tz.localize(dt)\n",
    "    timestamp=timestamp.timestamp()\n",
    "    timeStamp = timestamp\n",
    "    return int(timeStamp)\n"
   ]
  },
  {
   "cell_type": "markdown",
   "metadata": {},
   "source": [
    "## 连接数据库"
   ]
  },
  {
   "cell_type": "code",
   "execution_count": 4,
   "metadata": {},
   "outputs": [],
   "source": [
    "# 连接postgessql 数据库，将数据存入数据库中\n",
    "import psycopg2\n",
    "\n",
    "from psycopg2 import extras as ex\n",
    "connect = psycopg2.connect(database = 'tc_cadet_dataset_db',\n",
    "                           host = '/var/run/postgresql/',\n",
    "                           user = 'postgres',\n",
    "                           password = 'postgres',\n",
    "                           port = '5432'#一般是5432\n",
    "                          )\n",
    "\n",
    "\n",
    "\n",
    "# 创建一个cursor来执行数据库的操作\n",
    "cur = connect.cursor()"
   ]
  },
  {
   "cell_type": "markdown",
   "metadata": {},
   "source": [
    "## 加载数据"
   ]
  },
  {
   "cell_type": "code",
   "execution_count": 6,
   "metadata": {},
   "outputs": [],
   "source": [
    "graph_4_2=torch.load(\"./train_graph/graph_4_2.TemporalData.simple-share\").to(device=device)\n",
    "graph_4_3=torch.load(\"./train_graph/graph_4_3.TemporalData.simple-share\").to(device=device)\n",
    "graph_4_4=torch.load(\"./train_graph/graph_4_4.TemporalData.simple-share\").to(device=device)\n",
    "graph_4_5=torch.load(\"./train_graph/graph_4_5.TemporalData.simple-share\").to(device=device)\n",
    "graph_4_6=torch.load(\"./train_graph/graph_4_6.TemporalData.simple-share\").to(device=device)\n",
    "graph_4_7=torch.load(\"./train_graph/graph_4_7.TemporalData.simple-share\").to(device=device)\n",
    "\n",
    "train_data=graph_4_2"
   ]
  },
  {
   "cell_type": "code",
   "execution_count": 7,
   "metadata": {},
   "outputs": [
    {
     "ename": "NameError",
     "evalue": "name 'graph_list' is not defined",
     "output_type": "error",
     "traceback": [
      "\u001b[0;31m---------------------------------------------------------------------------\u001b[0m",
      "\u001b[0;31mNameError\u001b[0m                                 Traceback (most recent call last)",
      "Cell \u001b[0;32mIn[7], line 2\u001b[0m\n\u001b[1;32m      1\u001b[0m normal_count\u001b[38;5;241m=\u001b[39m\u001b[38;5;241m0\u001b[39m\n\u001b[0;32m----> 2\u001b[0m \u001b[38;5;28;01mfor\u001b[39;00m g \u001b[38;5;129;01min\u001b[39;00m \u001b[43mgraph_list\u001b[49m:\n\u001b[1;32m      3\u001b[0m     normal_count\u001b[38;5;241m+\u001b[39m\u001b[38;5;241m=\u001b[39m\u001b[38;5;28mlen\u001b[39m(g\u001b[38;5;241m.\u001b[39mt)\n",
      "\u001b[0;31mNameError\u001b[0m: name 'graph_list' is not defined"
     ]
    }
   ],
   "source": [
    "normal_count=0\n",
    "for g in graph_list:\n",
    "    normal_count+=len(g.t)"
   ]
  },
  {
   "cell_type": "code",
   "execution_count": 8,
   "metadata": {},
   "outputs": [
    {
     "data": {
      "text/plain": [
       "0"
      ]
     },
     "execution_count": 8,
     "metadata": {},
     "output_type": "execute_result"
    }
   ],
   "source": [
    "normal_count"
   ]
  },
  {
   "cell_type": "markdown",
   "metadata": {},
   "source": [
    "## 生成node2msg"
   ]
  },
  {
   "cell_type": "code",
   "execution_count": 9,
   "metadata": {},
   "outputs": [],
   "source": [
    "# 构建nodeid 与msg之间的构建  创建字典变量 nodeid2msg\n",
    "sql=\"select * from node2id ORDER BY index_id;\"\n",
    "cur.execute(sql)\n",
    "rows = cur.fetchall()\n",
    "\n",
    "nodeid2msg={}  # 可以实现 nodeid 转 msg      node hash 转 nodeid\n",
    "for i in rows:\n",
    "    nodeid2msg[i[0]]=i[-1]\n",
    "    nodeid2msg[i[-1]]={i[1]:i[2]}  "
   ]
  },
  {
   "cell_type": "code",
   "execution_count": 10,
   "metadata": {},
   "outputs": [],
   "source": [
    "rel2id={1: 'EVENT_WRITE',\n",
    " 'EVENT_WRITE': 1,\n",
    " 2: 'EVENT_READ',\n",
    " 'EVENT_READ': 2,\n",
    " 3: 'EVENT_CLOSE',\n",
    " 'EVENT_CLOSE': 3,\n",
    " 4: 'EVENT_OPEN',\n",
    " 'EVENT_OPEN': 4,\n",
    " 5: 'EVENT_EXECUTE',\n",
    " 'EVENT_EXECUTE': 5,\n",
    " 6: 'EVENT_SENDTO',\n",
    " 'EVENT_SENDTO': 6,\n",
    " 7: 'EVENT_RECVFROM',\n",
    " 'EVENT_RECVFROM': 7}"
   ]
  },
  {
   "cell_type": "markdown",
   "metadata": {},
   "source": [
    "# 配置 设置 模型"
   ]
  },
  {
   "cell_type": "markdown",
   "metadata": {},
   "source": [
    "## one hop 邻居"
   ]
  },
  {
   "cell_type": "code",
   "execution_count": 15,
   "metadata": {},
   "outputs": [
    {
     "data": {
      "text/plain": [
       "(201716, 205538, 210843, 224653, 240160)"
      ]
     },
     "execution_count": 15,
     "metadata": {},
     "output_type": "execute_result"
    }
   ],
   "source": [
    "graph_4_3.num_nodes,graph_4_4.num_nodes,graph_4_5.num_nodes,graph_4_6.num_nodes,graph_4_7.num_nodes,"
   ]
  },
  {
   "cell_type": "code",
   "execution_count": 11,
   "metadata": {},
   "outputs": [],
   "source": [
    "# train_data, val_data, test_data = data.train_val_test_split(val_ratio=0.15, test_ratio=0.15)\n",
    "# max_node_num = max(torch.cat([data.dst,data.src]))+1\n",
    "# max_node_num = data.num_nodes+1\n",
    "max_node_num = 268243  # +1\n",
    "# min_dst_idx, max_dst_idx = int(data.dst.min()), int(data.dst.max())\n",
    "min_dst_idx, max_dst_idx = 0, max_node_num\n",
    "neighbor_loader = LastNeighborLoader(max_node_num, size=20, device=device)"
   ]
  },
  {
   "cell_type": "markdown",
   "metadata": {},
   "source": [
    "## 多分类重建edge type训练方式"
   ]
  },
  {
   "cell_type": "code",
   "execution_count": 12,
   "metadata": {},
   "outputs": [],
   "source": [
    "class GraphAttentionEmbedding(torch.nn.Module):\n",
    "    def __init__(self, in_channels, out_channels, msg_dim, time_enc):\n",
    "        super(GraphAttentionEmbedding, self).__init__()\n",
    "        self.time_enc = time_enc\n",
    "        edge_dim = msg_dim + time_enc.out_channels\n",
    "        self.conv = TransformerConv(in_channels, out_channels, heads=8,\n",
    "                                    dropout=0.0, edge_dim=edge_dim)\n",
    "        self.conv2 = TransformerConv(out_channels*8, out_channels,heads=1, concat=False,\n",
    "                             dropout=0.0, edge_dim=edge_dim)\n",
    "\n",
    "    def forward(self, x, last_update, edge_index, t, msg):\n",
    "        last_update.to(device)\n",
    "        x = x.to(device)\n",
    "        t = t.to(device)\n",
    "        rel_t = last_update[edge_index[0]] - t\n",
    "        rel_t_enc = self.time_enc(rel_t.to(x.dtype))\n",
    "        edge_attr = torch.cat([rel_t_enc, msg], dim=-1)\n",
    "        x = F.relu(self.conv(x, edge_index, edge_attr))\n",
    "        x = F.relu(self.conv2(x, edge_index, edge_attr))\n",
    "        return x\n",
    "\n",
    "\n",
    "class LinkPredictor(torch.nn.Module):\n",
    "    def __init__(self, in_channels):\n",
    "        super(LinkPredictor, self).__init__()\n",
    "        self.lin_src = Linear(in_channels, in_channels*2)\n",
    "        self.lin_dst = Linear(in_channels, in_channels*2)\n",
    "        \n",
    "        self.lin_seq = nn.Sequential(\n",
    "            \n",
    "            Linear(in_channels*4, in_channels*8),\n",
    "            torch.nn.Dropout(0.5),\n",
    "            nn.Tanh(),\n",
    "            Linear(in_channels*8, in_channels*2),\n",
    "            torch.nn.Dropout(0.5),\n",
    "            nn.Tanh(),\n",
    "            Linear(in_channels*2, int(in_channels//2)),\n",
    "            torch.nn.Dropout(0.5),\n",
    "            nn.Tanh(),\n",
    "            Linear(int(in_channels//2), train_data.msg.shape[1]-32)                   \n",
    "        )\n",
    "        \n",
    "\n",
    "    def forward(self, z_src, z_dst):\n",
    "        h = torch.cat([self.lin_src(z_src) , self.lin_dst(z_dst)],dim=-1)      \n",
    "         \n",
    "        h = self.lin_seq (h)\n",
    "        \n",
    "        return h\n",
    "\n",
    "memory_dim = time_dim = embedding_dim = 100\n",
    "\n",
    "memory = TGNMemory(\n",
    "    max_node_num,\n",
    "    train_data.msg.size(-1),\n",
    "    memory_dim,\n",
    "    time_dim,\n",
    "    message_module=IdentityMessage(train_data.msg.size(-1), memory_dim, time_dim),\n",
    "    aggregator_module=LastAggregator(),\n",
    ").to(device)\n",
    "\n",
    "gnn = GraphAttentionEmbedding(\n",
    "    in_channels=memory_dim,\n",
    "    out_channels=embedding_dim,\n",
    "    msg_dim=train_data.msg.size(-1),\n",
    "    time_enc=memory.time_enc,\n",
    ").to(device)\n",
    "\n",
    "link_pred = LinkPredictor(in_channels=embedding_dim).to(device)\n",
    "\n",
    "optimizer = torch.optim.Adam(\n",
    "    set(memory.parameters()) | set(gnn.parameters())\n",
    "    | set(link_pred.parameters()), lr=0.00005, eps=1e-08,weight_decay=0.01)\n",
    "\n",
    "\n",
    "# scheduler = torch.optim.lr_scheduler.StepLR(optimizer, step_size=5, gamma=0.1)\n",
    "criterion = nn.CrossEntropyLoss()\n",
    "\n",
    "# Helper vector to map global node indices to local ones.\n",
    "assoc = torch.empty(max_node_num, dtype=torch.long, device=device)\n",
    "\n",
    "saved_nodes=set()"
   ]
  },
  {
   "cell_type": "code",
   "execution_count": 13,
   "metadata": {},
   "outputs": [
    {
     "data": {
      "text/plain": [
       "LinkPredictor(\n",
       "  (lin_src): Linear(in_features=100, out_features=200, bias=True)\n",
       "  (lin_dst): Linear(in_features=100, out_features=200, bias=True)\n",
       "  (lin_seq): Sequential(\n",
       "    (0): Linear(in_features=400, out_features=800, bias=True)\n",
       "    (1): Dropout(p=0.5, inplace=False)\n",
       "    (2): Tanh()\n",
       "    (3): Linear(in_features=800, out_features=200, bias=True)\n",
       "    (4): Dropout(p=0.5, inplace=False)\n",
       "    (5): Tanh()\n",
       "    (6): Linear(in_features=200, out_features=50, bias=True)\n",
       "    (7): Dropout(p=0.5, inplace=False)\n",
       "    (8): Tanh()\n",
       "    (9): Linear(in_features=50, out_features=7, bias=True)\n",
       "  )\n",
       ")"
      ]
     },
     "execution_count": 13,
     "metadata": {},
     "output_type": "execute_result"
    }
   ],
   "source": [
    "link_pred"
   ]
  },
  {
   "cell_type": "code",
   "execution_count": 14,
   "metadata": {},
   "outputs": [],
   "source": [
    "BATCH=1024\n",
    "def train(train_data):\n",
    "\n",
    "    \n",
    "    memory.train()\n",
    "    gnn.train()\n",
    "    link_pred.train()\n",
    "\n",
    "    memory.reset_state()  # Start with a fresh memory.\n",
    "    neighbor_loader.reset_state()  # Start with an empty graph.\n",
    "    saved_nodes=set()\n",
    "\n",
    "    total_loss = 0\n",
    "    \n",
    "#     print(\"train_before_stage_data:\",train_data)\n",
    "    for batch in train_data.seq_batches(batch_size=BATCH):\n",
    "        optimizer.zero_grad()\n",
    "\n",
    "        src, pos_dst, t, msg = batch.src, batch.dst, batch.t, batch.msg        \n",
    "        \n",
    "        n_id = torch.cat([src, pos_dst]).unique()\n",
    "#         n_id = torch.cat([src, pos_dst, neg_src, neg_dst]).unique()\n",
    "        n_id, edge_index, e_id = neighbor_loader(n_id)\n",
    "        assoc[n_id] = torch.arange(n_id.size(0), device=device)\n",
    "\n",
    "        # Get updated memory of all nodes involved in the computation.\n",
    "        z, last_update = memory(n_id)\n",
    "      \n",
    "        z = gnn(z, last_update, edge_index, train_data.t[e_id], train_data.msg[e_id])\n",
    "        \n",
    "        pos_out = link_pred(z[assoc[src]], z[assoc[pos_dst]])       \n",
    "\n",
    "        y_pred = torch.cat([pos_out], dim=0)\n",
    "        \n",
    "#         y_true = torch.cat([torch.zeros(pos_out.size(0),1),torch.ones(neg_out.size(0),1)], dim=0)# 0 代表正常 1 代表异常\n",
    "        y_true=[]\n",
    "        for m in msg:\n",
    "            l=tensor_find(m[16:-16],1)-1\n",
    "            y_true.append(l)           \n",
    "          \n",
    "        y_true = torch.tensor(y_true).to(device=device)\n",
    "        y_true=y_true.reshape(-1).to(torch.long).to(device=device)\n",
    "        \n",
    "        loss = criterion(y_pred, y_true)\n",
    "        \n",
    "# 原先代码中的loss计算方法\n",
    "#         loss = criterion(pos_out, torch.ones_like(pos_out))\n",
    "#         loss += criterion(neg_out, torch.zeros_like(neg_out))\n",
    "\n",
    "        # Update memory and neighbor loader with ground-truth state.\n",
    "        memory.update_state(src, pos_dst, t, msg)\n",
    "        neighbor_loader.insert(src, pos_dst)\n",
    "        \n",
    "#         for i in range(len(src)):\n",
    "#             saved_nodes.add(int(src[i]))\n",
    "#             saved_nodes.add(int(pos_dst[i]))\n",
    "\n",
    "        loss.backward()\n",
    "        optimizer.step()\n",
    "        memory.detach()\n",
    "#         print(z.shape)\n",
    "        total_loss += float(loss) * batch.num_events\n",
    "#     print(\"trained_stage_data:\",train_data)\n",
    "    return total_loss / train_data.num_events\n"
   ]
  },
  {
   "cell_type": "markdown",
   "metadata": {},
   "source": [
    "# 开始训练"
   ]
  },
  {
   "cell_type": "code",
   "execution_count": 16,
   "metadata": {
    "scrolled": true
   },
   "outputs": [
    {
     "name": "stderr",
     "output_type": "stream",
     "text": [
      "\r",
      "  0%|                                                                                                   | 0/50 [00:00<?, ?it/s]"
     ]
    },
    {
     "name": "stdout",
     "output_type": "stream",
     "text": [
      "  Epoch: 01, Loss: 1.2058\n",
      "  Epoch: 01, Loss: 0.9020\n"
     ]
    },
    {
     "name": "stderr",
     "output_type": "stream",
     "text": [
      "\r",
      "  2%|█▊                                                                                         | 1/50 [01:06<54:28, 66.71s/it]"
     ]
    },
    {
     "name": "stdout",
     "output_type": "stream",
     "text": [
      "  Epoch: 01, Loss: 0.7853\n",
      "  Epoch: 02, Loss: 0.6923\n",
      "  Epoch: 02, Loss: 0.7264\n"
     ]
    },
    {
     "name": "stderr",
     "output_type": "stream",
     "text": [
      "\r",
      "  4%|███▋                                                                                       | 2/50 [02:12<53:09, 66.45s/it]"
     ]
    },
    {
     "name": "stdout",
     "output_type": "stream",
     "text": [
      "  Epoch: 02, Loss: 0.7251\n",
      "  Epoch: 03, Loss: 0.6371\n",
      "  Epoch: 03, Loss: 0.6964\n"
     ]
    },
    {
     "name": "stderr",
     "output_type": "stream",
     "text": [
      "\r",
      "  6%|█████▍                                                                                     | 3/50 [03:19<52:06, 66.52s/it]"
     ]
    },
    {
     "name": "stdout",
     "output_type": "stream",
     "text": [
      "  Epoch: 03, Loss: 0.6988\n",
      "  Epoch: 04, Loss: 0.6192\n",
      "  Epoch: 04, Loss: 0.6791\n"
     ]
    },
    {
     "name": "stderr",
     "output_type": "stream",
     "text": [
      "\r",
      "  8%|███████▎                                                                                   | 4/50 [04:25<50:54, 66.40s/it]"
     ]
    },
    {
     "name": "stdout",
     "output_type": "stream",
     "text": [
      "  Epoch: 04, Loss: 0.6778\n",
      "  Epoch: 05, Loss: 0.6099\n",
      "  Epoch: 05, Loss: 0.6711\n"
     ]
    },
    {
     "name": "stderr",
     "output_type": "stream",
     "text": [
      "\r",
      " 10%|█████████                                                                                  | 5/50 [05:31<49:43, 66.31s/it]"
     ]
    },
    {
     "name": "stdout",
     "output_type": "stream",
     "text": [
      "  Epoch: 05, Loss: 0.6681\n",
      "  Epoch: 06, Loss: 0.6052\n",
      "  Epoch: 06, Loss: 0.6647\n"
     ]
    },
    {
     "name": "stderr",
     "output_type": "stream",
     "text": [
      "\r",
      " 12%|██████████▉                                                                                | 6/50 [06:38<48:37, 66.31s/it]"
     ]
    },
    {
     "name": "stdout",
     "output_type": "stream",
     "text": [
      "  Epoch: 06, Loss: 0.6605\n",
      "  Epoch: 07, Loss: 0.6038\n",
      "  Epoch: 07, Loss: 0.6606\n"
     ]
    },
    {
     "name": "stderr",
     "output_type": "stream",
     "text": [
      "\r",
      " 14%|████████████▋                                                                              | 7/50 [07:44<47:31, 66.31s/it]"
     ]
    },
    {
     "name": "stdout",
     "output_type": "stream",
     "text": [
      "  Epoch: 07, Loss: 0.6568\n",
      "  Epoch: 08, Loss: 0.6038\n",
      "  Epoch: 08, Loss: 0.6566\n"
     ]
    },
    {
     "name": "stderr",
     "output_type": "stream",
     "text": [
      "\r",
      " 16%|██████████████▌                                                                            | 8/50 [08:50<46:23, 66.27s/it]"
     ]
    },
    {
     "name": "stdout",
     "output_type": "stream",
     "text": [
      "  Epoch: 08, Loss: 0.6542\n",
      "  Epoch: 09, Loss: 0.5981\n",
      "  Epoch: 09, Loss: 0.6516\n"
     ]
    },
    {
     "name": "stderr",
     "output_type": "stream",
     "text": [
      "\r",
      " 18%|████████████████▍                                                                          | 9/50 [09:57<45:19, 66.34s/it]"
     ]
    },
    {
     "name": "stdout",
     "output_type": "stream",
     "text": [
      "  Epoch: 09, Loss: 0.6514\n",
      "  Epoch: 10, Loss: 0.5997\n",
      "  Epoch: 10, Loss: 0.6512\n"
     ]
    },
    {
     "name": "stderr",
     "output_type": "stream",
     "text": [
      "\r",
      " 20%|██████████████████                                                                        | 10/50 [11:03<44:16, 66.40s/it]"
     ]
    },
    {
     "name": "stdout",
     "output_type": "stream",
     "text": [
      "  Epoch: 10, Loss: 0.6483\n",
      "  Epoch: 11, Loss: 0.5984\n",
      "  Epoch: 11, Loss: 0.6474\n"
     ]
    },
    {
     "name": "stderr",
     "output_type": "stream",
     "text": [
      "\r",
      " 22%|███████████████████▊                                                                      | 11/50 [12:10<43:09, 66.39s/it]"
     ]
    },
    {
     "name": "stdout",
     "output_type": "stream",
     "text": [
      "  Epoch: 11, Loss: 0.6445\n",
      "  Epoch: 12, Loss: 0.5977\n",
      "  Epoch: 12, Loss: 0.6472\n"
     ]
    },
    {
     "name": "stderr",
     "output_type": "stream",
     "text": [
      "\r",
      " 24%|█████████████████████▌                                                                    | 12/50 [13:16<42:01, 66.35s/it]"
     ]
    },
    {
     "name": "stdout",
     "output_type": "stream",
     "text": [
      "  Epoch: 12, Loss: 0.6445\n",
      "  Epoch: 13, Loss: 0.5921\n",
      "  Epoch: 13, Loss: 0.6453\n"
     ]
    },
    {
     "name": "stderr",
     "output_type": "stream",
     "text": [
      "\r",
      " 26%|███████████████████████▍                                                                  | 13/50 [14:22<40:55, 66.37s/it]"
     ]
    },
    {
     "name": "stdout",
     "output_type": "stream",
     "text": [
      "  Epoch: 13, Loss: 0.6444\n",
      "  Epoch: 14, Loss: 0.6019\n",
      "  Epoch: 14, Loss: 0.6471\n"
     ]
    },
    {
     "name": "stderr",
     "output_type": "stream",
     "text": [
      "\r",
      " 28%|█████████████████████████▏                                                                | 14/50 [15:29<39:50, 66.39s/it]"
     ]
    },
    {
     "name": "stdout",
     "output_type": "stream",
     "text": [
      "  Epoch: 14, Loss: 0.6424\n",
      "  Epoch: 15, Loss: 0.5933\n",
      "  Epoch: 15, Loss: 0.6459\n"
     ]
    },
    {
     "name": "stderr",
     "output_type": "stream",
     "text": [
      "\r",
      " 30%|███████████████████████████                                                               | 15/50 [16:35<38:41, 66.33s/it]"
     ]
    },
    {
     "name": "stdout",
     "output_type": "stream",
     "text": [
      "  Epoch: 15, Loss: 0.6429\n",
      "  Epoch: 16, Loss: 0.5960\n",
      "  Epoch: 16, Loss: 0.6438\n"
     ]
    },
    {
     "name": "stderr",
     "output_type": "stream",
     "text": [
      "\r",
      " 32%|████████████████████████████▊                                                             | 16/50 [17:41<37:34, 66.30s/it]"
     ]
    },
    {
     "name": "stdout",
     "output_type": "stream",
     "text": [
      "  Epoch: 16, Loss: 0.6423\n",
      "  Epoch: 17, Loss: 0.5945\n",
      "  Epoch: 17, Loss: 0.6440\n"
     ]
    },
    {
     "name": "stderr",
     "output_type": "stream",
     "text": [
      "\r",
      " 34%|██████████████████████████████▌                                                           | 17/50 [18:48<36:29, 66.36s/it]"
     ]
    },
    {
     "name": "stdout",
     "output_type": "stream",
     "text": [
      "  Epoch: 17, Loss: 0.6418\n",
      "  Epoch: 18, Loss: 0.5967\n",
      "  Epoch: 18, Loss: 0.6443\n"
     ]
    },
    {
     "name": "stderr",
     "output_type": "stream",
     "text": [
      "\r",
      " 36%|████████████████████████████████▍                                                         | 18/50 [19:54<35:23, 66.35s/it]"
     ]
    },
    {
     "name": "stdout",
     "output_type": "stream",
     "text": [
      "  Epoch: 18, Loss: 0.6416\n",
      "  Epoch: 19, Loss: 0.5962\n",
      "  Epoch: 19, Loss: 0.6433\n"
     ]
    },
    {
     "name": "stderr",
     "output_type": "stream",
     "text": [
      "\r",
      " 38%|██████████████████████████████████▏                                                       | 19/50 [21:00<34:16, 66.34s/it]"
     ]
    },
    {
     "name": "stdout",
     "output_type": "stream",
     "text": [
      "  Epoch: 19, Loss: 0.6407\n",
      "  Epoch: 20, Loss: 0.5930\n",
      "  Epoch: 20, Loss: 0.6432\n"
     ]
    },
    {
     "name": "stderr",
     "output_type": "stream",
     "text": [
      "\r",
      " 40%|████████████████████████████████████                                                      | 20/50 [22:06<33:08, 66.29s/it]"
     ]
    },
    {
     "name": "stdout",
     "output_type": "stream",
     "text": [
      "  Epoch: 20, Loss: 0.6399\n",
      "  Epoch: 21, Loss: 0.5922\n",
      "  Epoch: 21, Loss: 0.6421\n"
     ]
    },
    {
     "name": "stderr",
     "output_type": "stream",
     "text": [
      "\r",
      " 42%|█████████████████████████████████████▊                                                    | 21/50 [23:13<32:02, 66.30s/it]"
     ]
    },
    {
     "name": "stdout",
     "output_type": "stream",
     "text": [
      "  Epoch: 21, Loss: 0.6406\n",
      "  Epoch: 22, Loss: 0.5951\n",
      "  Epoch: 22, Loss: 0.6419\n"
     ]
    },
    {
     "name": "stderr",
     "output_type": "stream",
     "text": [
      "\r",
      " 44%|███████████████████████████████████████▌                                                  | 22/50 [24:19<30:56, 66.30s/it]"
     ]
    },
    {
     "name": "stdout",
     "output_type": "stream",
     "text": [
      "  Epoch: 22, Loss: 0.6394\n",
      "  Epoch: 23, Loss: 0.5936\n",
      "  Epoch: 23, Loss: 0.6411\n"
     ]
    },
    {
     "name": "stderr",
     "output_type": "stream",
     "text": [
      "\r",
      " 46%|█████████████████████████████████████████▍                                                | 23/50 [25:26<29:52, 66.41s/it]"
     ]
    },
    {
     "name": "stdout",
     "output_type": "stream",
     "text": [
      "  Epoch: 23, Loss: 0.6402\n",
      "  Epoch: 24, Loss: 0.5962\n",
      "  Epoch: 24, Loss: 0.6410\n"
     ]
    },
    {
     "name": "stderr",
     "output_type": "stream",
     "text": [
      "\r",
      " 48%|███████████████████████████████████████████▏                                              | 24/50 [26:32<28:45, 66.35s/it]"
     ]
    },
    {
     "name": "stdout",
     "output_type": "stream",
     "text": [
      "  Epoch: 24, Loss: 0.6397\n",
      "  Epoch: 25, Loss: 0.5946\n",
      "  Epoch: 25, Loss: 0.6416\n"
     ]
    },
    {
     "name": "stderr",
     "output_type": "stream",
     "text": [
      "\r",
      " 50%|█████████████████████████████████████████████                                             | 25/50 [27:38<27:38, 66.33s/it]"
     ]
    },
    {
     "name": "stdout",
     "output_type": "stream",
     "text": [
      "  Epoch: 25, Loss: 0.6390\n",
      "  Epoch: 26, Loss: 0.5916\n",
      "  Epoch: 26, Loss: 0.6406\n"
     ]
    },
    {
     "name": "stderr",
     "output_type": "stream",
     "text": [
      "\r",
      " 52%|██████████████████████████████████████████████▊                                           | 26/50 [28:45<26:32, 66.34s/it]"
     ]
    },
    {
     "name": "stdout",
     "output_type": "stream",
     "text": [
      "  Epoch: 26, Loss: 0.6381\n",
      "  Epoch: 27, Loss: 0.5923\n",
      "  Epoch: 27, Loss: 0.6413\n"
     ]
    },
    {
     "name": "stderr",
     "output_type": "stream",
     "text": [
      "\r",
      " 54%|████████████████████████████████████████████████▌                                         | 27/50 [29:51<25:26, 66.36s/it]"
     ]
    },
    {
     "name": "stdout",
     "output_type": "stream",
     "text": [
      "  Epoch: 27, Loss: 0.6380\n",
      "  Epoch: 28, Loss: 0.5925\n",
      "  Epoch: 28, Loss: 0.6405\n"
     ]
    },
    {
     "name": "stderr",
     "output_type": "stream",
     "text": [
      "\r",
      " 56%|██████████████████████████████████████████████████▍                                       | 28/50 [30:57<24:18, 66.28s/it]"
     ]
    },
    {
     "name": "stdout",
     "output_type": "stream",
     "text": [
      "  Epoch: 28, Loss: 0.6383\n",
      "  Epoch: 29, Loss: 0.5902\n",
      "  Epoch: 29, Loss: 0.6401\n"
     ]
    },
    {
     "name": "stderr",
     "output_type": "stream",
     "text": [
      "\r",
      " 58%|████████████████████████████████████████████████████▏                                     | 29/50 [32:03<23:11, 66.28s/it]"
     ]
    },
    {
     "name": "stdout",
     "output_type": "stream",
     "text": [
      "  Epoch: 29, Loss: 0.6377\n",
      "  Epoch: 30, Loss: 0.5913\n",
      "  Epoch: 30, Loss: 0.6402\n"
     ]
    },
    {
     "name": "stderr",
     "output_type": "stream",
     "text": [
      "\r",
      " 60%|██████████████████████████████████████████████████████                                    | 30/50 [33:10<22:05, 66.26s/it]"
     ]
    },
    {
     "name": "stdout",
     "output_type": "stream",
     "text": [
      "  Epoch: 30, Loss: 0.6401\n",
      "  Epoch: 31, Loss: 0.5934\n",
      "  Epoch: 31, Loss: 0.6399\n"
     ]
    },
    {
     "name": "stderr",
     "output_type": "stream",
     "text": [
      "\r",
      " 62%|███████████████████████████████████████████████████████▊                                  | 31/50 [34:16<20:59, 66.31s/it]"
     ]
    },
    {
     "name": "stdout",
     "output_type": "stream",
     "text": [
      "  Epoch: 31, Loss: 0.6377\n",
      "  Epoch: 32, Loss: 0.5923\n",
      "  Epoch: 32, Loss: 0.6397\n"
     ]
    },
    {
     "name": "stderr",
     "output_type": "stream",
     "text": [
      "\r",
      " 64%|█████████████████████████████████████████████████████████▌                                | 32/50 [35:22<19:53, 66.32s/it]"
     ]
    },
    {
     "name": "stdout",
     "output_type": "stream",
     "text": [
      "  Epoch: 32, Loss: 0.6378\n",
      "  Epoch: 33, Loss: 0.5927\n",
      "  Epoch: 33, Loss: 0.6393\n"
     ]
    },
    {
     "name": "stderr",
     "output_type": "stream",
     "text": [
      "\r",
      " 66%|███████████████████████████████████████████████████████████▍                              | 33/50 [36:29<18:47, 66.34s/it]"
     ]
    },
    {
     "name": "stdout",
     "output_type": "stream",
     "text": [
      "  Epoch: 33, Loss: 0.6368\n",
      "  Epoch: 34, Loss: 0.5916\n",
      "  Epoch: 34, Loss: 0.6386\n"
     ]
    },
    {
     "name": "stderr",
     "output_type": "stream",
     "text": [
      "\r",
      " 68%|█████████████████████████████████████████████████████████████▏                            | 34/50 [37:35<17:42, 66.42s/it]"
     ]
    },
    {
     "name": "stdout",
     "output_type": "stream",
     "text": [
      "  Epoch: 34, Loss: 0.6377\n",
      "  Epoch: 35, Loss: 0.5916\n",
      "  Epoch: 35, Loss: 0.6388\n"
     ]
    },
    {
     "name": "stderr",
     "output_type": "stream",
     "text": [
      "\r",
      " 70%|██████████████████████████████████████████████████████████████▉                           | 35/50 [38:43<16:39, 66.65s/it]"
     ]
    },
    {
     "name": "stdout",
     "output_type": "stream",
     "text": [
      "  Epoch: 35, Loss: 0.6370\n",
      "  Epoch: 36, Loss: 0.5899\n",
      "  Epoch: 36, Loss: 0.6374\n"
     ]
    },
    {
     "name": "stderr",
     "output_type": "stream",
     "text": [
      "\r",
      " 72%|████████████████████████████████████████████████████████████████▊                         | 36/50 [39:51<15:42, 67.29s/it]"
     ]
    },
    {
     "name": "stdout",
     "output_type": "stream",
     "text": [
      "  Epoch: 36, Loss: 0.6362\n",
      "  Epoch: 37, Loss: 0.5898\n",
      "  Epoch: 37, Loss: 0.6368\n"
     ]
    },
    {
     "name": "stderr",
     "output_type": "stream",
     "text": [
      "\r",
      " 74%|██████████████████████████████████████████████████████████████████▌                       | 37/50 [41:00<14:40, 67.70s/it]"
     ]
    },
    {
     "name": "stdout",
     "output_type": "stream",
     "text": [
      "  Epoch: 37, Loss: 0.6353\n",
      "  Epoch: 38, Loss: 0.5894\n",
      "  Epoch: 38, Loss: 0.6356\n"
     ]
    },
    {
     "name": "stderr",
     "output_type": "stream",
     "text": [
      "\r",
      " 76%|████████████████████████████████████████████████████████████████████▍                     | 38/50 [42:09<13:35, 68.00s/it]"
     ]
    },
    {
     "name": "stdout",
     "output_type": "stream",
     "text": [
      "  Epoch: 38, Loss: 0.6359\n",
      "  Epoch: 39, Loss: 0.5903\n",
      "  Epoch: 39, Loss: 0.6354\n"
     ]
    },
    {
     "name": "stderr",
     "output_type": "stream",
     "text": [
      "\r",
      " 78%|██████████████████████████████████████████████████████████████████████▏                   | 39/50 [43:18<12:31, 68.31s/it]"
     ]
    },
    {
     "name": "stdout",
     "output_type": "stream",
     "text": [
      "  Epoch: 39, Loss: 0.6353\n",
      "  Epoch: 40, Loss: 0.5902\n",
      "  Epoch: 40, Loss: 0.6345\n"
     ]
    },
    {
     "name": "stderr",
     "output_type": "stream",
     "text": [
      "\r",
      " 80%|████████████████████████████████████████████████████████████████████████                  | 40/50 [44:26<11:23, 68.38s/it]"
     ]
    },
    {
     "name": "stdout",
     "output_type": "stream",
     "text": [
      "  Epoch: 40, Loss: 0.6362\n",
      "  Epoch: 41, Loss: 0.5913\n",
      "  Epoch: 41, Loss: 0.6345\n"
     ]
    },
    {
     "name": "stderr",
     "output_type": "stream",
     "text": [
      "\r",
      " 82%|█████████████████████████████████████████████████████████████████████████▊                | 41/50 [45:36<10:18, 68.69s/it]"
     ]
    },
    {
     "name": "stdout",
     "output_type": "stream",
     "text": [
      "  Epoch: 41, Loss: 0.6345\n",
      "  Epoch: 42, Loss: 0.5892\n",
      "  Epoch: 42, Loss: 0.6339\n"
     ]
    },
    {
     "name": "stderr",
     "output_type": "stream",
     "text": [
      "\r",
      " 84%|███████████████████████████████████████████████████████████████████████████▌              | 42/50 [46:46<09:12, 69.10s/it]"
     ]
    },
    {
     "name": "stdout",
     "output_type": "stream",
     "text": [
      "  Epoch: 42, Loss: 0.6346\n",
      "  Epoch: 43, Loss: 0.5882\n",
      "  Epoch: 43, Loss: 0.6338\n"
     ]
    },
    {
     "name": "stderr",
     "output_type": "stream",
     "text": [
      "\r",
      " 86%|█████████████████████████████████████████████████████████████████████████████▍            | 43/50 [47:56<08:05, 69.40s/it]"
     ]
    },
    {
     "name": "stdout",
     "output_type": "stream",
     "text": [
      "  Epoch: 43, Loss: 0.6346\n",
      "  Epoch: 44, Loss: 0.5899\n",
      "  Epoch: 44, Loss: 0.6337\n"
     ]
    },
    {
     "name": "stderr",
     "output_type": "stream",
     "text": [
      "\r",
      " 88%|███████████████████████████████████████████████████████████████████████████████▏          | 44/50 [49:04<06:54, 69.13s/it]"
     ]
    },
    {
     "name": "stdout",
     "output_type": "stream",
     "text": [
      "  Epoch: 44, Loss: 0.6352\n",
      "  Epoch: 45, Loss: 0.5881\n",
      "  Epoch: 45, Loss: 0.6327\n"
     ]
    },
    {
     "name": "stderr",
     "output_type": "stream",
     "text": [
      "\r",
      " 90%|█████████████████████████████████████████████████████████████████████████████████         | 45/50 [50:11<05:42, 68.44s/it]"
     ]
    },
    {
     "name": "stdout",
     "output_type": "stream",
     "text": [
      "  Epoch: 45, Loss: 0.6334\n",
      "  Epoch: 46, Loss: 0.5876\n",
      "  Epoch: 46, Loss: 0.6327\n"
     ]
    },
    {
     "name": "stderr",
     "output_type": "stream",
     "text": [
      "\r",
      " 92%|██████████████████████████████████████████████████████████████████████████████████▊       | 46/50 [51:18<04:31, 67.96s/it]"
     ]
    },
    {
     "name": "stdout",
     "output_type": "stream",
     "text": [
      "  Epoch: 46, Loss: 0.6343\n",
      "  Epoch: 47, Loss: 0.5889\n",
      "  Epoch: 47, Loss: 0.6328\n"
     ]
    },
    {
     "name": "stderr",
     "output_type": "stream",
     "text": [
      "\r",
      " 94%|████████████████████████████████████████████████████████████████████████████████████▌     | 47/50 [52:25<03:22, 67.65s/it]"
     ]
    },
    {
     "name": "stdout",
     "output_type": "stream",
     "text": [
      "  Epoch: 47, Loss: 0.6324\n",
      "  Epoch: 48, Loss: 0.5838\n",
      "  Epoch: 48, Loss: 0.6323\n"
     ]
    },
    {
     "name": "stderr",
     "output_type": "stream",
     "text": [
      "\r",
      " 96%|██████████████████████████████████████████████████████████████████████████████████████▍   | 48/50 [53:31<02:14, 67.26s/it]"
     ]
    },
    {
     "name": "stdout",
     "output_type": "stream",
     "text": [
      "  Epoch: 48, Loss: 0.6330\n",
      "  Epoch: 49, Loss: 0.5845\n",
      "  Epoch: 49, Loss: 0.6320\n"
     ]
    },
    {
     "name": "stderr",
     "output_type": "stream",
     "text": [
      "\r",
      " 98%|████████████████████████████████████████████████████████████████████████████████████████▏ | 49/50 [54:38<01:07, 67.03s/it]"
     ]
    },
    {
     "name": "stdout",
     "output_type": "stream",
     "text": [
      "  Epoch: 49, Loss: 0.6328\n",
      "  Epoch: 50, Loss: 0.5846\n",
      "  Epoch: 50, Loss: 0.6292\n"
     ]
    },
    {
     "name": "stderr",
     "output_type": "stream",
     "text": [
      "100%|██████████████████████████████████████████████████████████████████████████████████████████| 50/50 [55:44<00:00, 66.89s/it]"
     ]
    },
    {
     "name": "stdout",
     "output_type": "stream",
     "text": [
      "  Epoch: 50, Loss: 0.6312\n"
     ]
    },
    {
     "name": "stderr",
     "output_type": "stream",
     "text": [
      "\n"
     ]
    }
   ],
   "source": [
    "# 4.3  4.4 可以用于训练  \n",
    "train_graphs=[graph_4_2,graph_4_3,graph_4_4]\n",
    "\n",
    "for epoch in tqdm(range(1, 51)):\n",
    "    for g in train_graphs:\n",
    "        loss = train(g)\n",
    "        print(f'  Epoch: {epoch:02d}, Loss: {loss:.4f}')\n",
    "#     scheduler.step()\n",
    "    # 将训练好的模型保存下来\n",
    "model=[memory,gnn, link_pred,neighbor_loader]\n",
    "torch.save(model,\"./models/model_saved_share.pt\")"
   ]
  },
  {
   "cell_type": "markdown",
   "metadata": {},
   "source": [
    "## 测试使用的函数"
   ]
  },
  {
   "cell_type": "code",
   "execution_count": 17,
   "metadata": {},
   "outputs": [],
   "source": [
    "import time \n",
    "\n",
    "@torch.no_grad()#声明以下函数不执行梯度\n",
    "def test_day_new(inference_data,path):\n",
    "    if os.path.exists(path):\n",
    "        pass\n",
    "    else:\n",
    "        os.mkdir(path)\n",
    "    \n",
    "    memory.eval()\n",
    "    gnn.eval()\n",
    "    link_pred.eval()\n",
    "    \n",
    "    memory.reset_state()  # Start with a fresh memory.  # 为什么不可以使用历史的memory呢？  应该 可以吧？\n",
    "    neighbor_loader.reset_state()  # Start with an empty graph.\n",
    "    \n",
    "    time_with_loss={}# key: 时间段，  value： 该时间段的loss值\n",
    "    total_loss = 0    \n",
    "    edge_list=[]\n",
    "    \n",
    "    unique_nodes=torch.tensor([]).to(device=device)\n",
    "    total_edges=0\n",
    "\n",
    "# 记录起始的时间点\n",
    "\n",
    "    start_time=inference_data.t[0]\n",
    "    event_count=0\n",
    "    \n",
    "    pos_o=[]\n",
    "    \n",
    "    loss_list=[]\n",
    "    \n",
    "\n",
    "    print(\"after merge:\",inference_data)\n",
    "    \n",
    "    # 记录程序运行时间  评估运行效率\n",
    "    start = time.perf_counter()\n",
    "\n",
    "    for batch in inference_data.seq_batches(batch_size=BATCH):\n",
    "        \n",
    "        src, pos_dst, t, msg = batch.src, batch.dst, batch.t, batch.msg\n",
    "        unique_nodes=torch.cat([unique_nodes,src,pos_dst]).unique()\n",
    "        total_edges+=BATCH\n",
    "        \n",
    "       \n",
    "        n_id = torch.cat([src, pos_dst]).unique()       \n",
    "        n_id, edge_index, e_id = neighbor_loader(n_id)\n",
    "        assoc[n_id] = torch.arange(n_id.size(0), device=device)\n",
    "\n",
    "        z, last_update = memory(n_id)\n",
    "        #如果memory和neighbor_loader在测试阶段都没有被更新的话，此处不需要采用gnn获得z矩阵，只需要从memory查出来对应的节点特征向量即可\n",
    "        z = gnn(z, last_update, edge_index, inference_data.t[e_id], inference_data.msg[e_id])\n",
    "\n",
    "        pos_out = link_pred(z[assoc[src]], z[assoc[pos_dst]])\n",
    "        \n",
    "        pos_o.append(pos_out)\n",
    "        y_pred = torch.cat([pos_out], dim=0)\n",
    "#         y_true = torch.cat(\n",
    "#             [torch.ones(pos_out.size(0))], dim=0).to(torch.long)     \n",
    "#         y_true=y_true.reshape(-1).to(torch.long)\n",
    "\n",
    "        y_true=[]\n",
    "        for m in msg:\n",
    "            l=tensor_find(m[16:-16],1)-1\n",
    "            y_true.append(l) \n",
    "        y_true = torch.tensor(y_true).to(device=device)\n",
    "        y_true=y_true.reshape(-1).to(torch.long).to(device=device)\n",
    "\n",
    "        # 只考虑边有没有被正确预测，对于正常行为的图而言，行为模式比较相似所以loss较低。  对于异常行为，会存在一些行为没见过，所以对这些行为预测存在的概率就地，所以loss也会高。\n",
    "        loss = criterion(y_pred, y_true)\n",
    "\n",
    "        total_loss += float(loss) * batch.num_events\n",
    "     \n",
    "        \n",
    "# 将当前batch 发生的edge 更新到memory 和neighbor中\n",
    "        memory.update_state(src, pos_dst, t, msg)\n",
    "        neighbor_loader.insert(src, pos_dst)\n",
    "        \n",
    "        #计算每条边的loss值\n",
    "        each_edge_loss= cal_pos_edges_loss_multiclass(pos_out,y_true)\n",
    "        \n",
    "        for i in range(len(pos_out)):\n",
    "            srcnode=int(src[i])\n",
    "            dstnode=int(pos_dst[i])  \n",
    "            \n",
    "            srcmsg=str(nodeid2msg[srcnode]) \n",
    "            dstmsg=str(nodeid2msg[dstnode])\n",
    "            t_var=int(t[i])\n",
    "            edgeindex=tensor_find(msg[i][16:-16],1) # find 找出来的范围是 1-n   rel2id中的id也是1-n    \n",
    "            edge_type=rel2id[edgeindex]\n",
    "            loss=each_edge_loss[i]    \n",
    "\n",
    "            temp_dic={}\n",
    "            temp_dic['loss']=float(loss)\n",
    "            temp_dic['srcnode']=srcnode\n",
    "            temp_dic['dstnode']=dstnode\n",
    "            temp_dic['srcmsg']=srcmsg\n",
    "            temp_dic['dstmsg']=dstmsg\n",
    "            temp_dic['edge_type']=edge_type\n",
    "            temp_dic['time']=t_var\n",
    "            \n",
    "            # 先不考虑与socket 节点 当找出可疑的进程与文件之后再将socket找出\n",
    "#             if \"netflow\" in srcmsg or \"netflow\" in dstmsg:\n",
    "#                 temp_dic['loss']=0\n",
    "            edge_list.append(temp_dic)\n",
    "        \n",
    "        event_count+=len(batch.src)\n",
    "        if t[-1]>start_time+60000000000*15:\n",
    "            # 此处为一个checkpoint  输出loss值 并且清空全局的loss值  保存处理过的节点\n",
    "#             loss=total_loss/event_count\n",
    "            time_interval=ns_time_to_datetime_US(start_time)+\"~\"+ns_time_to_datetime_US(t[-1])\n",
    "\n",
    "            end = time.perf_counter()\n",
    "            time_with_loss[time_interval]={'loss':loss,\n",
    "                                \n",
    "                                          'nodes_count':len(unique_nodes),\n",
    "                                          'total_edges':total_edges,\n",
    "                                          'costed_time':(end-start)}\n",
    "            \n",
    "            \n",
    "            log=open(path+\"/\"+time_interval+\".txt\",'w')\n",
    "            # 减去train data中没有被训练好的\n",
    "            \n",
    "            for e in edge_list: \n",
    "#                 temp_key=e['srcmsg']+e['dstmsg']+e['edge_type']\n",
    "#                 if temp_key in train_edge_set:      \n",
    "# #                     e['loss']=(e['loss']-train_edge_set[temp_key]) if e['loss']>=train_edge_set[temp_key] else 0  \n",
    "# #                     e['loss']=abs(e['loss']-train_edge_set[temp_key])\n",
    "                    \n",
    "#                     e['modified']=True\n",
    "#                 else:\n",
    "#                     e['modified']=False\n",
    "                loss+=e['loss']\n",
    "\n",
    "            loss=loss/event_count   \n",
    "            print(f'Time: {time_interval}, Loss: {loss:.4f}, Nodes_count: {len(unique_nodes)}, Cost Time: {(end-start):.2f}s')\n",
    "            edge_list = sorted(edge_list, key=lambda x:x['loss'],reverse=True)   # 按照loss 值排序  或者按照edge的时间顺序排列\n",
    "            for e in edge_list: \n",
    "                log.write(str(e))\n",
    "                log.write(\"\\n\") \n",
    "            event_count=0\n",
    "            total_loss=0\n",
    "            loss=0\n",
    "            start_time=t[-1]\n",
    "            log.close()\n",
    "            edge_list.clear()\n",
    "            \n",
    " \n",
    "    return time_with_loss\n"
   ]
  },
  {
   "cell_type": "code",
   "execution_count": null,
   "metadata": {},
   "outputs": [],
   "source": []
  },
  {
   "cell_type": "markdown",
   "metadata": {},
   "source": [
    "# 测试环节"
   ]
  },
  {
   "cell_type": "markdown",
   "metadata": {},
   "source": [
    "## 按照每天的数据进行测试"
   ]
  },
  {
   "cell_type": "code",
   "execution_count": 18,
   "metadata": {},
   "outputs": [],
   "source": [
    "def status(x) : \n",
    "     return pd.Series([x.count(),x.min(),x.idxmin(),x.quantile(.25),x.median(),\n",
    "       x.quantile(.75),x.mean(),x.max(),x.idxmax(),x.mad(),x.var(),\n",
    "       x.std(),x.skew(),x.kurt()],index=['总数','最小值','最小值位置','25%分位数',\n",
    "       '中位数','75%分位数','均值','最大值','最大值位数','平均绝对偏差','方差','标准差','偏度','峰度'])"
   ]
  },
  {
   "cell_type": "markdown",
   "metadata": {},
   "source": [
    "## 生成label"
   ]
  },
  {
   "cell_type": "code",
   "execution_count": 28,
   "metadata": {},
   "outputs": [],
   "source": [
    "labels={}\n",
    "filelist = os.listdir(\"graph_4_6_share\")\n",
    "for f in filelist:\n",
    "    labels[f]=0\n",
    "filelist = os.listdir(\"graph_4_7_share\")\n",
    "for f in filelist:\n",
    "    labels[f]=0   \n",
    "    "
   ]
  },
  {
   "cell_type": "code",
   "execution_count": 29,
   "metadata": {},
   "outputs": [],
   "source": [
    "attack_list=[\n",
    "    '2018-04-06 11:18:26.126177915~2018-04-06 11:33:35.116170745.txt',\n",
    "    '2018-04-06 11:33:35.116170745~2018-04-06 11:48:42.606135188.txt',\n",
    "    '2018-04-06 11:48:42.606135188~2018-04-06 12:03:50.186115455.txt',\n",
    "    '2018-04-06 12:03:50.186115455~2018-04-06 14:01:32.489584227.txt',\n",
    "]\n",
    "for i in attack_list:\n",
    "    labels[i]=1\n",
    "\n",
    "    "
   ]
  },
  {
   "cell_type": "code",
   "execution_count": 30,
   "metadata": {},
   "outputs": [
    {
     "data": {
      "text/plain": [
       "{'2018-04-06 14:16:39.379560570~2018-04-06 14:31:41.149538564.txt': 0,\n",
       " '2018-04-06 18:40:52.729207049~2018-04-06 18:55:59.999193978.txt': 0,\n",
       " '2018-04-06 09:16:25.066340315~2018-04-06 09:31:25.146320510.txt': 0,\n",
       " '2018-04-06 02:33:48.406880632~2018-04-06 02:49:07.976859935.txt': 0,\n",
       " '2018-04-06 23:03:09.188854937~2018-04-06 23:18:10.168840981.txt': 0,\n",
       " '2018-04-06 22:01:32.928937945~2018-04-06 22:17:39.688914711.txt': 0,\n",
       " '2018-04-06 00:00:00.017083676~2018-04-06 00:15:50.177068871.txt': 0,\n",
       " '2018-04-06 07:28:29.926483734~2018-04-06 07:43:36.186466909.txt': 0,\n",
       " '2018-04-06 00:30:58.967045191~2018-04-06 00:47:07.167023337.txt': 0,\n",
       " '2018-04-06 17:20:51.639321683~2018-04-06 17:35:54.449302990.txt': 0,\n",
       " '2018-04-06 04:22:56.346731444~2018-04-06 04:38:03.996711152.txt': 0,\n",
       " '2018-04-06 04:07:44.916766067~2018-04-06 04:22:56.346731444.txt': 0,\n",
       " '2018-04-06 23:33:15.408814807~2018-04-06 23:49:23.948792776.txt': 0,\n",
       " '2018-04-06 01:47:34.436947077~2018-04-06 02:02:43.106920556.txt': 0,\n",
       " '2018-04-06 22:32:48.168897833~2018-04-06 22:48:06.838874079.txt': 0,\n",
       " '2018-04-06 16:34:47.879379108~2018-04-06 16:50:08.479356930.txt': 0,\n",
       " '2018-04-06 05:56:42.656608208~2018-04-06 06:11:49.026587588.txt': 0,\n",
       " '2018-04-06 02:49:07.976859935~2018-04-06 03:05:04.836837911.txt': 0,\n",
       " '2018-04-06 00:47:07.167023337~2018-04-06 01:02:14.677010991.txt': 0,\n",
       " '2018-04-06 21:30:00.778978760~2018-04-06 21:45:25.218957773.txt': 0,\n",
       " '2018-04-06 20:28:47.019060830~2018-04-06 20:43:57.369040719.txt': 0,\n",
       " '2018-04-06 08:14:50.596423582~2018-04-06 08:30:01.506400452.txt': 0,\n",
       " '2018-04-06 04:54:10.956696707~2018-04-06 05:09:19.686673819.txt': 0,\n",
       " '2018-04-06 03:37:30.946794613~2018-04-06 03:52:38.836775414.txt': 0,\n",
       " '2018-04-06 20:43:57.369040719~2018-04-06 20:59:02.029030474.txt': 0,\n",
       " '2018-04-06 15:32:19.019459138~2018-04-06 15:47:25.559439120.txt': 0,\n",
       " '2018-04-06 11:33:35.116170745~2018-04-06 11:48:42.606135188.txt': 1,\n",
       " '2018-04-06 18:24:17.369229503~2018-04-06 18:40:52.729207049.txt': 0,\n",
       " '2018-04-06 10:01:47.476279293~2018-04-06 10:17:55.186257332.txt': 0,\n",
       " '2018-04-06 05:24:21.256650907~2018-04-06 05:40:34.436635353.txt': 0,\n",
       " '2018-04-06 19:41:23.549124701~2018-04-06 19:57:28.259104051.txt': 0,\n",
       " '2018-04-06 15:47:25.559439120~2018-04-06 16:02:51.629418719.txt': 0,\n",
       " '2018-04-06 18:08:36.779250443~2018-04-06 18:24:17.369229503.txt': 0,\n",
       " '2018-04-06 15:02:04.169502159~2018-04-06 15:17:11.749480935.txt': 0,\n",
       " '2018-04-06 12:03:50.186115455~2018-04-06 14:01:32.489584227.txt': 1,\n",
       " '2018-04-06 20:59:02.029030474~2018-04-06 21:15:00.619010803.txt': 0,\n",
       " '2018-04-06 09:46:40.966296805~2018-04-06 10:01:47.476279293.txt': 0,\n",
       " '2018-04-06 11:03:19.756210028~2018-04-06 11:18:26.126177915.txt': 0,\n",
       " '2018-04-06 22:17:39.688914711~2018-04-06 22:32:48.168897833.txt': 0,\n",
       " '2018-04-06 08:30:01.506400452~2018-04-06 08:45:17.736385465.txt': 0,\n",
       " '2018-04-06 06:26:59.116568845~2018-04-06 06:42:05.616549747.txt': 0,\n",
       " '2018-04-06 07:12:21.486507686~2018-04-06 07:28:29.926483734.txt': 0,\n",
       " '2018-04-06 17:51:58.069270063~2018-04-06 18:08:36.779250443.txt': 0,\n",
       " '2018-04-06 06:57:14.796527090~2018-04-06 07:12:21.486507686.txt': 0,\n",
       " '2018-04-06 16:18:33.979401357~2018-04-06 16:34:47.879379108.txt': 0,\n",
       " '2018-04-06 10:17:55.186257332~2018-04-06 10:33:00.136241644.txt': 0,\n",
       " '2018-04-06 20:13:39.769084097~2018-04-06 20:28:47.019060830.txt': 0,\n",
       " '2018-04-06 11:48:42.606135188~2018-04-06 12:03:50.186115455.txt': 1,\n",
       " '2018-04-06 09:31:25.146320510~2018-04-06 09:46:40.966296805.txt': 0,\n",
       " '2018-04-06 00:15:50.177068871~2018-04-06 00:30:58.967045191.txt': 0,\n",
       " '2018-04-06 04:38:03.996711152~2018-04-06 04:54:10.956696707.txt': 0,\n",
       " '2018-04-06 21:15:00.619010803~2018-04-06 21:30:00.778978760.txt': 0,\n",
       " '2018-04-06 05:09:19.686673819~2018-04-06 05:24:21.256650907.txt': 0,\n",
       " '2018-04-06 19:11:08.459167047~2018-04-06 19:26:14.719145309.txt': 0,\n",
       " '2018-04-06 16:50:08.479356930~2018-04-06 17:05:29.239333653.txt': 0,\n",
       " '2018-04-06 06:42:05.616549747~2018-04-06 06:57:14.796527090.txt': 0,\n",
       " '2018-04-06 01:17:19.056982719~2018-04-06 01:32:29.456961759.txt': 0,\n",
       " '2018-04-06 19:57:28.259104051~2018-04-06 20:13:39.769084097.txt': 0,\n",
       " '2018-04-06 02:17:48.476901849~2018-04-06 02:33:48.406880632.txt': 0,\n",
       " '2018-04-06 09:01:17.176359680~2018-04-06 09:16:25.066340315.txt': 0,\n",
       " '2018-04-06 14:31:41.149538564~2018-04-06 14:46:47.869522833.txt': 0,\n",
       " '2018-04-06 16:02:51.629418719~2018-04-06 16:18:33.979401357.txt': 0,\n",
       " '2018-04-06 05:40:34.436635353~2018-04-06 05:56:42.656608208.txt': 0,\n",
       " '2018-04-06 01:32:29.456961759~2018-04-06 01:47:34.436947077.txt': 0,\n",
       " '2018-04-06 11:18:26.126177915~2018-04-06 11:33:35.116170745.txt': 1,\n",
       " '2018-04-06 17:05:29.239333653~2018-04-06 17:20:51.639321683.txt': 0,\n",
       " '2018-04-06 03:05:04.836837911~2018-04-06 03:21:23.736815129.txt': 0,\n",
       " '2018-04-06 19:26:14.719145309~2018-04-06 19:41:23.549124701.txt': 0,\n",
       " '2018-04-06 23:18:10.168840981~2018-04-06 23:33:15.408814807.txt': 0,\n",
       " '2018-04-06 10:48:11.796216358~2018-04-06 11:03:19.756210028.txt': 0,\n",
       " '2018-04-06 17:35:54.449302990~2018-04-06 17:51:58.069270063.txt': 0,\n",
       " '2018-04-06 07:43:36.186466909~2018-04-06 07:58:45.906442356.txt': 0,\n",
       " '2018-04-06 22:48:06.838874079~2018-04-06 23:03:09.188854937.txt': 0,\n",
       " '2018-04-06 03:52:38.836775414~2018-04-06 04:07:44.916766067.txt': 0,\n",
       " '2018-04-06 06:11:49.026587588~2018-04-06 06:26:59.116568845.txt': 0,\n",
       " '2018-04-06 07:58:45.906442356~2018-04-06 08:14:50.596423582.txt': 0,\n",
       " '2018-04-06 18:55:59.999193978~2018-04-06 19:11:08.459167047.txt': 0,\n",
       " '2018-04-06 10:33:00.136241644~2018-04-06 10:48:11.796216358.txt': 0,\n",
       " '2018-04-06 08:45:17.736385465~2018-04-06 09:01:17.176359680.txt': 0,\n",
       " '2018-04-06 14:01:32.489584227~2018-04-06 14:16:39.379560570.txt': 0,\n",
       " '2018-04-06 03:21:23.736815129~2018-04-06 03:37:30.946794613.txt': 0,\n",
       " '2018-04-06 14:46:47.869522833~2018-04-06 15:02:04.169502159.txt': 0,\n",
       " '2018-04-06 15:17:11.749480935~2018-04-06 15:32:19.019459138.txt': 0,\n",
       " '2018-04-06 02:02:43.106920556~2018-04-06 02:17:48.476901849.txt': 0,\n",
       " '2018-04-06 21:45:25.218957773~2018-04-06 22:01:32.928937945.txt': 0,\n",
       " '2018-04-06 01:02:14.677010991~2018-04-06 01:17:19.056982719.txt': 0,\n",
       " '2018-04-07 19:46:24.177188164~2018-04-07 20:01:32.217166390.txt': 0,\n",
       " '2018-04-07 04:09:33.798446888~2018-04-07 04:24:41.418423834.txt': 0,\n",
       " '2018-04-07 19:01:01.807254480~2018-04-07 19:16:09.237229592.txt': 0,\n",
       " '2018-04-07 18:45:53.477266719~2018-04-07 19:01:01.807254480.txt': 0,\n",
       " '2018-04-07 07:15:05.688195960~2018-04-07 07:30:14.418177837.txt': 0,\n",
       " '2018-04-07 16:57:58.897414026~2018-04-07 17:12:59.447391588.txt': 0,\n",
       " '2018-04-07 11:37:19.117845222~2018-04-07 11:52:25.757824807.txt': 0,\n",
       " '2018-04-07 07:00:00.038221478~2018-04-07 07:15:05.688195960.txt': 0,\n",
       " '2018-04-07 21:48:25.107022873~2018-04-07 22:03:32.547001547.txt': 0,\n",
       " '2018-04-07 15:56:28.657494782~2018-04-07 16:12:33.137472696.txt': 0,\n",
       " '2018-04-07 14:55:00.017576301~2018-04-07 15:10:05.317560451.txt': 0,\n",
       " '2018-04-07 01:48:06.728632339~2018-04-07 02:04:30.508619128.txt': 0,\n",
       " '2018-04-07 22:33:47.286964532~2018-04-07 22:48:54.756943468.txt': 0,\n",
       " '2018-04-07 09:35:00.558007579~2018-04-07 09:50:24.827995819.txt': 0,\n",
       " '2018-04-07 21:33:17.447051923~2018-04-07 21:48:25.107022873.txt': 0,\n",
       " '2018-04-07 14:24:26.557620008~2018-04-07 14:39:48.517612046.txt': 0,\n",
       " '2018-04-07 23:20:00.056902847~2018-04-07 23:35:19.036879610.txt': 0,\n",
       " '2018-04-07 20:31:40.247126462~2018-04-07 20:47:54.987106242.txt': 0,\n",
       " '2018-04-07 01:17:08.118674396~2018-04-07 01:32:15.738656469.txt': 0,\n",
       " '2018-04-07 06:29:43.938255177~2018-04-07 06:44:51.448236248.txt': 0,\n",
       " '2018-04-07 08:00:29.578138194~2018-04-07 08:15:57.788117378.txt': 0,\n",
       " '2018-04-07 20:16:39.747146568~2018-04-07 20:31:40.247126462.txt': 0,\n",
       " '2018-04-07 19:16:09.237229592~2018-04-07 19:31:16.917209075.txt': 0,\n",
       " '2018-04-07 23:35:19.036879610~2018-04-07 23:50:19.096860042.txt': 0,\n",
       " '2018-04-07 18:29:44.957289774~2018-04-07 18:45:53.477266719.txt': 0,\n",
       " '2018-04-07 00:15:00.638758012~2018-04-07 00:30:00.678739107.txt': 0,\n",
       " '2018-04-07 00:30:00.678739107~2018-04-07 00:45:48.008718917.txt': 0,\n",
       " '2018-04-07 10:36:44.657924040~2018-04-07 10:51:55.367905007.txt': 0,\n",
       " '2018-04-07 05:26:27.198342157~2018-04-07 05:43:18.328318581.txt': 0,\n",
       " '2018-04-07 11:22:08.247863262~2018-04-07 11:37:19.117845222.txt': 0,\n",
       " '2018-04-07 08:32:10.258101102~2018-04-07 08:47:18.038077804.txt': 0,\n",
       " '2018-04-07 19:31:16.917209075~2018-04-07 19:46:24.177188164.txt': 0,\n",
       " '2018-04-07 07:45:21.878154598~2018-04-07 08:00:29.578138194.txt': 0,\n",
       " '2018-04-07 08:15:57.788117378~2018-04-07 08:32:10.258101102.txt': 0,\n",
       " '2018-04-07 23:03:54.806921896~2018-04-07 23:20:00.056902847.txt': 0,\n",
       " '2018-04-07 17:43:22.657350334~2018-04-07 17:59:27.637330849.txt': 0,\n",
       " '2018-04-07 03:07:00.248525720~2018-04-07 03:23:07.518503381.txt': 0,\n",
       " '2018-04-07 06:44:51.448236248~2018-04-07 07:00:00.038221478.txt': 0,\n",
       " '2018-04-07 10:21:34.747944381~2018-04-07 10:36:44.657924040.txt': 0,\n",
       " '2018-04-07 22:03:32.547001547~2018-04-07 22:18:38.656982046.txt': 0,\n",
       " '2018-04-07 18:14:38.467310967~2018-04-07 18:29:44.957289774.txt': 0,\n",
       " '2018-04-07 15:26:12.217536522~2018-04-07 15:41:21.207514200.txt': 0,\n",
       " '2018-04-07 02:20:37.378590706~2018-04-07 02:36:02.398566241.txt': 0,\n",
       " '2018-04-07 16:12:33.137472696~2018-04-07 16:27:43.727457066.txt': 0,\n",
       " '2018-04-07 02:51:53.698546766~2018-04-07 03:07:00.248525720.txt': 0,\n",
       " '2018-04-07 10:51:55.367905007~2018-04-07 11:07:01.987882382.txt': 0,\n",
       " '2018-04-07 07:30:14.418177837~2018-04-07 07:45:21.878154598.txt': 0,\n",
       " '2018-04-07 21:18:08.817071709~2018-04-07 21:33:17.447051923.txt': 0,\n",
       " '2018-04-07 15:41:21.207514200~2018-04-07 15:56:28.657494782.txt': 0,\n",
       " '2018-04-07 22:18:38.656982046~2018-04-07 22:33:47.286964532.txt': 0,\n",
       " '2018-04-07 06:14:36.128277413~2018-04-07 06:29:43.938255177.txt': 0,\n",
       " '2018-04-07 05:43:18.328318581~2018-04-07 05:59:26.278297788.txt': 0,\n",
       " '2018-04-07 03:54:12.858461862~2018-04-07 04:09:33.798446888.txt': 0,\n",
       " '2018-04-07 04:39:48.788404454~2018-04-07 04:55:33.038382167.txt': 0,\n",
       " '2018-04-07 05:59:26.278297788~2018-04-07 06:14:36.128277413.txt': 0,\n",
       " '2018-04-07 13:38:18.347682404~2018-04-07 13:53:24.767661961.txt': 0,\n",
       " '2018-04-07 15:10:05.317560451~2018-04-07 15:26:12.217536522.txt': 0,\n",
       " '2018-04-07 09:19:07.038030612~2018-04-07 09:35:00.558007579.txt': 0,\n",
       " '2018-04-07 11:52:25.757824807~2018-04-07 12:07:33.167805575.txt': 0,\n",
       " '2018-04-07 12:22:37.237783089~2018-04-07 12:37:47.867767543.txt': 0,\n",
       " '2018-04-07 12:52:55.687743440~2018-04-07 13:08:03.297721130.txt': 0,\n",
       " '2018-04-07 13:08:03.297721130~2018-04-07 13:23:07.587702371.txt': 0,\n",
       " '2018-04-07 09:03:01.168052225~2018-04-07 09:19:07.038030612.txt': 0,\n",
       " '2018-04-07 21:03:02.457083343~2018-04-07 21:18:08.817071709.txt': 0,\n",
       " '2018-04-07 11:07:01.987882382~2018-04-07 11:22:08.247863262.txt': 0,\n",
       " '2018-04-07 12:37:47.867767543~2018-04-07 12:52:55.687743440.txt': 0,\n",
       " '2018-04-07 16:42:51.697434133~2018-04-07 16:57:58.897414026.txt': 0,\n",
       " '2018-04-07 17:28:15.007384019~2018-04-07 17:43:22.657350334.txt': 0,\n",
       " '2018-04-07 20:47:54.987106242~2018-04-07 21:03:02.457083343.txt': 0,\n",
       " '2018-04-07 05:11:04.578374282~2018-04-07 05:26:27.198342157.txt': 0,\n",
       " '2018-04-07 17:59:27.637330849~2018-04-07 18:14:38.467310967.txt': 0,\n",
       " '2018-04-07 02:04:30.508619128~2018-04-07 02:20:37.378590706.txt': 0,\n",
       " '2018-04-07 01:32:15.738656469~2018-04-07 01:48:06.728632339.txt': 0,\n",
       " '2018-04-07 03:23:07.518503381~2018-04-07 03:38:21.038486955.txt': 0,\n",
       " '2018-04-07 13:53:24.767661961~2018-04-07 14:08:33.897638680.txt': 0,\n",
       " '2018-04-07 09:50:24.827995819~2018-04-07 10:06:03.197964940.txt': 0,\n",
       " '2018-04-07 02:36:02.398566241~2018-04-07 02:51:53.698546766.txt': 0,\n",
       " '2018-04-07 20:01:32.217166390~2018-04-07 20:16:39.747146568.txt': 0,\n",
       " '2018-04-07 16:27:43.727457066~2018-04-07 16:42:51.697434133.txt': 0,\n",
       " '2018-04-07 12:07:33.167805575~2018-04-07 12:22:37.237783089.txt': 0,\n",
       " '2018-04-07 00:00:00.008778912~2018-04-07 00:15:00.638758012.txt': 0,\n",
       " '2018-04-07 00:45:48.008718917~2018-04-07 01:01:00.048699594.txt': 0,\n",
       " '2018-04-07 01:01:00.048699594~2018-04-07 01:17:08.118674396.txt': 0,\n",
       " '2018-04-07 03:38:21.038486955~2018-04-07 03:54:12.858461862.txt': 0,\n",
       " '2018-04-07 14:39:48.517612046~2018-04-07 14:55:00.017576301.txt': 0,\n",
       " '2018-04-07 04:24:41.418423834~2018-04-07 04:39:48.788404454.txt': 0,\n",
       " '2018-04-07 17:12:59.447391588~2018-04-07 17:28:15.007384019.txt': 0,\n",
       " '2018-04-07 10:06:03.197964940~2018-04-07 10:21:34.747944381.txt': 0,\n",
       " '2018-04-07 13:23:07.587702371~2018-04-07 13:38:18.347682404.txt': 0,\n",
       " '2018-04-07 08:47:18.038077804~2018-04-07 09:03:01.168052225.txt': 0,\n",
       " '2018-04-07 14:08:33.897638680~2018-04-07 14:24:26.557620008.txt': 0,\n",
       " '2018-04-07 22:48:54.756943468~2018-04-07 23:03:54.806921896.txt': 0,\n",
       " '2018-04-07 04:55:33.038382167~2018-04-07 05:11:04.578374282.txt': 0}"
      ]
     },
     "execution_count": 30,
     "metadata": {},
     "output_type": "execute_result"
    }
   ],
   "source": [
    "labels"
   ]
  },
  {
   "cell_type": "markdown",
   "metadata": {},
   "source": [
    "## 统计与攻击相关的edge数量"
   ]
  },
  {
   "cell_type": "code",
   "execution_count": 31,
   "metadata": {},
   "outputs": [],
   "source": [
    "def keyword_hit(line):\n",
    "    attack_nodes=[\n",
    "            'vUgefal',        \n",
    "        '/var/log/devc',\n",
    "        'nginx',   \n",
    "        '81.49.200.166',\n",
    "      '78.205.235.65',\n",
    "        '200.36.109.214',\n",
    "        '139.123.0.113',\n",
    "        '152.111.159.139',\n",
    "        '61.167.39.128',\n",
    "             \n",
    "        ]\n",
    "    flag=False\n",
    "    for i in attack_nodes:\n",
    "        if i in line:\n",
    "            flag=True\n",
    "            break\n",
    "    return flag\n",
    "\n",
    "files=[]\n",
    "temp_file=[\n",
    "   '2018-04-06 11:18:26.126177915~2018-04-06 11:33:35.116170745.txt',\n",
    "    '2018-04-06 11:33:35.116170745~2018-04-06 11:48:42.606135188.txt',\n",
    "    '2018-04-06 11:48:42.606135188~2018-04-06 12:03:50.186115455.txt',\n",
    "    '2018-04-06 12:03:50.186115455~2018-04-06 14:01:32.489584227.txt',\n",
    "]\n",
    "for f in temp_file:\n",
    "    files.append(\"./graph_4_6_share/\"+f)\n",
    "    "
   ]
  },
  {
   "cell_type": "code",
   "execution_count": 32,
   "metadata": {},
   "outputs": [
    {
     "data": {
      "text/plain": [
       "['./graph_4_6_share/2018-04-06 11:18:26.126177915~2018-04-06 11:33:35.116170745.txt',\n",
       " './graph_4_6_share/2018-04-06 11:33:35.116170745~2018-04-06 11:48:42.606135188.txt',\n",
       " './graph_4_6_share/2018-04-06 11:48:42.606135188~2018-04-06 12:03:50.186115455.txt',\n",
       " './graph_4_6_share/2018-04-06 12:03:50.186115455~2018-04-06 14:01:32.489584227.txt']"
      ]
     },
     "execution_count": 32,
     "metadata": {},
     "output_type": "execute_result"
    }
   ],
   "source": [
    "files"
   ]
  },
  {
   "cell_type": "code",
   "execution_count": 33,
   "metadata": {},
   "outputs": [
    {
     "name": "stdout",
     "output_type": "stream",
     "text": [
      "1248\n"
     ]
    }
   ],
   "source": [
    "attack_edge_count=0\n",
    "for fpath in (files):\n",
    "    f=open(fpath)\n",
    "    for line in f:\n",
    "        if keyword_hit(line):\n",
    "            attack_edge_count+=1\n",
    "print(attack_edge_count)"
   ]
  },
  {
   "cell_type": "markdown",
   "metadata": {},
   "source": [
    "## 测试  4-6\\~7"
   ]
  },
  {
   "cell_type": "code",
   "execution_count": 16,
   "metadata": {},
   "outputs": [],
   "source": [
    "# 模型训练完以后执行下面这些测试函数，获取model对测试数据的重构误差输出"
   ]
  },
  {
   "cell_type": "code",
   "execution_count": 22,
   "metadata": {
    "scrolled": true
   },
   "outputs": [
    {
     "name": "stdout",
     "output_type": "stream",
     "text": [
      "after merge: TemporalData(dst=[445378], msg=[445378, 39], src=[445378], t=[445378])\n",
      "Time: 2018-04-02 18:07:41.933350905~2018-04-02 18:23:52.893332321, Loss: 0.5053, Nodes_count: 154, Cost Time: 0.95s\n",
      "Time: 2018-04-02 18:23:52.893332321~2018-04-02 18:39:05.813316237, Loss: 0.6493, Nodes_count: 171, Cost Time: 1.55s\n",
      "Time: 2018-04-02 18:39:05.813316237~2018-04-02 18:55:00.023294921, Loss: 0.6296, Nodes_count: 171, Cost Time: 2.14s\n",
      "Time: 2018-04-02 18:55:00.023294921~2018-04-02 19:10:00.033270003, Loss: 0.6499, Nodes_count: 181, Cost Time: 2.73s\n",
      "Time: 2018-04-02 19:10:00.033270003~2018-04-02 19:25:30.803248092, Loss: 0.4138, Nodes_count: 183, Cost Time: 3.65s\n",
      "Time: 2018-04-02 19:25:30.803248092~2018-04-02 19:40:44.033225802, Loss: 0.6369, Nodes_count: 183, Cost Time: 4.26s\n",
      "Time: 2018-04-02 19:40:44.033225802~2018-04-02 19:55:53.713212284, Loss: 0.6438, Nodes_count: 183, Cost Time: 4.85s\n",
      "Time: 2018-04-02 19:55:53.713212284~2018-04-02 20:11:03.013189297, Loss: 0.7162, Nodes_count: 209, Cost Time: 5.44s\n",
      "Time: 2018-04-02 20:11:03.013189297~2018-04-02 20:26:12.283169701, Loss: 0.4025, Nodes_count: 209, Cost Time: 6.36s\n",
      "Time: 2018-04-02 20:26:12.283169701~2018-04-02 20:42:21.373156934, Loss: 0.6465, Nodes_count: 209, Cost Time: 6.96s\n",
      "Time: 2018-04-02 20:42:21.373156934~2018-04-02 20:57:32.003124094, Loss: 0.6503, Nodes_count: 209, Cost Time: 7.55s\n",
      "Time: 2018-04-02 20:57:32.003124094~2018-04-02 21:12:41.253102304, Loss: 0.6529, Nodes_count: 209, Cost Time: 8.14s\n",
      "Time: 2018-04-02 21:12:41.253102304~2018-04-02 21:27:50.353085202, Loss: 0.4171, Nodes_count: 227, Cost Time: 9.06s\n",
      "Time: 2018-04-02 21:27:50.353085202~2018-04-02 21:42:59.613065024, Loss: 0.6275, Nodes_count: 227, Cost Time: 9.67s\n",
      "Time: 2018-04-02 21:42:59.613065024~2018-04-02 21:58:08.803048494, Loss: 0.6497, Nodes_count: 228, Cost Time: 10.26s\n",
      "Time: 2018-04-02 21:58:08.803048494~2018-04-02 22:13:18.103024361, Loss: 0.6521, Nodes_count: 230, Cost Time: 10.85s\n",
      "Time: 2018-04-02 22:13:18.103024361~2018-04-02 22:29:28.093003608, Loss: 0.4143, Nodes_count: 232, Cost Time: 11.77s\n",
      "Time: 2018-04-02 22:29:28.093003608~2018-04-02 22:44:37.462982730, Loss: 0.6474, Nodes_count: 234, Cost Time: 12.38s\n",
      "Time: 2018-04-02 22:44:37.462982730~2018-04-02 23:00:00.022964816, Loss: 0.3618, Nodes_count: 1891, Cost Time: 14.48s\n",
      "Time: 2018-04-02 23:00:00.022964816~2018-04-02 23:15:55.252940123, Loss: 1.4208, Nodes_count: 36536, Cost Time: 23.58s\n",
      "Time: 2018-04-02 23:15:55.252940123~2018-04-02 23:31:04.232919761, Loss: 0.3986, Nodes_count: 36537, Cost Time: 24.88s\n",
      "Time: 2018-04-02 23:31:04.232919761~2018-04-02 23:47:14.332896183, Loss: 0.6286, Nodes_count: 36537, Cost Time: 25.54s\n"
     ]
    }
   ],
   "source": [
    "model=torch.load(\"./models/model_saved_share.pt\",map_location=device)\n",
    "memory,gnn, link_pred,neighbor_loader=model\n",
    "ans_4_2=test_day_new(graph_4_2,\"graph_4_2_share\")"
   ]
  },
  {
   "cell_type": "code",
   "execution_count": 23,
   "metadata": {
    "scrolled": true
   },
   "outputs": [
    {
     "name": "stdout",
     "output_type": "stream",
     "text": [
      "after merge: TemporalData(dst=[1758192], msg=[1758192, 39], src=[1758192], t=[1758192])\n",
      "Time: 2018-04-03 00:00:00.002884014~2018-04-03 00:15:29.682868556, Loss: 0.7358, Nodes_count: 15488, Cost Time: 6.66s\n",
      "Time: 2018-04-03 00:15:29.682868556~2018-04-03 00:30:39.652840273, Loss: 0.4029, Nodes_count: 15501, Cost Time: 7.85s\n",
      "Time: 2018-04-03 00:30:39.652840273~2018-04-03 00:45:48.612820751, Loss: 0.6497, Nodes_count: 15501, Cost Time: 8.45s\n",
      "Time: 2018-04-03 00:45:48.612820751~2018-04-03 01:00:57.722800088, Loss: 0.6538, Nodes_count: 15501, Cost Time: 9.11s\n",
      "Time: 2018-04-03 01:00:57.722800088~2018-04-03 01:17:06.072775830, Loss: 0.6521, Nodes_count: 15515, Cost Time: 9.70s\n",
      "Time: 2018-04-03 01:17:06.072775830~2018-04-03 01:32:16.902757103, Loss: 0.4067, Nodes_count: 15516, Cost Time: 10.62s\n",
      "Time: 2018-04-03 01:32:16.902757103~2018-04-03 01:47:26.372745724, Loss: 0.6390, Nodes_count: 15516, Cost Time: 11.22s\n",
      "Time: 2018-04-03 01:47:26.372745724~2018-04-03 02:02:35.472713620, Loss: 0.6504, Nodes_count: 15516, Cost Time: 11.81s\n",
      "Time: 2018-04-03 02:02:35.472713620~2018-04-03 02:18:45.112693532, Loss: 0.6483, Nodes_count: 15516, Cost Time: 12.40s\n",
      "Time: 2018-04-03 02:18:45.112693532~2018-04-03 02:33:53.962677579, Loss: 0.4113, Nodes_count: 15517, Cost Time: 13.32s\n",
      "Time: 2018-04-03 02:33:53.962677579~2018-04-03 02:50:00.042652683, Loss: 0.6283, Nodes_count: 15517, Cost Time: 13.92s\n",
      "Time: 2018-04-03 02:50:00.042652683~2018-04-03 03:06:13.172630178, Loss: 0.6612, Nodes_count: 15517, Cost Time: 14.57s\n",
      "Time: 2018-04-03 03:06:13.172630178~2018-04-03 03:21:22.182610812, Loss: 0.4143, Nodes_count: 15536, Cost Time: 15.49s\n",
      "Time: 2018-04-03 03:21:22.182610812~2018-04-03 03:36:31.322590462, Loss: 0.6422, Nodes_count: 15536, Cost Time: 16.10s\n",
      "Time: 2018-04-03 03:36:31.322590462~2018-04-03 03:52:39.762567552, Loss: 0.6426, Nodes_count: 15536, Cost Time: 16.69s\n",
      "Time: 2018-04-03 03:52:39.762567552~2018-04-03 04:07:48.932554472, Loss: 0.6543, Nodes_count: 15536, Cost Time: 17.28s\n",
      "Time: 2018-04-03 04:07:48.932554472~2018-04-03 04:22:59.082526141, Loss: 0.4155, Nodes_count: 15537, Cost Time: 18.22s\n",
      "Time: 2018-04-03 04:22:59.082526141~2018-04-03 04:38:08.082505692, Loss: 0.6292, Nodes_count: 15537, Cost Time: 18.83s\n",
      "Time: 2018-04-03 04:38:08.082505692~2018-04-03 04:54:17.692484909, Loss: 0.6486, Nodes_count: 15537, Cost Time: 19.41s\n",
      "Time: 2018-04-03 04:54:17.692484909~2018-04-03 05:09:26.152465960, Loss: 0.6542, Nodes_count: 15537, Cost Time: 20.00s\n",
      "Time: 2018-04-03 05:09:26.152465960~2018-04-03 05:24:35.452450195, Loss: 0.4111, Nodes_count: 15538, Cost Time: 20.94s\n",
      "Time: 2018-04-03 05:24:35.452450195~2018-04-03 05:40:00.062424044, Loss: 0.6308, Nodes_count: 15538, Cost Time: 21.55s\n",
      "Time: 2018-04-03 05:40:00.062424044~2018-04-03 05:55:53.762405238, Loss: 0.6515, Nodes_count: 15538, Cost Time: 22.13s\n",
      "Time: 2018-04-03 05:55:53.762405238~2018-04-03 06:11:03.082382573, Loss: 0.6541, Nodes_count: 15538, Cost Time: 22.72s\n",
      "Time: 2018-04-03 06:11:03.082382573~2018-04-03 06:26:13.602362234, Loss: 0.4107, Nodes_count: 15539, Cost Time: 23.64s\n",
      "Time: 2018-04-03 06:26:13.602362234~2018-04-03 06:42:20.762338399, Loss: 0.6315, Nodes_count: 15539, Cost Time: 24.25s\n",
      "Time: 2018-04-03 06:42:20.762338399~2018-04-03 06:57:30.792322661, Loss: 0.6507, Nodes_count: 15539, Cost Time: 24.83s\n",
      "Time: 2018-04-03 06:57:30.792322661~2018-04-03 07:12:40.092301147, Loss: 0.6514, Nodes_count: 15539, Cost Time: 25.42s\n",
      "Time: 2018-04-03 07:12:40.092301147~2018-04-03 07:27:50.572278225, Loss: 0.3992, Nodes_count: 15540, Cost Time: 26.34s\n",
      "Time: 2018-04-03 07:27:50.572278225~2018-04-03 07:44:00.032258285, Loss: 0.6466, Nodes_count: 15540, Cost Time: 26.94s\n",
      "Time: 2018-04-03 07:44:00.032258285~2018-04-03 07:59:09.032235604, Loss: 0.6513, Nodes_count: 15540, Cost Time: 27.53s\n",
      "Time: 2018-04-03 07:59:09.032235604~2018-04-03 08:14:17.872216333, Loss: 0.6831, Nodes_count: 15607, Cost Time: 28.18s\n",
      "Time: 2018-04-03 08:14:17.872216333~2018-04-03 08:30:26.562195178, Loss: 0.5226, Nodes_count: 15652, Cost Time: 29.27s\n",
      "Time: 2018-04-03 08:30:26.562195178~2018-04-03 08:46:20.122827975, Loss: 0.9361, Nodes_count: 15783, Cost Time: 30.34s\n",
      "Time: 2018-04-03 08:46:20.122827975~2018-04-03 09:02:20.242151427, Loss: 0.8552, Nodes_count: 15784, Cost Time: 31.07s\n",
      "Time: 2018-04-03 09:02:20.242151427~2018-04-03 09:18:27.802133558, Loss: 0.6470, Nodes_count: 15784, Cost Time: 31.66s\n",
      "Time: 2018-04-03 09:18:27.802133558~2018-04-03 09:33:52.182119677, Loss: 0.4355, Nodes_count: 15787, Cost Time: 32.77s\n",
      "Time: 2018-04-03 09:33:52.182119677~2018-04-03 09:50:41.822087266, Loss: 0.6870, Nodes_count: 15793, Cost Time: 33.49s\n",
      "Time: 2018-04-03 09:50:41.822087266~2018-04-03 10:06:52.172070506, Loss: 0.6549, Nodes_count: 15793, Cost Time: 34.14s\n",
      "Time: 2018-04-03 10:06:52.172070506~2018-04-03 10:22:56.882043909, Loss: 0.4407, Nodes_count: 15802, Cost Time: 35.12s\n",
      "Time: 2018-04-03 10:22:56.882043909~2018-04-03 10:38:04.262022171, Loss: 0.8393, Nodes_count: 15837, Cost Time: 36.07s\n",
      "Time: 2018-04-03 10:38:04.262022171~2018-04-03 10:53:09.112001488, Loss: 0.8467, Nodes_count: 15872, Cost Time: 37.07s\n",
      "Time: 2018-04-03 10:53:09.112001488~2018-04-03 11:08:22.471986912, Loss: 0.9555, Nodes_count: 15934, Cost Time: 38.65s\n",
      "Time: 2018-04-03 11:08:22.471986912~2018-04-03 11:23:30.151962725, Loss: 0.4814, Nodes_count: 15935, Cost Time: 39.73s\n",
      "Time: 2018-04-03 11:23:30.151962725~2018-04-03 11:38:36.571944378, Loss: 0.8082, Nodes_count: 15939, Cost Time: 40.57s\n",
      "Time: 2018-04-03 11:38:36.571944378~2018-04-03 11:54:33.731921062, Loss: 0.8634, Nodes_count: 15963, Cost Time: 41.63s\n",
      "Time: 2018-04-03 11:54:33.731921062~2018-04-03 12:10:52.921898290, Loss: 0.8237, Nodes_count: 15974, Cost Time: 42.66s\n",
      "Time: 2018-04-03 12:10:52.921898290~2018-04-03 12:26:01.481877955, Loss: 0.5495, Nodes_count: 15986, Cost Time: 43.82s\n",
      "Time: 2018-04-03 12:26:01.481877955~2018-04-03 12:42:05.851859667, Loss: 0.6800, Nodes_count: 15988, Cost Time: 44.49s\n",
      "Time: 2018-04-03 12:42:05.851859667~2018-04-03 12:57:16.391837675, Loss: 0.7241, Nodes_count: 15990, Cost Time: 45.20s\n",
      "Time: 2018-04-03 12:57:16.391837675~2018-04-03 13:12:20.341816702, Loss: 0.8934, Nodes_count: 16015, Cost Time: 46.25s\n",
      "Time: 2018-04-03 13:12:20.341816702~2018-04-03 13:27:31.681797391, Loss: 0.7038, Nodes_count: 16042, Cost Time: 47.77s\n",
      "Time: 2018-04-03 13:27:31.681797391~2018-04-03 13:43:39.951777521, Loss: 0.8535, Nodes_count: 16110, Cost Time: 48.80s\n",
      "Time: 2018-04-03 13:43:39.951777521~2018-04-03 13:58:47.621755321, Loss: 0.7182, Nodes_count: 16112, Cost Time: 49.52s\n",
      "Time: 2018-04-03 13:58:47.621755321~2018-04-03 14:14:20.321741850, Loss: 0.9815, Nodes_count: 16410, Cost Time: 50.96s\n",
      "Time: 2018-04-03 14:14:20.321741850~2018-04-03 14:30:00.651725437, Loss: 0.5273, Nodes_count: 16414, Cost Time: 52.09s\n",
      "Time: 2018-04-03 14:30:00.651725437~2018-04-03 14:45:00.861691985, Loss: 0.8698, Nodes_count: 16421, Cost Time: 53.11s\n",
      "Time: 2018-04-03 14:45:00.861691985~2018-04-03 15:01:15.111669905, Loss: 0.8141, Nodes_count: 16471, Cost Time: 53.95s\n",
      "Time: 2018-04-03 15:01:15.111669905~2018-04-03 15:16:23.981648976, Loss: 0.7387, Nodes_count: 16476, Cost Time: 54.66s\n",
      "Time: 2018-04-03 15:16:23.981648976~2018-04-03 15:32:34.221631303, Loss: 0.6466, Nodes_count: 16498, Cost Time: 56.10s\n",
      "Time: 2018-04-03 15:32:34.221631303~2018-04-03 15:48:39.081609492, Loss: 0.6778, Nodes_count: 16498, Cost Time: 56.79s\n",
      "Time: 2018-04-03 15:48:39.081609492~2018-04-03 16:04:50.021586260, Loss: 0.7817, Nodes_count: 16537, Cost Time: 57.61s\n",
      "Time: 2018-04-03 16:04:50.021586260~2018-04-03 16:19:53.451573595, Loss: 0.8355, Nodes_count: 16667, Cost Time: 59.33s\n",
      "Time: 2018-04-03 16:19:53.451573595~2018-04-03 16:35:05.121545707, Loss: 0.8179, Nodes_count: 16682, Cost Time: 60.26s\n",
      "Time: 2018-04-03 16:35:05.121545707~2018-04-03 16:50:19.611533729, Loss: 0.7197, Nodes_count: 16682, Cost Time: 60.98s\n",
      "Time: 2018-04-03 16:50:19.611533729~2018-04-03 17:05:20.121504899, Loss: 0.9280, Nodes_count: 16714, Cost Time: 62.09s\n",
      "Time: 2018-04-03 17:05:20.121504899~2018-04-03 17:20:27.541485442, Loss: 0.4043, Nodes_count: 16715, Cost Time: 63.04s\n",
      "Time: 2018-04-03 17:20:27.541485442~2018-04-03 17:36:35.351467883, Loss: 0.4290, Nodes_count: 18366, Cost Time: 65.34s\n",
      "Time: 2018-04-03 17:36:35.351467883~2018-04-03 17:51:43.161442042, Loss: 0.6321, Nodes_count: 18366, Cost Time: 66.01s\n"
     ]
    },
    {
     "name": "stdout",
     "output_type": "stream",
     "text": [
      "Time: 2018-04-03 17:51:43.161442042~2018-04-03 18:07:48.711422162, Loss: 0.8387, Nodes_count: 18386, Cost Time: 66.94s\n",
      "Time: 2018-04-03 18:07:48.711422162~2018-04-03 18:23:56.701398779, Loss: 0.6349, Nodes_count: 18411, Cost Time: 68.28s\n",
      "Time: 2018-04-03 18:23:56.701398779~2018-04-03 18:40:05.281378008, Loss: 0.6717, Nodes_count: 18413, Cost Time: 68.96s\n",
      "Time: 2018-04-03 18:40:05.281378008~2018-04-03 18:55:13.631357905, Loss: 0.6528, Nodes_count: 18413, Cost Time: 69.55s\n",
      "Time: 2018-04-03 18:55:13.631357905~2018-04-03 19:11:19.271336540, Loss: 0.6733, Nodes_count: 18415, Cost Time: 70.20s\n",
      "Time: 2018-04-03 19:11:19.271336540~2018-04-03 19:27:28.951316637, Loss: 0.4407, Nodes_count: 18418, Cost Time: 71.18s\n",
      "Time: 2018-04-03 19:27:28.951316637~2018-04-03 19:43:37.151290672, Loss: 0.6598, Nodes_count: 18420, Cost Time: 71.85s\n",
      "Time: 2018-04-03 19:43:37.151290672~2018-04-03 19:58:44.441279824, Loss: 0.6484, Nodes_count: 18420, Cost Time: 72.44s\n",
      "Time: 2018-04-03 19:58:44.441279824~2018-04-03 20:14:51.231247894, Loss: 0.6920, Nodes_count: 18434, Cost Time: 73.09s\n",
      "Time: 2018-04-03 20:14:51.231247894~2018-04-03 20:29:59.971228237, Loss: 0.4100, Nodes_count: 18435, Cost Time: 74.02s\n",
      "Time: 2018-04-03 20:29:59.971228237~2018-04-03 20:46:07.801208359, Loss: 0.6775, Nodes_count: 18437, Cost Time: 74.68s\n",
      "Time: 2018-04-03 20:46:07.801208359~2018-04-03 21:02:12.641185127, Loss: 0.6710, Nodes_count: 18439, Cost Time: 75.33s\n",
      "Time: 2018-04-03 21:02:12.641185127~2018-04-03 21:17:23.161167474, Loss: 0.6527, Nodes_count: 18439, Cost Time: 75.93s\n",
      "Time: 2018-04-03 21:17:23.161167474~2018-04-03 21:33:00.081145026, Loss: 0.4422, Nodes_count: 18442, Cost Time: 76.91s\n",
      "Time: 2018-04-03 21:33:00.081145026~2018-04-03 21:49:35.501124075, Loss: 0.6703, Nodes_count: 18444, Cost Time: 77.58s\n",
      "Time: 2018-04-03 21:49:35.501124075~2018-04-03 22:04:46.871102664, Loss: 0.6773, Nodes_count: 18448, Cost Time: 78.23s\n",
      "Time: 2018-04-03 22:04:46.871102664~2018-04-03 22:19:54.151081596, Loss: 0.4282, Nodes_count: 18452, Cost Time: 79.16s\n",
      "Time: 2018-04-03 22:19:54.151081596~2018-04-03 22:35:00.301063638, Loss: 0.6572, Nodes_count: 18454, Cost Time: 79.77s\n",
      "Time: 2018-04-03 22:35:00.301063638~2018-04-03 22:51:09.961039017, Loss: 0.6574, Nodes_count: 18457, Cost Time: 80.42s\n",
      "Time: 2018-04-03 22:51:09.961039017~2018-04-03 23:06:16.061038493, Loss: 1.3440, Nodes_count: 54073, Cost Time: 90.22s\n",
      "Time: 2018-04-03 23:06:16.061038493~2018-04-03 23:21:25.020999438, Loss: 1.1371, Nodes_count: 56756, Cost Time: 92.70s\n",
      "Time: 2018-04-03 23:21:25.020999438~2018-04-03 23:36:32.920980648, Loss: 0.6459, Nodes_count: 56758, Cost Time: 93.41s\n",
      "Time: 2018-04-03 23:36:32.920980648~2018-04-03 23:52:40.360959277, Loss: 0.8211, Nodes_count: 71075, Cost Time: 101.82s\n"
     ]
    }
   ],
   "source": [
    "model=torch.load(\"./models/model_saved_share.pt\",map_location=device)\n",
    "memory,gnn, link_pred,neighbor_loader=model\n",
    "ans_4_3=test_day_new(graph_4_3,\"graph_4_3_share\")"
   ]
  },
  {
   "cell_type": "code",
   "execution_count": 24,
   "metadata": {},
   "outputs": [
    {
     "name": "stdout",
     "output_type": "stream",
     "text": [
      "after merge: TemporalData(dst=[1677700], msg=[1677700, 39], src=[1677700], t=[1677700])\n",
      "Time: 2018-04-04 00:00:00.010948818~2018-04-04 00:15:00.870926016, Loss: 0.7506, Nodes_count: 118, Cost Time: 0.62s\n",
      "Time: 2018-04-04 00:15:00.870926016~2018-04-04 00:30:58.170905986, Loss: 0.4211, Nodes_count: 133, Cost Time: 1.54s\n",
      "Time: 2018-04-04 00:30:58.170905986~2018-04-04 00:46:06.990886590, Loss: 0.6696, Nodes_count: 150, Cost Time: 2.20s\n",
      "Time: 2018-04-04 00:46:06.990886590~2018-04-04 01:02:14.890863698, Loss: 0.6861, Nodes_count: 152, Cost Time: 2.85s\n",
      "Time: 2018-04-04 01:02:14.890863698~2018-04-04 01:18:19.710844541, Loss: 0.6377, Nodes_count: 152, Cost Time: 3.44s\n",
      "Time: 2018-04-04 01:18:19.710844541~2018-04-04 01:33:30.220824602, Loss: 0.4396, Nodes_count: 155, Cost Time: 4.43s\n",
      "Time: 2018-04-04 01:33:30.220824602~2018-04-04 01:48:37.810800940, Loss: 0.6759, Nodes_count: 157, Cost Time: 5.04s\n",
      "Time: 2018-04-04 01:48:37.810800940~2018-04-04 02:03:45.210785278, Loss: 0.6626, Nodes_count: 157, Cost Time: 5.63s\n",
      "Time: 2018-04-04 02:03:45.210785278~2018-04-04 02:18:49.320762077, Loss: 0.6609, Nodes_count: 159, Cost Time: 6.22s\n",
      "Time: 2018-04-04 02:18:49.320762077~2018-04-04 02:34:00.490739966, Loss: 0.4381, Nodes_count: 162, Cost Time: 7.20s\n",
      "Time: 2018-04-04 02:34:00.490739966~2018-04-04 02:50:06.870720962, Loss: 0.6547, Nodes_count: 162, Cost Time: 7.81s\n",
      "Time: 2018-04-04 02:50:06.870720962~2018-04-04 03:06:13.000698850, Loss: 0.6698, Nodes_count: 164, Cost Time: 8.45s\n",
      "Time: 2018-04-04 03:06:13.000698850~2018-04-04 03:21:20.550673131, Loss: 0.4208, Nodes_count: 184, Cost Time: 9.38s\n",
      "Time: 2018-04-04 03:21:20.550673131~2018-04-04 03:36:31.050656710, Loss: 0.6675, Nodes_count: 186, Cost Time: 10.04s\n",
      "Time: 2018-04-04 03:36:31.050656710~2018-04-04 03:52:38.690637041, Loss: 0.6489, Nodes_count: 186, Cost Time: 10.64s\n",
      "Time: 2018-04-04 03:52:38.690637041~2018-04-04 04:08:44.500611911, Loss: 0.6736, Nodes_count: 188, Cost Time: 11.29s\n",
      "Time: 2018-04-04 04:08:44.500611911~2018-04-04 04:23:51.720596582, Loss: 0.4171, Nodes_count: 189, Cost Time: 12.21s\n",
      "Time: 2018-04-04 04:23:51.720596582~2018-04-04 04:40:01.690577707, Loss: 0.6662, Nodes_count: 191, Cost Time: 12.88s\n",
      "Time: 2018-04-04 04:40:01.690577707~2018-04-04 04:56:08.270552992, Loss: 0.6673, Nodes_count: 193, Cost Time: 13.52s\n",
      "Time: 2018-04-04 04:56:08.270552992~2018-04-04 05:11:16.000530606, Loss: 0.6560, Nodes_count: 193, Cost Time: 14.12s\n",
      "Time: 2018-04-04 05:11:16.000530606~2018-04-04 05:27:25.040509172, Loss: 0.4356, Nodes_count: 196, Cost Time: 15.09s\n",
      "Time: 2018-04-04 05:27:25.040509172~2018-04-04 05:42:32.690488278, Loss: 0.6342, Nodes_count: 196, Cost Time: 15.70s\n",
      "Time: 2018-04-04 05:42:32.690488278~2018-04-04 05:57:38.210470079, Loss: 0.6825, Nodes_count: 198, Cost Time: 16.29s\n",
      "Time: 2018-04-04 05:57:38.210470079~2018-04-04 06:12:48.303326249, Loss: 0.6698, Nodes_count: 200, Cost Time: 16.94s\n",
      "Time: 2018-04-04 06:12:48.303326249~2018-04-04 06:28:55.340425451, Loss: 0.4159, Nodes_count: 201, Cost Time: 17.86s\n",
      "Time: 2018-04-04 06:28:55.340425451~2018-04-04 06:44:00.040406349, Loss: 0.6593, Nodes_count: 203, Cost Time: 18.47s\n",
      "Time: 2018-04-04 06:44:00.040406349~2018-04-04 06:59:11.590385161, Loss: 0.6672, Nodes_count: 205, Cost Time: 19.11s\n",
      "Time: 2018-04-04 06:59:11.590385161~2018-04-04 07:14:16.830369865, Loss: 0.6850, Nodes_count: 207, Cost Time: 19.71s\n",
      "Time: 2018-04-04 07:14:16.830369865~2018-04-04 07:29:26.510348594, Loss: 0.4149, Nodes_count: 208, Cost Time: 20.63s\n",
      "Time: 2018-04-04 07:29:26.510348594~2018-04-04 07:45:00.700323845, Loss: 0.6704, Nodes_count: 211, Cost Time: 21.41s\n",
      "Time: 2018-04-04 07:45:00.700323845~2018-04-04 08:00:41.360303366, Loss: 0.6964, Nodes_count: 214, Cost Time: 22.06s\n",
      "Time: 2018-04-04 08:00:41.360303366~2018-04-04 08:15:50.110285366, Loss: 0.6393, Nodes_count: 214, Cost Time: 22.66s\n",
      "Time: 2018-04-04 08:15:50.110285366~2018-04-04 08:30:56.530263293, Loss: 0.4270, Nodes_count: 217, Cost Time: 23.59s\n",
      "Time: 2018-04-04 08:30:56.530263293~2018-04-04 08:46:04.980242418, Loss: 0.6554, Nodes_count: 217, Cost Time: 24.20s\n",
      "Time: 2018-04-04 08:46:04.980242418~2018-04-04 09:01:11.310231882, Loss: 0.7410, Nodes_count: 302, Cost Time: 24.91s\n",
      "Time: 2018-04-04 09:01:11.310231882~2018-04-04 09:17:17.880199756, Loss: 0.7567, Nodes_count: 315, Cost Time: 25.69s\n",
      "Time: 2018-04-04 09:17:17.880199756~2018-04-04 09:32:31.760179919, Loss: 0.6291, Nodes_count: 376, Cost Time: 27.03s\n",
      "Time: 2018-04-04 09:32:31.760179919~2018-04-04 09:48:10.000161059, Loss: 0.8998, Nodes_count: 436, Cost Time: 27.94s\n",
      "Time: 2018-04-04 09:48:10.000161059~2018-04-04 10:03:13.800140726, Loss: 0.9243, Nodes_count: 459, Cost Time: 29.18s\n",
      "Time: 2018-04-04 10:03:13.800140726~2018-04-04 10:18:56.070117039, Loss: 0.8410, Nodes_count: 476, Cost Time: 30.21s\n",
      "Time: 2018-04-04 10:18:56.070117039~2018-04-04 10:33:58.050097314, Loss: 0.5013, Nodes_count: 479, Cost Time: 31.28s\n",
      "Time: 2018-04-04 10:33:58.050097314~2018-04-04 10:49:04.360078648, Loss: 0.8451, Nodes_count: 491, Cost Time: 32.19s\n",
      "Time: 2018-04-04 10:49:04.360078648~2018-04-04 11:04:11.700057029, Loss: 0.8028, Nodes_count: 501, Cost Time: 33.02s\n",
      "Time: 2018-04-04 11:04:11.700057029~2018-04-04 11:19:27.870041331, Loss: 0.9215, Nodes_count: 543, Cost Time: 34.32s\n",
      "Time: 2018-04-04 11:19:27.870041331~2018-04-04 11:36:12.880014259, Loss: 0.6731, Nodes_count: 577, Cost Time: 35.79s\n",
      "Time: 2018-04-04 11:36:12.880014259~2018-04-04 11:51:34.709996370, Loss: 0.8512, Nodes_count: 597, Cost Time: 36.85s\n",
      "Time: 2018-04-04 11:51:34.709996370~2018-04-04 12:07:42.809971253, Loss: 0.8535, Nodes_count: 621, Cost Time: 37.92s\n",
      "Time: 2018-04-04 12:07:42.809971253~2018-04-04 12:22:48.449952995, Loss: 0.4562, Nodes_count: 624, Cost Time: 38.97s\n",
      "Time: 2018-04-04 12:22:48.449952995~2018-04-04 12:38:58.459931522, Loss: 0.7131, Nodes_count: 626, Cost Time: 39.74s\n",
      "Time: 2018-04-04 12:38:58.459931522~2018-04-04 12:55:00.199913642, Loss: 0.7112, Nodes_count: 628, Cost Time: 40.49s\n",
      "Time: 2018-04-04 12:55:00.199913642~2018-04-04 13:11:00.079896375, Loss: 0.8097, Nodes_count: 639, Cost Time: 41.41s\n",
      "Time: 2018-04-04 13:11:00.079896375~2018-04-04 13:26:20.379868292, Loss: 0.5807, Nodes_count: 653, Cost Time: 42.63s\n",
      "Time: 2018-04-04 13:26:20.379868292~2018-04-04 13:41:28.539849354, Loss: 0.8293, Nodes_count: 659, Cost Time: 43.58s\n",
      "Time: 2018-04-04 13:41:28.539849354~2018-04-04 13:57:35.539825950, Loss: 1.0173, Nodes_count: 812, Cost Time: 45.11s\n",
      "Time: 2018-04-04 13:57:35.539825950~2018-04-04 14:12:44.249805623, Loss: 0.8812, Nodes_count: 834, Cost Time: 46.23s\n",
      "Time: 2018-04-04 14:12:44.249805623~2018-04-04 14:27:51.929784428, Loss: 0.6219, Nodes_count: 848, Cost Time: 47.52s\n",
      "Time: 2018-04-04 14:27:51.929784428~2018-04-04 14:43:00.929765151, Loss: 0.8508, Nodes_count: 872, Cost Time: 48.54s\n",
      "Time: 2018-04-04 14:43:00.929765151~2018-04-04 14:58:08.099743602, Loss: 0.7649, Nodes_count: 877, Cost Time: 49.28s\n",
      "Time: 2018-04-04 14:58:08.099743602~2018-04-04 15:13:15.729726382, Loss: 0.8328, Nodes_count: 900, Cost Time: 50.22s\n",
      "Time: 2018-04-04 15:13:15.729726382~2018-04-04 15:28:23.369702372, Loss: 0.5157, Nodes_count: 913, Cost Time: 51.34s\n",
      "Time: 2018-04-04 15:28:23.369702372~2018-04-04 15:43:43.459687152, Loss: 0.9297, Nodes_count: 977, Cost Time: 52.59s\n",
      "Time: 2018-04-04 15:43:43.459687152~2018-04-04 15:59:38.939661040, Loss: 0.8539, Nodes_count: 1009, Cost Time: 53.62s\n",
      "Time: 2018-04-04 15:59:38.939661040~2018-04-04 16:14:46.449641533, Loss: 0.8212, Nodes_count: 1016, Cost Time: 54.57s\n",
      "Time: 2018-04-04 16:14:46.449641533~2018-04-04 16:29:50.429622402, Loss: 0.7489, Nodes_count: 1050, Cost Time: 56.19s\n",
      "Time: 2018-04-04 16:29:50.429622402~2018-04-04 16:44:53.439603150, Loss: 0.9594, Nodes_count: 1089, Cost Time: 57.70s\n",
      "Time: 2018-04-04 16:44:53.439603150~2018-04-04 17:00:07.369580214, Loss: 0.9184, Nodes_count: 1150, Cost Time: 58.95s\n",
      "Time: 2018-04-04 17:00:07.369580214~2018-04-04 17:15:15.349558685, Loss: 0.8024, Nodes_count: 1166, Cost Time: 59.86s\n",
      "Time: 2018-04-04 17:15:15.349558685~2018-04-04 17:31:23.419543544, Loss: 0.4506, Nodes_count: 1168, Cost Time: 60.90s\n",
      "Time: 2018-04-04 17:31:23.419543544~2018-04-04 17:46:32.279518103, Loss: 0.6687, Nodes_count: 1170, Cost Time: 61.63s\n",
      "Time: 2018-04-04 17:46:32.279518103~2018-04-04 18:01:39.579497690, Loss: 0.6952, Nodes_count: 1173, Cost Time: 62.34s\n"
     ]
    },
    {
     "name": "stdout",
     "output_type": "stream",
     "text": [
      "Time: 2018-04-04 18:01:39.579497690~2018-04-04 18:16:41.079478593, Loss: 0.6861, Nodes_count: 1176, Cost Time: 63.02s\n",
      "Time: 2018-04-04 18:16:41.079478593~2018-04-04 18:31:55.609456605, Loss: 0.4609, Nodes_count: 1180, Cost Time: 64.07s\n",
      "Time: 2018-04-04 18:31:55.609456605~2018-04-04 18:47:01.579438295, Loss: 0.6727, Nodes_count: 1181, Cost Time: 64.74s\n",
      "Time: 2018-04-04 18:47:01.579438295~2018-04-04 19:02:11.359417321, Loss: 0.6837, Nodes_count: 1183, Cost Time: 65.45s\n",
      "Time: 2018-04-04 19:02:11.359417321~2018-04-04 19:18:19.169395880, Loss: 0.7077, Nodes_count: 1187, Cost Time: 66.16s\n",
      "Time: 2018-04-04 19:18:19.169395880~2018-04-04 19:34:27.549373985, Loss: 0.4613, Nodes_count: 1190, Cost Time: 67.21s\n",
      "Time: 2018-04-04 19:34:27.549373985~2018-04-04 19:49:35.319353447, Loss: 0.6641, Nodes_count: 1191, Cost Time: 67.88s\n",
      "Time: 2018-04-04 19:49:35.319353447~2018-04-04 20:05:43.199330783, Loss: 0.7041, Nodes_count: 1209, Cost Time: 68.59s\n",
      "Time: 2018-04-04 20:05:43.199330783~2018-04-04 20:20:50.429320164, Loss: 0.4410, Nodes_count: 1211, Cost Time: 69.58s\n",
      "Time: 2018-04-04 20:20:50.429320164~2018-04-04 20:36:54.279289498, Loss: 0.6891, Nodes_count: 1214, Cost Time: 70.31s\n",
      "Time: 2018-04-04 20:36:54.279289498~2018-04-04 20:52:05.519275097, Loss: 0.6892, Nodes_count: 1217, Cost Time: 71.02s\n",
      "Time: 2018-04-04 20:52:05.519275097~2018-04-04 21:07:12.879249518, Loss: 0.6731, Nodes_count: 1217, Cost Time: 71.67s\n",
      "Time: 2018-04-04 21:07:12.879249518~2018-04-04 21:23:18.479229335, Loss: 0.4834, Nodes_count: 1221, Cost Time: 72.71s\n",
      "Time: 2018-04-04 21:23:18.479229335~2018-04-04 21:38:28.279206968, Loss: 0.6587, Nodes_count: 1221, Cost Time: 73.38s\n",
      "Time: 2018-04-04 21:38:28.279206968~2018-04-04 21:53:34.639193159, Loss: 0.6919, Nodes_count: 1224, Cost Time: 74.03s\n",
      "Time: 2018-04-04 21:53:34.639193159~2018-04-04 22:08:43.379173815, Loss: 0.6948, Nodes_count: 1229, Cost Time: 74.74s\n",
      "Time: 2018-04-04 22:08:43.379173815~2018-04-04 22:24:49.239143756, Loss: 0.4724, Nodes_count: 1235, Cost Time: 75.79s\n",
      "Time: 2018-04-04 22:24:49.239143756~2018-04-04 22:39:59.239124168, Loss: 0.6628, Nodes_count: 1236, Cost Time: 76.46s\n",
      "Time: 2018-04-04 22:39:59.239124168~2018-04-04 22:55:00.039103609, Loss: 0.6882, Nodes_count: 1240, Cost Time: 77.11s\n",
      "Time: 2018-04-04 22:55:00.039103609~2018-04-04 23:10:10.899084566, Loss: 1.3319, Nodes_count: 40507, Cost Time: 87.59s\n",
      "Time: 2018-04-04 23:10:10.899084566~2018-04-04 23:26:20.009066326, Loss: 0.4367, Nodes_count: 40508, Cost Time: 89.08s\n",
      "Time: 2018-04-04 23:26:20.009066326~2018-04-04 23:41:29.709041657, Loss: 0.6726, Nodes_count: 40511, Cost Time: 89.80s\n",
      "Time: 2018-04-04 23:41:29.709041657~2018-04-04 23:56:37.379020046, Loss: 0.7120, Nodes_count: 57488, Cost Time: 97.96s\n"
     ]
    }
   ],
   "source": [
    "model=torch.load(\"./models/model_saved_share.pt\",map_location=device)\n",
    "memory,gnn, link_pred,neighbor_loader=model\n",
    "ans_4_4=test_day_new(graph_4_4,\"graph_4_4_share\")"
   ]
  },
  {
   "cell_type": "code",
   "execution_count": 25,
   "metadata": {},
   "outputs": [
    {
     "name": "stdout",
     "output_type": "stream",
     "text": [
      "after merge: TemporalData(dst=[1936142], msg=[1936142, 39], src=[1936142], t=[1936142])\n",
      "Time: 2018-04-05 00:00:00.019021794~2018-04-05 00:15:00.828996051, Loss: 0.7565, Nodes_count: 131, Cost Time: 0.70s\n",
      "Time: 2018-04-05 00:15:00.828996051~2018-04-05 00:31:53.958984540, Loss: 0.4676, Nodes_count: 145, Cost Time: 1.77s\n",
      "Time: 2018-04-05 00:31:53.958984540~2018-04-05 00:47:02.738955442, Loss: 0.6852, Nodes_count: 148, Cost Time: 2.52s\n",
      "Time: 2018-04-05 00:47:02.738955442~2018-04-05 01:02:10.248933422, Loss: 0.6729, Nodes_count: 148, Cost Time: 3.21s\n",
      "Time: 2018-04-05 01:02:10.248933422~2018-04-05 01:17:16.198913636, Loss: 0.7026, Nodes_count: 151, Cost Time: 3.89s\n",
      "Time: 2018-04-05 01:17:16.198913636~2018-04-05 01:32:24.868893768, Loss: 0.4272, Nodes_count: 152, Cost Time: 4.91s\n",
      "Time: 2018-04-05 01:32:24.868893768~2018-04-05 01:48:31.268873586, Loss: 0.7066, Nodes_count: 170, Cost Time: 5.67s\n",
      "Time: 2018-04-05 01:48:31.268873586~2018-04-05 02:03:38.918851533, Loss: 0.6718, Nodes_count: 170, Cost Time: 6.35s\n",
      "Time: 2018-04-05 02:03:38.918851533~2018-04-05 02:19:27.878832963, Loss: 0.6761, Nodes_count: 174, Cost Time: 7.09s\n",
      "Time: 2018-04-05 02:19:27.878832963~2018-04-05 02:34:55.308818790, Loss: 0.4463, Nodes_count: 175, Cost Time: 8.11s\n",
      "Time: 2018-04-05 02:34:55.308818790~2018-04-05 02:51:02.788787835, Loss: 0.6881, Nodes_count: 178, Cost Time: 8.87s\n",
      "Time: 2018-04-05 02:51:02.788787835~2018-04-05 03:06:12.028777110, Loss: 0.6726, Nodes_count: 178, Cost Time: 9.56s\n",
      "Time: 2018-04-05 03:06:12.028777110~2018-04-05 03:21:19.838755484, Loss: 0.4663, Nodes_count: 201, Cost Time: 10.65s\n",
      "Time: 2018-04-05 03:21:19.838755484~2018-04-05 03:37:25.368725436, Loss: 0.6737, Nodes_count: 201, Cost Time: 11.36s\n",
      "Time: 2018-04-05 03:37:25.368725436~2018-04-05 03:53:32.318702503, Loss: 0.6854, Nodes_count: 204, Cost Time: 12.10s\n",
      "Time: 2018-04-05 03:53:32.318702503~2018-04-05 04:08:42.908682387, Loss: 0.7005, Nodes_count: 207, Cost Time: 12.85s\n",
      "Time: 2018-04-05 04:08:42.908682387~2018-04-05 04:23:50.318662591, Loss: 0.4356, Nodes_count: 208, Cost Time: 13.89s\n",
      "Time: 2018-04-05 04:23:50.318662591~2018-04-05 04:38:56.418642944, Loss: 0.6973, Nodes_count: 211, Cost Time: 14.58s\n",
      "Time: 2018-04-05 04:38:56.418642944~2018-04-05 04:55:00.098619914, Loss: 0.6847, Nodes_count: 214, Cost Time: 15.31s\n",
      "Time: 2018-04-05 04:55:00.098619914~2018-04-05 05:10:13.418602025, Loss: 0.7015, Nodes_count: 217, Cost Time: 16.06s\n",
      "Time: 2018-04-05 05:10:13.418602025~2018-04-05 05:25:20.928580035, Loss: 0.4340, Nodes_count: 218, Cost Time: 17.08s\n",
      "Time: 2018-04-05 05:25:20.928580035~2018-04-05 05:40:27.218561900, Loss: 0.6987, Nodes_count: 221, Cost Time: 17.77s\n",
      "Time: 2018-04-05 05:40:27.218561900~2018-04-05 05:56:16.798541310, Loss: 0.6887, Nodes_count: 224, Cost Time: 18.50s\n",
      "Time: 2018-04-05 05:56:16.798541310~2018-04-05 06:11:41.438523073, Loss: 0.6756, Nodes_count: 224, Cost Time: 19.18s\n",
      "Time: 2018-04-05 06:11:41.438523073~2018-04-05 06:27:51.038498857, Loss: 0.4637, Nodes_count: 228, Cost Time: 20.25s\n",
      "Time: 2018-04-05 06:27:51.038498857~2018-04-05 06:43:12.708474804, Loss: 0.6867, Nodes_count: 231, Cost Time: 21.01s\n",
      "Time: 2018-04-05 06:43:12.708474804~2018-04-05 06:59:06.688458946, Loss: 0.6736, Nodes_count: 231, Cost Time: 21.69s\n",
      "Time: 2018-04-05 06:59:06.688458946~2018-04-05 07:14:15.368436870, Loss: 0.6932, Nodes_count: 234, Cost Time: 22.42s\n",
      "Time: 2018-04-05 07:14:15.368436870~2018-04-05 07:29:21.658415949, Loss: 0.4570, Nodes_count: 238, Cost Time: 23.44s\n",
      "Time: 2018-04-05 07:29:21.658415949~2018-04-05 07:44:30.238394636, Loss: 0.6892, Nodes_count: 241, Cost Time: 24.19s\n",
      "Time: 2018-04-05 07:44:30.238394636~2018-04-05 07:59:37.718371772, Loss: 0.6942, Nodes_count: 244, Cost Time: 24.87s\n",
      "Time: 2018-04-05 07:59:37.718371772~2018-04-05 08:15:00.048354234, Loss: 0.6968, Nodes_count: 247, Cost Time: 25.60s\n",
      "Time: 2018-04-05 08:15:00.048354234~2018-04-05 08:30:00.818334493, Loss: 0.4419, Nodes_count: 249, Cost Time: 26.62s\n",
      "Time: 2018-04-05 08:30:00.818334493~2018-04-05 08:46:58.358308872, Loss: 0.6879, Nodes_count: 251, Cost Time: 27.37s\n",
      "Time: 2018-04-05 08:46:58.358308872~2018-04-05 09:02:14.208291024, Loss: 0.7249, Nodes_count: 323, Cost Time: 28.16s\n",
      "Time: 2018-04-05 09:02:14.208291024~2018-04-05 09:18:15.908275619, Loss: 0.9002, Nodes_count: 398, Cost Time: 29.31s\n",
      "Time: 2018-04-05 09:18:15.908275619~2018-04-05 09:33:24.388251998, Loss: 0.7454, Nodes_count: 492, Cost Time: 30.95s\n",
      "Time: 2018-04-05 09:33:24.388251998~2018-04-05 09:48:31.868229749, Loss: 0.8782, Nodes_count: 527, Cost Time: 32.03s\n",
      "Time: 2018-04-05 09:48:31.868229749~2018-04-05 10:03:36.278206757, Loss: 1.0871, Nodes_count: 584, Cost Time: 33.48s\n",
      "Time: 2018-04-05 10:03:36.278206757~2018-04-05 10:18:47.548195301, Loss: 1.1182, Nodes_count: 744, Cost Time: 35.44s\n",
      "Time: 2018-04-05 10:18:47.548195301~2018-04-05 10:34:09.388166476, Loss: 0.8167, Nodes_count: 835, Cost Time: 37.40s\n",
      "Time: 2018-04-05 10:34:09.388166476~2018-04-05 10:50:03.808154253, Loss: 1.0294, Nodes_count: 885, Cost Time: 38.97s\n",
      "Time: 2018-04-05 10:50:03.808154253~2018-04-05 11:05:11.618126068, Loss: 0.9744, Nodes_count: 911, Cost Time: 40.34s\n",
      "Time: 2018-04-05 11:05:11.618126068~2018-04-05 11:20:19.148105624, Loss: 0.6518, Nodes_count: 929, Cost Time: 41.81s\n",
      "Time: 2018-04-05 11:20:19.148105624~2018-04-05 11:35:26.918085424, Loss: 0.9658, Nodes_count: 941, Cost Time: 43.12s\n",
      "Time: 2018-04-05 11:35:26.918085424~2018-04-05 11:50:34.558062073, Loss: 0.8458, Nodes_count: 952, Cost Time: 44.24s\n",
      "Time: 2018-04-05 11:50:34.558062073~2018-04-05 12:05:42.408045700, Loss: 0.9100, Nodes_count: 1002, Cost Time: 45.47s\n",
      "Time: 2018-04-05 12:05:42.408045700~2018-04-05 12:21:22.598022879, Loss: 0.7353, Nodes_count: 1038, Cost Time: 46.99s\n",
      "Time: 2018-04-05 12:21:22.598022879~2018-04-05 12:37:57.238002803, Loss: 0.7240, Nodes_count: 1059, Cost Time: 47.88s\n",
      "Time: 2018-04-05 12:37:57.238002803~2018-04-05 12:53:05.917980125, Loss: 0.8562, Nodes_count: 1094, Cost Time: 48.91s\n",
      "Time: 2018-04-05 12:53:05.917980125~2018-04-05 13:08:10.457959463, Loss: 0.7952, Nodes_count: 1105, Cost Time: 49.84s\n",
      "Time: 2018-04-05 13:08:10.457959463~2018-04-05 13:23:21.737940445, Loss: 0.6185, Nodes_count: 1148, Cost Time: 51.23s\n",
      "Time: 2018-04-05 13:23:21.737940445~2018-04-05 13:38:28.747920982, Loss: 0.9003, Nodes_count: 1198, Cost Time: 52.48s\n",
      "Time: 2018-04-05 13:38:28.747920982~2018-04-05 13:53:37.257899522, Loss: 0.9699, Nodes_count: 1269, Cost Time: 54.01s\n",
      "Time: 2018-04-05 13:53:37.257899522~2018-04-05 14:08:45.097880934, Loss: 1.0761, Nodes_count: 1351, Cost Time: 55.67s\n",
      "Time: 2018-04-05 14:08:45.097880934~2018-04-05 14:24:37.387859365, Loss: 0.7388, Nodes_count: 1423, Cost Time: 57.39s\n",
      "Time: 2018-04-05 14:24:37.387859365~2018-04-05 14:40:00.907836772, Loss: 0.8275, Nodes_count: 1441, Cost Time: 58.47s\n",
      "Time: 2018-04-05 14:40:00.907836772~2018-04-05 14:55:08.907815861, Loss: 0.8263, Nodes_count: 1458, Cost Time: 59.58s\n",
      "Time: 2018-04-05 14:55:08.907815861~2018-04-05 15:10:16.787797610, Loss: 0.9273, Nodes_count: 1541, Cost Time: 60.76s\n",
      "Time: 2018-04-05 15:10:16.787797610~2018-04-05 15:26:23.817771480, Loss: 0.7410, Nodes_count: 1631, Cost Time: 62.40s\n",
      "Time: 2018-04-05 15:26:23.817771480~2018-04-05 15:41:32.747754581, Loss: 0.9506, Nodes_count: 1665, Cost Time: 63.60s\n",
      "Time: 2018-04-05 15:41:32.747754581~2018-04-05 15:57:39.747734089, Loss: 0.9739, Nodes_count: 1776, Cost Time: 64.96s\n",
      "Time: 2018-04-05 15:57:39.747734089~2018-04-05 16:13:34.727713638, Loss: 0.9270, Nodes_count: 1866, Cost Time: 66.27s\n",
      "Time: 2018-04-05 16:13:34.727713638~2018-04-05 16:29:02.837699924, Loss: 0.7627, Nodes_count: 1898, Cost Time: 68.03s\n",
      "Time: 2018-04-05 16:29:02.837699924~2018-04-05 16:44:03.257674146, Loss: 0.7939, Nodes_count: 1910, Cost Time: 69.00s\n",
      "Time: 2018-04-05 16:44:03.257674146~2018-04-05 16:59:10.827650372, Loss: 0.9361, Nodes_count: 1936, Cost Time: 70.27s\n",
      "Time: 2018-04-05 16:59:10.827650372~2018-04-05 17:14:19.757631615, Loss: 0.7670, Nodes_count: 1951, Cost Time: 71.22s\n",
      "Time: 2018-04-05 17:14:19.757631615~2018-04-05 17:29:42.817608450, Loss: 0.5346, Nodes_count: 1967, Cost Time: 72.50s\n",
      "Time: 2018-04-05 17:29:42.817608450~2018-04-05 17:45:00.787588203, Loss: 0.7106, Nodes_count: 1974, Cost Time: 73.32s\n",
      "Time: 2018-04-05 17:45:00.787588203~2018-04-05 18:00:00.897576901, Loss: 0.7395, Nodes_count: 1985, Cost Time: 74.18s\n"
     ]
    },
    {
     "name": "stdout",
     "output_type": "stream",
     "text": [
      "Time: 2018-04-05 18:00:00.897576901~2018-04-05 18:15:51.217550065, Loss: 0.7153, Nodes_count: 1992, Cost Time: 75.00s\n",
      "Time: 2018-04-05 18:15:51.217550065~2018-04-05 18:31:58.647526739, Loss: 0.5169, Nodes_count: 2005, Cost Time: 76.21s\n",
      "Time: 2018-04-05 18:31:58.647526739~2018-04-05 18:47:07.857504183, Loss: 0.7276, Nodes_count: 2017, Cost Time: 77.09s\n",
      "Time: 2018-04-05 18:47:07.857504183~2018-04-05 19:02:51.597488187, Loss: 0.7451, Nodes_count: 2029, Cost Time: 77.96s\n",
      "Time: 2018-04-05 19:02:51.597488187~2018-04-05 19:19:21.927461058, Loss: 0.7207, Nodes_count: 2038, Cost Time: 78.83s\n",
      "Time: 2018-04-05 19:19:21.927461058~2018-04-05 19:34:28.807441594, Loss: 0.5881, Nodes_count: 2057, Cost Time: 80.16s\n",
      "Time: 2018-04-05 19:34:28.807441594~2018-04-05 19:50:39.457421452, Loss: 0.7469, Nodes_count: 2068, Cost Time: 81.11s\n",
      "Time: 2018-04-05 19:50:39.457421452~2018-04-05 20:05:43.727406866, Loss: 0.9598, Nodes_count: 2133, Cost Time: 82.33s\n",
      "Time: 2018-04-05 20:05:43.727406866~2018-04-05 20:20:53.647380275, Loss: 0.5290, Nodes_count: 2145, Cost Time: 83.55s\n",
      "Time: 2018-04-05 20:20:53.647380275~2018-04-05 20:36:02.337354040, Loss: 0.7579, Nodes_count: 2156, Cost Time: 84.50s\n",
      "Time: 2018-04-05 20:36:02.337354040~2018-04-05 20:52:09.327336640, Loss: 0.7216, Nodes_count: 2164, Cost Time: 85.44s\n",
      "Time: 2018-04-05 20:52:09.327336640~2018-04-05 21:07:10.977316255, Loss: 0.8883, Nodes_count: 2181, Cost Time: 86.48s\n",
      "Time: 2018-04-05 21:07:10.977316255~2018-04-05 21:22:26.127306715, Loss: 0.6807, Nodes_count: 2197, Cost Time: 87.88s\n",
      "Time: 2018-04-05 21:22:26.127306715~2018-04-05 21:38:32.887280445, Loss: 0.9327, Nodes_count: 2218, Cost Time: 89.00s\n",
      "Time: 2018-04-05 21:38:32.887280445~2018-04-05 21:54:40.767253589, Loss: 0.7218, Nodes_count: 2227, Cost Time: 89.88s\n",
      "Time: 2018-04-05 21:54:40.767253589~2018-04-05 22:10:48.657231894, Loss: 0.7642, Nodes_count: 2241, Cost Time: 90.87s\n",
      "Time: 2018-04-05 22:10:48.657231894~2018-04-05 22:26:54.227211858, Loss: 0.5480, Nodes_count: 2254, Cost Time: 92.14s\n",
      "Time: 2018-04-05 22:26:54.227211858~2018-04-05 22:43:03.677188299, Loss: 0.7299, Nodes_count: 2264, Cost Time: 93.02s\n",
      "Time: 2018-04-05 22:43:03.677188299~2018-04-05 22:59:12.127167319, Loss: 0.8835, Nodes_count: 2285, Cost Time: 94.17s\n",
      "Time: 2018-04-05 22:59:12.127167319~2018-04-05 23:14:18.697147803, Loss: 1.4100, Nodes_count: 42698, Cost Time: 105.51s\n",
      "Time: 2018-04-05 23:14:18.697147803~2018-04-05 23:30:00.957128263, Loss: 0.5137, Nodes_count: 42713, Cost Time: 107.26s\n",
      "Time: 2018-04-05 23:30:00.957128263~2018-04-05 23:45:01.057108814, Loss: 0.7506, Nodes_count: 56582, Cost Time: 113.99s\n"
     ]
    }
   ],
   "source": [
    "model=torch.load(\"./models/model_saved_share.pt\",map_location=device)\n",
    "memory,gnn, link_pred,neighbor_loader=model\n",
    "ans_4_5=test_day_new(graph_4_5,\"graph_4_5_share\")"
   ]
  },
  {
   "cell_type": "code",
   "execution_count": null,
   "metadata": {},
   "outputs": [],
   "source": []
  },
  {
   "cell_type": "code",
   "execution_count": 26,
   "metadata": {},
   "outputs": [
    {
     "name": "stdout",
     "output_type": "stream",
     "text": [
      "after merge: TemporalData(dst=[2022481], msg=[2022481, 39], src=[2022481], t=[2022481])\n",
      "Time: 2018-04-06 00:00:00.017083676~2018-04-06 00:15:50.177068871, Loss: 0.7886, Nodes_count: 166, Cost Time: 0.81s\n",
      "Time: 2018-04-06 00:15:50.177068871~2018-04-06 00:30:58.967045191, Loss: 0.5329, Nodes_count: 201, Cost Time: 2.02s\n",
      "Time: 2018-04-06 00:30:58.967045191~2018-04-06 00:47:07.167023337, Loss: 0.7404, Nodes_count: 217, Cost Time: 2.96s\n",
      "Time: 2018-04-06 00:47:07.167023337~2018-04-06 01:02:14.677010991, Loss: 0.7295, Nodes_count: 231, Cost Time: 3.82s\n",
      "Time: 2018-04-06 01:02:14.677010991~2018-04-06 01:17:19.056982719, Loss: 0.7198, Nodes_count: 240, Cost Time: 4.57s\n",
      "Time: 2018-04-06 01:17:19.056982719~2018-04-06 01:32:29.456961759, Loss: 0.4836, Nodes_count: 248, Cost Time: 5.70s\n",
      "Time: 2018-04-06 01:32:29.456961759~2018-04-06 01:47:34.436947077, Loss: 0.7561, Nodes_count: 264, Cost Time: 6.58s\n",
      "Time: 2018-04-06 01:47:34.436947077~2018-04-06 02:02:43.106920556, Loss: 0.7210, Nodes_count: 276, Cost Time: 7.38s\n",
      "Time: 2018-04-06 02:02:43.106920556~2018-04-06 02:17:48.476901849, Loss: 0.7156, Nodes_count: 287, Cost Time: 8.18s\n",
      "Time: 2018-04-06 02:17:48.476901849~2018-04-06 02:33:48.406880632, Loss: 0.4814, Nodes_count: 293, Cost Time: 9.32s\n",
      "Time: 2018-04-06 02:33:48.406880632~2018-04-06 02:49:07.976859935, Loss: 0.7147, Nodes_count: 301, Cost Time: 10.13s\n",
      "Time: 2018-04-06 02:49:07.976859935~2018-04-06 03:05:04.836837911, Loss: 0.7253, Nodes_count: 313, Cost Time: 11.11s\n",
      "Time: 2018-04-06 03:05:04.836837911~2018-04-06 03:21:23.736815129, Loss: 0.5142, Nodes_count: 346, Cost Time: 12.32s\n",
      "Time: 2018-04-06 03:21:23.736815129~2018-04-06 03:37:30.946794613, Loss: 0.7235, Nodes_count: 358, Cost Time: 13.20s\n",
      "Time: 2018-04-06 03:37:30.946794613~2018-04-06 03:52:38.836775414, Loss: 0.7115, Nodes_count: 367, Cost Time: 14.00s\n",
      "Time: 2018-04-06 03:52:38.836775414~2018-04-06 04:07:44.916766067, Loss: 0.7430, Nodes_count: 378, Cost Time: 14.86s\n",
      "Time: 2018-04-06 04:07:44.916766067~2018-04-06 04:22:56.346731444, Loss: 0.4903, Nodes_count: 388, Cost Time: 16.00s\n",
      "Time: 2018-04-06 04:22:56.346731444~2018-04-06 04:38:03.996711152, Loss: 0.7246, Nodes_count: 398, Cost Time: 16.82s\n",
      "Time: 2018-04-06 04:38:03.996711152~2018-04-06 04:54:10.956696707, Loss: 0.7211, Nodes_count: 411, Cost Time: 17.69s\n",
      "Time: 2018-04-06 04:54:10.956696707~2018-04-06 05:09:19.686673819, Loss: 0.6858, Nodes_count: 414, Cost Time: 18.43s\n",
      "Time: 2018-04-06 05:09:19.686673819~2018-04-06 05:24:21.256650907, Loss: 0.4941, Nodes_count: 424, Cost Time: 19.58s\n",
      "Time: 2018-04-06 05:24:21.256650907~2018-04-06 05:40:34.436635353, Loss: 0.7181, Nodes_count: 434, Cost Time: 20.47s\n",
      "Time: 2018-04-06 05:40:34.436635353~2018-04-06 05:56:42.656608208, Loss: 0.6907, Nodes_count: 438, Cost Time: 21.28s\n",
      "Time: 2018-04-06 05:56:42.656608208~2018-04-06 06:11:49.026587588, Loss: 0.7462, Nodes_count: 450, Cost Time: 22.15s\n",
      "Time: 2018-04-06 06:11:49.026587588~2018-04-06 06:26:59.116568845, Loss: 0.4792, Nodes_count: 458, Cost Time: 23.30s\n",
      "Time: 2018-04-06 06:26:59.116568845~2018-04-06 06:42:05.616549747, Loss: 0.7175, Nodes_count: 466, Cost Time: 24.07s\n",
      "Time: 2018-04-06 06:42:05.616549747~2018-04-06 06:57:14.796527090, Loss: 0.7102, Nodes_count: 473, Cost Time: 24.90s\n",
      "Time: 2018-04-06 06:57:14.796527090~2018-04-06 07:12:21.486507686, Loss: 0.7831, Nodes_count: 548, Cost Time: 25.83s\n",
      "Time: 2018-04-06 07:12:21.486507686~2018-04-06 07:28:29.926483734, Loss: 0.5166, Nodes_count: 557, Cost Time: 27.04s\n",
      "Time: 2018-04-06 07:28:29.926483734~2018-04-06 07:43:36.186466909, Loss: 0.7608, Nodes_count: 572, Cost Time: 27.98s\n",
      "Time: 2018-04-06 07:43:36.186466909~2018-04-06 07:58:45.906442356, Loss: 0.7360, Nodes_count: 580, Cost Time: 28.84s\n",
      "Time: 2018-04-06 07:58:45.906442356~2018-04-06 08:14:50.596423582, Loss: 0.7339, Nodes_count: 591, Cost Time: 29.71s\n",
      "Time: 2018-04-06 08:14:50.596423582~2018-04-06 08:30:01.506400452, Loss: 0.5858, Nodes_count: 626, Cost Time: 31.05s\n",
      "Time: 2018-04-06 08:30:01.506400452~2018-04-06 08:45:17.736385465, Loss: 0.7352, Nodes_count: 667, Cost Time: 31.93s\n",
      "Time: 2018-04-06 08:45:17.736385465~2018-04-06 09:01:17.176359680, Loss: 0.7162, Nodes_count: 673, Cost Time: 32.74s\n",
      "Time: 2018-04-06 09:01:17.176359680~2018-04-06 09:16:25.066340315, Loss: 0.9575, Nodes_count: 737, Cost Time: 33.96s\n",
      "Time: 2018-04-06 09:16:25.066340315~2018-04-06 09:31:25.146320510, Loss: 0.6930, Nodes_count: 761, Cost Time: 35.42s\n",
      "Time: 2018-04-06 09:31:25.146320510~2018-04-06 09:46:40.966296805, Loss: 1.1140, Nodes_count: 820, Cost Time: 36.96s\n",
      "Time: 2018-04-06 09:46:40.966296805~2018-04-06 10:01:47.476279293, Loss: 0.8029, Nodes_count: 829, Cost Time: 37.93s\n",
      "Time: 2018-04-06 10:01:47.476279293~2018-04-06 10:17:55.186257332, Loss: 0.7863, Nodes_count: 841, Cost Time: 38.92s\n",
      "Time: 2018-04-06 10:17:55.186257332~2018-04-06 10:33:00.136241644, Loss: 0.7537, Nodes_count: 907, Cost Time: 40.56s\n",
      "Time: 2018-04-06 10:33:00.136241644~2018-04-06 10:48:11.796216358, Loss: 1.0452, Nodes_count: 995, Cost Time: 41.87s\n",
      "Time: 2018-04-06 10:48:11.796216358~2018-04-06 11:03:19.756210028, Loss: 1.0615, Nodes_count: 1019, Cost Time: 43.29s\n",
      "Time: 2018-04-06 11:03:19.756210028~2018-04-06 11:18:26.126177915, Loss: 1.2997, Nodes_count: 2699, Cost Time: 46.28s\n",
      "Time: 2018-04-06 11:18:26.126177915~2018-04-06 11:33:35.116170745, Loss: 0.6262, Nodes_count: 2766, Cost Time: 47.72s\n",
      "Time: 2018-04-06 11:33:35.116170745~2018-04-06 11:48:42.606135188, Loss: 0.8300, Nodes_count: 2773, Cost Time: 48.67s\n",
      "Time: 2018-04-06 11:48:42.606135188~2018-04-06 12:03:50.186115455, Loss: 0.9494, Nodes_count: 2790, Cost Time: 49.91s\n",
      "Time: 2018-04-06 12:03:50.186115455~2018-04-06 14:01:32.489584227, Loss: 0.8755, Nodes_count: 2824, Cost Time: 50.43s\n",
      "Time: 2018-04-06 14:01:32.489584227~2018-04-06 14:16:39.379560570, Loss: 0.7883, Nodes_count: 2879, Cost Time: 52.23s\n",
      "Time: 2018-04-06 14:16:39.379560570~2018-04-06 14:31:41.149538564, Loss: 0.9215, Nodes_count: 2903, Cost Time: 53.44s\n",
      "Time: 2018-04-06 14:31:41.149538564~2018-04-06 14:46:47.869522833, Loss: 1.1568, Nodes_count: 3224, Cost Time: 55.26s\n",
      "Time: 2018-04-06 14:46:47.869522833~2018-04-06 15:02:04.169502159, Loss: 0.9355, Nodes_count: 3245, Cost Time: 56.47s\n",
      "Time: 2018-04-06 15:02:04.169502159~2018-04-06 15:17:11.749480935, Loss: 0.9067, Nodes_count: 3388, Cost Time: 58.35s\n",
      "Time: 2018-04-06 15:17:11.749480935~2018-04-06 15:32:19.019459138, Loss: 1.0202, Nodes_count: 3481, Cost Time: 59.61s\n",
      "Time: 2018-04-06 15:32:19.019459138~2018-04-06 15:47:25.559439120, Loss: 0.7751, Nodes_count: 3490, Cost Time: 60.49s\n",
      "Time: 2018-04-06 15:47:25.559439120~2018-04-06 16:02:51.629418719, Loss: 0.8018, Nodes_count: 3508, Cost Time: 61.48s\n",
      "Time: 2018-04-06 16:02:51.629418719~2018-04-06 16:18:33.979401357, Loss: 0.9047, Nodes_count: 3625, Cost Time: 63.46s\n",
      "Time: 2018-04-06 16:18:33.979401357~2018-04-06 16:34:47.879379108, Loss: 1.0958, Nodes_count: 3656, Cost Time: 64.97s\n",
      "Time: 2018-04-06 16:34:47.879379108~2018-04-06 16:50:08.479356930, Loss: 0.9136, Nodes_count: 3673, Cost Time: 66.15s\n",
      "Time: 2018-04-06 16:50:08.479356930~2018-04-06 17:05:29.239333653, Loss: 1.2880, Nodes_count: 4098, Cost Time: 68.79s\n",
      "Time: 2018-04-06 17:05:29.239333653~2018-04-06 17:20:51.639321683, Loss: 0.9686, Nodes_count: 4282, Cost Time: 70.91s\n",
      "Time: 2018-04-06 17:20:51.639321683~2018-04-06 17:35:54.449302990, Loss: 1.3257, Nodes_count: 5066, Cost Time: 73.65s\n",
      "Time: 2018-04-06 17:35:54.449302990~2018-04-06 17:51:58.069270063, Loss: 1.3038, Nodes_count: 5781, Cost Time: 76.47s\n",
      "Time: 2018-04-06 17:51:58.069270063~2018-04-06 18:08:36.779250443, Loss: 0.8724, Nodes_count: 5840, Cost Time: 77.67s\n",
      "Time: 2018-04-06 18:08:36.779250443~2018-04-06 18:24:17.369229503, Loss: 0.6112, Nodes_count: 5856, Cost Time: 79.01s\n",
      "Time: 2018-04-06 18:24:17.369229503~2018-04-06 18:40:52.729207049, Loss: 0.9135, Nodes_count: 5914, Cost Time: 80.19s\n",
      "Time: 2018-04-06 18:40:52.729207049~2018-04-06 18:55:59.999193978, Loss: 0.9253, Nodes_count: 5949, Cost Time: 81.30s\n",
      "Time: 2018-04-06 18:55:59.999193978~2018-04-06 19:11:08.459167047, Loss: 0.8092, Nodes_count: 5968, Cost Time: 82.23s\n",
      "Time: 2018-04-06 19:11:08.459167047~2018-04-06 19:26:14.719145309, Loss: 0.9192, Nodes_count: 6103, Cost Time: 84.03s\n",
      "Time: 2018-04-06 19:26:14.719145309~2018-04-06 19:41:23.549124701, Loss: 1.1300, Nodes_count: 6328, Cost Time: 85.52s\n"
     ]
    },
    {
     "name": "stdout",
     "output_type": "stream",
     "text": [
      "Time: 2018-04-06 19:41:23.549124701~2018-04-06 19:57:28.259104051, Loss: 0.7964, Nodes_count: 6337, Cost Time: 86.49s\n",
      "Time: 2018-04-06 19:57:28.259104051~2018-04-06 20:13:39.769084097, Loss: 0.9814, Nodes_count: 6374, Cost Time: 87.65s\n",
      "Time: 2018-04-06 20:13:39.769084097~2018-04-06 20:28:47.019060830, Loss: 0.6807, Nodes_count: 6388, Cost Time: 89.00s\n",
      "Time: 2018-04-06 20:28:47.019060830~2018-04-06 20:43:57.369040719, Loss: 0.7811, Nodes_count: 6398, Cost Time: 89.89s\n",
      "Time: 2018-04-06 20:43:57.369040719~2018-04-06 20:59:02.029030474, Loss: 1.3277, Nodes_count: 6999, Cost Time: 91.99s\n",
      "Time: 2018-04-06 20:59:02.029030474~2018-04-06 21:15:00.619010803, Loss: 0.8925, Nodes_count: 7045, Cost Time: 93.04s\n",
      "Time: 2018-04-06 21:15:00.619010803~2018-04-06 21:30:00.778978760, Loss: 0.5872, Nodes_count: 7061, Cost Time: 94.32s\n",
      "Time: 2018-04-06 21:30:00.778978760~2018-04-06 21:45:25.218957773, Loss: 0.8202, Nodes_count: 7069, Cost Time: 95.27s\n",
      "Time: 2018-04-06 21:45:25.218957773~2018-04-06 22:01:32.928937945, Loss: 0.7869, Nodes_count: 7080, Cost Time: 96.20s\n",
      "Time: 2018-04-06 22:01:32.928937945~2018-04-06 22:17:39.688914711, Loss: 0.7093, Nodes_count: 7102, Cost Time: 97.65s\n",
      "Time: 2018-04-06 22:17:39.688914711~2018-04-06 22:32:48.168897833, Loss: 0.8002, Nodes_count: 7114, Cost Time: 98.60s\n",
      "Time: 2018-04-06 22:32:48.168897833~2018-04-06 22:48:06.838874079, Loss: 0.9173, Nodes_count: 7128, Cost Time: 99.64s\n",
      "Time: 2018-04-06 22:48:06.838874079~2018-04-06 23:03:09.188854937, Loss: 1.3098, Nodes_count: 22689, Cost Time: 104.46s\n",
      "Time: 2018-04-06 23:03:09.188854937~2018-04-06 23:18:10.168840981, Loss: 1.3172, Nodes_count: 42510, Cost Time: 111.51s\n",
      "Time: 2018-04-06 23:18:10.168840981~2018-04-06 23:33:15.408814807, Loss: 0.7213, Nodes_count: 42519, Cost Time: 112.61s\n",
      "Time: 2018-04-06 23:33:15.408814807~2018-04-06 23:49:23.948792776, Loss: 0.7498, Nodes_count: 61489, Cost Time: 121.91s\n"
     ]
    }
   ],
   "source": [
    "model=torch.load(\"./models/model_saved_share.pt\",map_location=device)\n",
    "memory,gnn, link_pred,neighbor_loader=model\n",
    "ans_4_6=test_day_new(graph_4_6,\"graph_4_6_share\")"
   ]
  },
  {
   "cell_type": "code",
   "execution_count": 27,
   "metadata": {},
   "outputs": [
    {
     "name": "stdout",
     "output_type": "stream",
     "text": [
      "after merge: TemporalData(dst=[2284034], msg=[2284034, 39], src=[2284034], t=[2284034])\n",
      "Time: 2018-04-07 00:00:00.008778912~2018-04-07 00:15:00.638758012, Loss: 0.8253, Nodes_count: 251, Cost Time: 0.88s\n",
      "Time: 2018-04-07 00:15:00.638758012~2018-04-07 00:30:00.678739107, Loss: 1.2567, Nodes_count: 16289, Cost Time: 5.76s\n",
      "Time: 2018-04-07 00:30:00.678739107~2018-04-07 00:45:48.008718917, Loss: 0.7578, Nodes_count: 16302, Cost Time: 6.82s\n",
      "Time: 2018-04-07 00:45:48.008718917~2018-04-07 01:01:00.048699594, Loss: 0.7496, Nodes_count: 16315, Cost Time: 7.68s\n",
      "Time: 2018-04-07 01:01:00.048699594~2018-04-07 01:17:08.118674396, Loss: 0.5200, Nodes_count: 16346, Cost Time: 8.89s\n",
      "Time: 2018-04-07 01:17:08.118674396~2018-04-07 01:32:15.738656469, Loss: 0.7128, Nodes_count: 16356, Cost Time: 9.71s\n",
      "Time: 2018-04-07 01:32:15.738656469~2018-04-07 01:48:06.728632339, Loss: 0.7287, Nodes_count: 16367, Cost Time: 10.52s\n",
      "Time: 2018-04-07 01:48:06.728632339~2018-04-07 02:04:30.508619128, Loss: 0.7368, Nodes_count: 16376, Cost Time: 11.39s\n",
      "Time: 2018-04-07 02:04:30.508619128~2018-04-07 02:20:37.378590706, Loss: 0.5225, Nodes_count: 16389, Cost Time: 12.61s\n",
      "Time: 2018-04-07 02:20:37.378590706~2018-04-07 02:36:02.398566241, Loss: 0.7475, Nodes_count: 16402, Cost Time: 13.49s\n",
      "Time: 2018-04-07 02:36:02.398566241~2018-04-07 02:51:53.698546766, Loss: 0.7613, Nodes_count: 16418, Cost Time: 14.36s\n",
      "Time: 2018-04-07 02:51:53.698546766~2018-04-07 03:07:00.248525720, Loss: 0.7320, Nodes_count: 16427, Cost Time: 15.16s\n",
      "Time: 2018-04-07 03:07:00.248525720~2018-04-07 03:23:07.518503381, Loss: 0.5224, Nodes_count: 16439, Cost Time: 16.37s\n",
      "Time: 2018-04-07 03:23:07.518503381~2018-04-07 03:38:21.038486955, Loss: 0.7337, Nodes_count: 16452, Cost Time: 17.25s\n",
      "Time: 2018-04-07 03:38:21.038486955~2018-04-07 03:54:12.858461862, Loss: 0.6999, Nodes_count: 16458, Cost Time: 18.00s\n",
      "Time: 2018-04-07 03:54:12.858461862~2018-04-07 04:09:33.798446888, Loss: 0.7402, Nodes_count: 16471, Cost Time: 18.86s\n",
      "Time: 2018-04-07 04:09:33.798446888~2018-04-07 04:24:41.418423834, Loss: 0.4889, Nodes_count: 16480, Cost Time: 19.95s\n",
      "Time: 2018-04-07 04:24:41.418423834~2018-04-07 04:39:48.788404454, Loss: 0.7344, Nodes_count: 16490, Cost Time: 20.76s\n",
      "Time: 2018-04-07 04:39:48.788404454~2018-04-07 04:55:33.038382167, Loss: 0.7405, Nodes_count: 16504, Cost Time: 21.63s\n",
      "Time: 2018-04-07 04:55:33.038382167~2018-04-07 05:11:04.578374282, Loss: 0.7375, Nodes_count: 16515, Cost Time: 22.49s\n",
      "Time: 2018-04-07 05:11:04.578374282~2018-04-07 05:26:27.198342157, Loss: 0.5107, Nodes_count: 16525, Cost Time: 23.64s\n",
      "Time: 2018-04-07 05:26:27.198342157~2018-04-07 05:43:18.328318581, Loss: 0.7461, Nodes_count: 16541, Cost Time: 24.52s\n",
      "Time: 2018-04-07 05:43:18.328318581~2018-04-07 05:59:26.278297788, Loss: 0.7304, Nodes_count: 16551, Cost Time: 25.38s\n",
      "Time: 2018-04-07 05:59:26.278297788~2018-04-07 06:14:36.128277413, Loss: 0.7406, Nodes_count: 16565, Cost Time: 26.25s\n",
      "Time: 2018-04-07 06:14:36.128277413~2018-04-07 06:29:43.938255177, Loss: 0.5236, Nodes_count: 16578, Cost Time: 27.40s\n",
      "Time: 2018-04-07 06:29:43.938255177~2018-04-07 06:44:51.448236248, Loss: 0.7242, Nodes_count: 16587, Cost Time: 28.23s\n",
      "Time: 2018-04-07 06:44:51.448236248~2018-04-07 07:00:00.038221478, Loss: 0.7214, Nodes_count: 16596, Cost Time: 29.03s\n",
      "Time: 2018-04-07 07:00:00.038221478~2018-04-07 07:15:05.688195960, Loss: 0.7364, Nodes_count: 16606, Cost Time: 29.78s\n",
      "Time: 2018-04-07 07:15:05.688195960~2018-04-07 07:30:14.418177837, Loss: 0.4621, Nodes_count: 16610, Cost Time: 30.86s\n",
      "Time: 2018-04-07 07:30:14.418177837~2018-04-07 07:45:21.878154598, Loss: 0.7696, Nodes_count: 16625, Cost Time: 31.73s\n",
      "Time: 2018-04-07 07:45:21.878154598~2018-04-07 08:00:29.578138194, Loss: 0.7136, Nodes_count: 16632, Cost Time: 32.54s\n",
      "Time: 2018-04-07 08:00:29.578138194~2018-04-07 08:15:57.788117378, Loss: 0.7280, Nodes_count: 16642, Cost Time: 33.34s\n",
      "Time: 2018-04-07 08:15:57.788117378~2018-04-07 08:32:10.258101102, Loss: 0.5229, Nodes_count: 16655, Cost Time: 34.55s\n",
      "Time: 2018-04-07 08:32:10.258101102~2018-04-07 08:47:18.038077804, Loss: 0.7354, Nodes_count: 16665, Cost Time: 35.38s\n",
      "Time: 2018-04-07 08:47:18.038077804~2018-04-07 09:03:01.168052225, Loss: 0.7509, Nodes_count: 16729, Cost Time: 36.24s\n",
      "Time: 2018-04-07 09:03:01.168052225~2018-04-07 09:19:07.038030612, Loss: 0.5496, Nodes_count: 16742, Cost Time: 37.45s\n",
      "Time: 2018-04-07 09:19:07.038030612~2018-04-07 09:35:00.558007579, Loss: 0.7774, Nodes_count: 16757, Cost Time: 38.39s\n",
      "Time: 2018-04-07 09:35:00.558007579~2018-04-07 09:50:24.827995819, Loss: 0.8116, Nodes_count: 16771, Cost Time: 39.38s\n",
      "Time: 2018-04-07 09:50:24.827995819~2018-04-07 10:06:03.197964940, Loss: 0.7802, Nodes_count: 16785, Cost Time: 40.31s\n",
      "Time: 2018-04-07 10:06:03.197964940~2018-04-07 10:21:34.747944381, Loss: 0.7224, Nodes_count: 16805, Cost Time: 41.70s\n",
      "Time: 2018-04-07 10:21:34.747944381~2018-04-07 10:36:44.657924040, Loss: 1.2846, Nodes_count: 17419, Cost Time: 44.24s\n",
      "Time: 2018-04-07 10:36:44.657924040~2018-04-07 10:51:55.367905007, Loss: 0.8440, Nodes_count: 17433, Cost Time: 45.37s\n",
      "Time: 2018-04-07 10:51:55.367905007~2018-04-07 11:07:01.987882382, Loss: 1.1227, Nodes_count: 17481, Cost Time: 46.90s\n",
      "Time: 2018-04-07 11:07:01.987882382~2018-04-07 11:22:08.247863262, Loss: 1.0722, Nodes_count: 17998, Cost Time: 49.88s\n",
      "Time: 2018-04-07 11:22:08.247863262~2018-04-07 11:37:19.117845222, Loss: 0.9179, Nodes_count: 18019, Cost Time: 51.08s\n",
      "Time: 2018-04-07 11:37:19.117845222~2018-04-07 11:52:25.757824807, Loss: 1.0799, Nodes_count: 18124, Cost Time: 52.67s\n",
      "Time: 2018-04-07 11:52:25.757824807~2018-04-07 12:07:33.167805575, Loss: 0.8870, Nodes_count: 18182, Cost Time: 53.75s\n",
      "Time: 2018-04-07 12:07:33.167805575~2018-04-07 12:22:37.237783089, Loss: 0.8956, Nodes_count: 18357, Cost Time: 55.56s\n",
      "Time: 2018-04-07 12:22:37.237783089~2018-04-07 12:37:47.867767543, Loss: 1.2374, Nodes_count: 18922, Cost Time: 58.10s\n",
      "Time: 2018-04-07 12:37:47.867767543~2018-04-07 12:52:55.687743440, Loss: 1.2964, Nodes_count: 19605, Cost Time: 61.04s\n",
      "Time: 2018-04-07 12:52:55.687743440~2018-04-07 13:08:03.297721130, Loss: 1.1797, Nodes_count: 19856, Cost Time: 62.89s\n",
      "Time: 2018-04-07 13:08:03.297721130~2018-04-07 13:23:07.587702371, Loss: 0.5933, Nodes_count: 19872, Cost Time: 64.20s\n",
      "Time: 2018-04-07 13:23:07.587702371~2018-04-07 13:38:18.347682404, Loss: 0.7639, Nodes_count: 19879, Cost Time: 65.08s\n",
      "Time: 2018-04-07 13:38:18.347682404~2018-04-07 13:53:24.767661961, Loss: 0.9583, Nodes_count: 19895, Cost Time: 66.12s\n",
      "Time: 2018-04-07 13:53:24.767661961~2018-04-07 14:08:33.897638680, Loss: 0.8328, Nodes_count: 19937, Cost Time: 67.11s\n",
      "Time: 2018-04-07 14:08:33.897638680~2018-04-07 14:24:26.557620008, Loss: 0.7965, Nodes_count: 19962, Cost Time: 68.74s\n",
      "Time: 2018-04-07 14:24:26.557620008~2018-04-07 14:39:48.517612046, Loss: 0.9595, Nodes_count: 19977, Cost Time: 69.87s\n",
      "Time: 2018-04-07 14:39:48.517612046~2018-04-07 14:55:00.017576301, Loss: 1.0023, Nodes_count: 20042, Cost Time: 71.22s\n",
      "Time: 2018-04-07 14:55:00.017576301~2018-04-07 15:10:05.317560451, Loss: 0.8771, Nodes_count: 20109, Cost Time: 72.35s\n",
      "Time: 2018-04-07 15:10:05.317560451~2018-04-07 15:26:12.217536522, Loss: 0.7802, Nodes_count: 20157, Cost Time: 73.91s\n",
      "Time: 2018-04-07 15:26:12.217536522~2018-04-07 15:41:21.207514200, Loss: 0.9062, Nodes_count: 20200, Cost Time: 75.11s\n",
      "Time: 2018-04-07 15:41:21.207514200~2018-04-07 15:56:28.657494782, Loss: 0.8982, Nodes_count: 20253, Cost Time: 76.22s\n",
      "Time: 2018-04-07 15:56:28.657494782~2018-04-07 16:12:33.137472696, Loss: 1.1692, Nodes_count: 20549, Cost Time: 78.34s\n",
      "Time: 2018-04-07 16:12:33.137472696~2018-04-07 16:27:43.727457066, Loss: 0.7393, Nodes_count: 20567, Cost Time: 79.91s\n",
      "Time: 2018-04-07 16:27:43.727457066~2018-04-07 16:42:51.697434133, Loss: 0.7464, Nodes_count: 20579, Cost Time: 80.82s\n",
      "Time: 2018-04-07 16:42:51.697434133~2018-04-07 16:57:58.897414026, Loss: 0.7815, Nodes_count: 20590, Cost Time: 81.69s\n",
      "Time: 2018-04-07 16:57:58.897414026~2018-04-07 17:12:59.447391588, Loss: 1.2335, Nodes_count: 21187, Cost Time: 84.40s\n",
      "Time: 2018-04-07 17:12:59.447391588~2018-04-07 17:28:15.007384019, Loss: 1.0058, Nodes_count: 21653, Cost Time: 87.20s\n",
      "Time: 2018-04-07 17:28:15.007384019~2018-04-07 17:43:22.657350334, Loss: 1.2549, Nodes_count: 23735, Cost Time: 90.20s\n"
     ]
    },
    {
     "name": "stdout",
     "output_type": "stream",
     "text": [
      "Time: 2018-04-07 17:43:22.657350334~2018-04-07 17:59:27.637330849, Loss: 1.0929, Nodes_count: 23998, Cost Time: 92.12s\n",
      "Time: 2018-04-07 17:59:27.637330849~2018-04-07 18:14:38.467310967, Loss: 0.7987, Nodes_count: 24007, Cost Time: 93.10s\n",
      "Time: 2018-04-07 18:14:38.467310967~2018-04-07 18:29:44.957289774, Loss: 0.7432, Nodes_count: 24027, Cost Time: 94.67s\n",
      "Time: 2018-04-07 18:29:44.957289774~2018-04-07 18:45:53.477266719, Loss: 1.1435, Nodes_count: 24400, Cost Time: 96.80s\n",
      "Time: 2018-04-07 18:45:53.477266719~2018-04-07 19:01:01.807254480, Loss: 0.8061, Nodes_count: 24415, Cost Time: 97.84s\n",
      "Time: 2018-04-07 19:01:01.807254480~2018-04-07 19:16:09.237229592, Loss: 0.5545, Nodes_count: 24428, Cost Time: 99.05s\n",
      "Time: 2018-04-07 19:16:09.237229592~2018-04-07 19:31:16.917209075, Loss: 0.8908, Nodes_count: 24447, Cost Time: 100.22s\n",
      "Time: 2018-04-07 19:31:16.917209075~2018-04-07 19:46:24.177188164, Loss: 0.7914, Nodes_count: 24456, Cost Time: 101.10s\n",
      "Time: 2018-04-07 19:46:24.177188164~2018-04-07 20:01:32.217166390, Loss: 0.7708, Nodes_count: 24482, Cost Time: 102.02s\n",
      "Time: 2018-04-07 20:01:32.217166390~2018-04-07 20:16:39.747146568, Loss: 0.7174, Nodes_count: 24582, Cost Time: 103.46s\n",
      "Time: 2018-04-07 20:16:39.747146568~2018-04-07 20:31:40.247126462, Loss: 1.2032, Nodes_count: 25003, Cost Time: 105.61s\n",
      "Time: 2018-04-07 20:31:40.247126462~2018-04-07 20:47:54.987106242, Loss: 0.8467, Nodes_count: 25059, Cost Time: 106.77s\n",
      "Time: 2018-04-07 20:47:54.987106242~2018-04-07 21:03:02.457083343, Loss: 0.7323, Nodes_count: 25066, Cost Time: 107.60s\n",
      "Time: 2018-04-07 21:03:02.457083343~2018-04-07 21:18:08.817071709, Loss: 0.6185, Nodes_count: 25078, Cost Time: 108.87s\n",
      "Time: 2018-04-07 21:18:08.817071709~2018-04-07 21:33:17.447051923, Loss: 0.8064, Nodes_count: 25089, Cost Time: 109.83s\n",
      "Time: 2018-04-07 21:33:17.447051923~2018-04-07 21:48:25.107022873, Loss: 0.8253, Nodes_count: 25100, Cost Time: 110.70s\n",
      "Time: 2018-04-07 21:48:25.107022873~2018-04-07 22:03:32.547001547, Loss: 0.7660, Nodes_count: 25112, Cost Time: 111.57s\n",
      "Time: 2018-04-07 22:03:32.547001547~2018-04-07 22:18:38.656982046, Loss: 0.6455, Nodes_count: 25171, Cost Time: 112.84s\n",
      "Time: 2018-04-07 22:18:38.656982046~2018-04-07 22:33:47.286964532, Loss: 0.9414, Nodes_count: 25193, Cost Time: 113.90s\n",
      "Time: 2018-04-07 22:33:47.286964532~2018-04-07 22:48:54.756943468, Loss: 0.9623, Nodes_count: 25212, Cost Time: 115.01s\n",
      "Time: 2018-04-07 22:48:54.756943468~2018-04-07 23:03:54.806921896, Loss: 1.4528, Nodes_count: 44347, Cost Time: 121.86s\n",
      "Time: 2018-04-07 23:03:54.806921896~2018-04-07 23:20:00.056902847, Loss: 1.2660, Nodes_count: 56599, Cost Time: 127.65s\n",
      "Time: 2018-04-07 23:20:00.056902847~2018-04-07 23:35:19.036879610, Loss: 0.7028, Nodes_count: 56608, Cost Time: 128.73s\n",
      "Time: 2018-04-07 23:35:19.036879610~2018-04-07 23:50:19.096860042, Loss: 0.7330, Nodes_count: 56907, Cost Time: 129.60s\n"
     ]
    }
   ],
   "source": [
    "model=torch.load(\"./models/model_saved_share.pt\",map_location=device)\n",
    "memory,gnn, link_pred,neighbor_loader=model\n",
    "ans_4_7=test_day_new(graph_4_7,\"graph_4_7_share\")"
   ]
  },
  {
   "cell_type": "markdown",
   "metadata": {},
   "source": [
    "## 计算异常分数函数定义"
   ]
  },
  {
   "cell_type": "code",
   "execution_count": 34,
   "metadata": {},
   "outputs": [],
   "source": [
    "def cal_train_IDF(find_str,file_list):\n",
    "    include_count=0\n",
    "    for f_path in (file_list):\n",
    "        f=open(f_path)\n",
    "        if find_str in f.read():\n",
    "            include_count+=1             \n",
    "    IDF=math.log(len(file_list)/(include_count+1))\n",
    "    return IDF\n",
    "\n",
    "\n",
    "def cal_IDF(find_str,file_path,file_list):\n",
    "    file_list=os.listdir(file_path)\n",
    "    include_count=0\n",
    "    different_neighbor=set()#至少有两个 因此要减去2\n",
    "    for f_path in (file_list):\n",
    "        f=open(file_path+f_path)\n",
    "        if find_str in f.read():\n",
    "            include_count+=1                \n",
    "                \n",
    "    IDF=math.log(len(file_list)/(include_count+1))\n",
    "    \n",
    "    return IDF,1\n",
    "\n",
    "def cal_redundant(find_str,edge_list):\n",
    "    \n",
    "    different_neighbor=set()#至少有两个 因此要减去2\n",
    "    for e in edge_list:\n",
    "        if find_str in str(e):\n",
    "            different_neighbor.add(e[0])\n",
    "            different_neighbor.add(e[1])\n",
    "    return len(different_neighbor)-2\n",
    "\n",
    "def cal_anomaly_loss(loss_list,edge_list,file_path):\n",
    "    \n",
    "    if len(loss_list)!=len(edge_list):\n",
    "        print(\"error!\")\n",
    "        return 0\n",
    "    count=0\n",
    "    loss_sum=0\n",
    "    loss_std=std(loss_list)\n",
    "    loss_mean=mean(loss_list)\n",
    "    edge_set=set()\n",
    "    node_set=set()\n",
    "    node2redundant={}\n",
    "    \n",
    "    thr=loss_mean+1.5*loss_std\n",
    "\n",
    "    print(\"thr:\",thr)\n",
    "\n",
    "    for i in range(len(loss_list)):\n",
    "        if loss_list[i]>thr:\n",
    "            count+=1\n",
    "            src_node=edge_list[i][0]\n",
    "            dst_node=edge_list[i][1]\n",
    "            \n",
    "            loss_sum+=loss_list[i]\n",
    "    \n",
    "            node_set.add(src_node)\n",
    "            node_set.add(dst_node)\n",
    "            edge_set.add(edge_list[i][0]+edge_list[i][1])\n",
    "    return count, loss_sum/count,node_set,edge_set\n",
    "#     return count, count/len(loss_list)"
   ]
  },
  {
   "cell_type": "code",
   "execution_count": null,
   "metadata": {},
   "outputs": [],
   "source": []
  },
  {
   "cell_type": "code",
   "execution_count": 35,
   "metadata": {},
   "outputs": [
    {
     "name": "stderr",
     "output_type": "stream",
     "text": [
      "100%|████████████████████████████████████████████████████████████████████████████████████████| 277/277 [01:42<00:00,  2.70it/s]"
     ]
    },
    {
     "name": "stdout",
     "output_type": "stream",
     "text": [
      "IDF weight calculate complete!\n"
     ]
    },
    {
     "name": "stderr",
     "output_type": "stream",
     "text": [
      "\n"
     ]
    }
   ],
   "source": [
    "# 进行计算节点的IDF分数字典\n",
    "node_IDF={}\n",
    "node_set=set()\n",
    "\n",
    "file_list=[]\n",
    "\n",
    "# file_path=\"graph_4_2_share//\"\n",
    "# file_l=os.listdir(\"graph_4_2_share//\")\n",
    "# for i in file_l:\n",
    "#     file_list.append(file_path+i)\n",
    "\n",
    "file_path=\"graph_4_3_share//\"\n",
    "file_l=os.listdir(\"graph_4_3_share//\")\n",
    "for i in file_l:\n",
    "    file_list.append(file_path+i)\n",
    "\n",
    "file_path=\"graph_4_4_share//\"\n",
    "file_l=os.listdir(\"graph_4_4_share//\")\n",
    "for i in file_l:\n",
    "    file_list.append(file_path+i)\n",
    "\n",
    "file_path=\"graph_4_5_share/\"\n",
    "file_l=os.listdir(\"graph_4_5_share//\")\n",
    "for i in file_l:\n",
    "    file_list.append(file_path+i)\n",
    "    \n",
    "\n",
    "# Original codes\n",
    "# for f_path in tqdm(file_list):\n",
    "#     f=open(f_path)\n",
    "#     for line in f:\n",
    "#         l=line.strip()\n",
    "#         jdata=eval(l)\n",
    "#         if jdata['loss']>0:            \n",
    "#             if 'netflow' not in str(jdata['srcmsg']):\n",
    "#                 node_set.add(str(jdata['srcmsg']))\n",
    "#             if 'netflow' not in str(jdata['dstmsg']):\n",
    "#                 node_set.add(str(jdata['dstmsg'])) \n",
    "\n",
    "# for n in tqdm(node_set):\n",
    "#     find_str=list(eval(n).values())[0]\n",
    "#     IDF=cal_train_IDF(n,file_list)\n",
    "#     node_IDF[n]=IDF\n",
    "    \n",
    "    \n",
    "# The optimized codes  \n",
    "node_set = {}\n",
    "for f_path in tqdm(file_list):\n",
    "    f=open(f_path)\n",
    "    for line in f:\n",
    "        l=line.strip()\n",
    "        jdata=eval(l)\n",
    "        jdata=eval(l)\n",
    "        if jdata['loss']>0:\n",
    "            if 'netflow' not in str(jdata['srcmsg']):\n",
    "                if str(jdata['srcmsg']) not in node_set.keys():\n",
    "                    node_set[str(jdata['srcmsg'])] = set([f_path])\n",
    "                else:\n",
    "                    node_set[str(jdata['srcmsg'])].add(f_path)\n",
    "            if 'netflow' not in str(jdata['dstmsg']):\n",
    "                if str(jdata['dstmsg']) not in node_set.keys():\n",
    "                    node_set[str(jdata['dstmsg'])] = set([f_path])\n",
    "                else:\n",
    "                    node_set[str(jdata['dstmsg'])].add(f_path)\n",
    "for n in node_set:\n",
    "    include_count = len(node_set[n])   \n",
    "    IDF=math.log(len(file_list)/(include_count+1))\n",
    "    node_IDF[n] = IDF     \n",
    "    \n",
    "  \n",
    "    \n",
    "#     if 'subject' in n:\n",
    "#         node_IDF[n]=IDF*1\n",
    "#     else:\n",
    "#         node_IDF[n]=IDF*diff_ner\n",
    "\n",
    "torch.save(node_IDF,\"node_IDF_4_3-4_5\")\n",
    "print(\"IDF weight calculate complete!\")"
   ]
  },
  {
   "cell_type": "code",
   "execution_count": null,
   "metadata": {},
   "outputs": [],
   "source": []
  },
  {
   "cell_type": "markdown",
   "metadata": {},
   "source": [
    "## 窗口关系建立函数"
   ]
  },
  {
   "cell_type": "code",
   "execution_count": 37,
   "metadata": {},
   "outputs": [],
   "source": [
    "file_list=[]\n",
    "\n",
    "file_path=\"graph_4_3_share//\"\n",
    "file_l=os.listdir(\"graph_4_3_share//\")\n",
    "for i in file_l:\n",
    "    file_list.append(file_path+i)\n",
    "\n",
    "file_path=\"graph_4_4_share//\"\n",
    "file_l=os.listdir(\"graph_4_4_share//\")\n",
    "for i in file_l:\n",
    "    file_list.append(file_path+i)\n",
    "\n",
    "file_path=\"graph_4_5_share//\"\n",
    "file_l=os.listdir(\"graph_4_5_share//\")\n",
    "for i in file_l:\n",
    "    file_list.append(file_path+i)\n",
    "    \n",
    "# 下面这个函数，开源时加comment，为了剔除common nodes\n",
    "def is_include_key_word(s):\n",
    "    keywords=[\n",
    "         'netflow',\n",
    "        '/home/george/Drafts' ,\n",
    "        'usr',\n",
    "        'proc',\n",
    "        'var',\n",
    "        'cadet',\n",
    "        '/var/log/debug.log',\n",
    "        '/var/log/cron',\n",
    "        '/home/charles/Drafts',\n",
    "        '/etc/ssl/cert.pem',\n",
    "        '/tmp/.31.3022e',  \n",
    "      ]\n",
    "    flag=False\n",
    "    for i in keywords:\n",
    "        if i in s:\n",
    "            flag=True\n",
    "    return flag\n",
    "    \n",
    "def cal_set_rel(s1,s2):\n",
    "    new_s=s1 & s2\n",
    "    count=0\n",
    "#     node_IDF=torch.load(\"node_IDF_4_3-4_5\")\n",
    "    for i in new_s:\n",
    "        \n",
    "# 下面这个函数，开源时加comment，为了剔除common nodes\n",
    "        if is_include_key_word(i) is True:\n",
    "            node_IDF[i]=math.log(len(file_list)/(1+len(file_list)))\n",
    "            \n",
    "        if i in node_IDF.keys():\n",
    "            IDF=node_IDF[i]\n",
    "        else:\n",
    "            IDF=math.log(len(file_list)/(1))\n",
    "#             print(IDF)\n",
    "        if IDF>(math.log(len(file_list)*0.9)):\n",
    "            print(\"node:\",i,\" IDF:\",IDF)\n",
    "            count+=1\n",
    "    return count"
   ]
  },
  {
   "cell_type": "code",
   "execution_count": null,
   "metadata": {},
   "outputs": [],
   "source": []
  },
  {
   "cell_type": "code",
   "execution_count": 44,
   "metadata": {},
   "outputs": [
    {
     "name": "stdout",
     "output_type": "stream",
     "text": [
      "index_count: 0\n",
      "thr: 2.0254392510743475\n",
      "2018-04-05 00:00:00.019021794~2018-04-05 00:15:00.828996051.txt    2.4401597110687923  num of anomalous edges within the time window: 1327  percentage of anomalous edges: 0.10799153645833333  anomalous node count: 74  anomalous edge count: 93\n",
      "index_count: 1\n",
      "thr: 1.5968371127055037\n",
      "2018-04-05 00:15:00.828996051~2018-04-05 00:31:53.958984540.txt    2.126877556964881  num of anomalous edges within the time window: 2372  percentage of anomalous edges: 0.1286892361111111  anomalous node count: 82  anomalous edge count: 116\n",
      "index_count: 2\n",
      "thr: 1.9736710775905066\n",
      "2018-04-05 00:31:53.958984540~2018-04-05 00:47:02.738955442.txt    2.390264725988329  num of anomalous edges within the time window: 1494  percentage of anomalous edges: 0.12158203125  anomalous node count: 54  anomalous edge count: 71\n",
      "index_count: 3\n",
      "thr: 1.9395233924079043\n",
      "2018-04-05 00:47:02.738955442~2018-04-05 01:02:10.248933422.txt    2.362452552847992  num of anomalous edges within the time window: 1324  percentage of anomalous edges: 0.11754261363636363  anomalous node count: 54  anomalous edge count: 67\n",
      "index_count: 4\n",
      "thr: 1.9963791568567408\n",
      "2018-04-05 01:02:10.248933422~2018-04-05 01:17:16.198913636.txt    2.3938867459276416  num of anomalous edges within the time window: 1378  percentage of anomalous edges: 0.12233664772727272  anomalous node count: 53  anomalous edge count: 68\n",
      "index_count: 5\n",
      "thr: 1.5224176161325702\n",
      "2018-04-05 01:17:16.198913636~2018-04-05 01:32:24.868893768.txt    2.1002497520695957  num of anomalous edges within the time window: 2105  percentage of anomalous edges: 0.12092141544117647  anomalous node count: 72  anomalous edge count: 98\n",
      "index_count: 6\n",
      "thr: 2.0000773748697487\n",
      "2018-04-05 01:32:24.868893768~2018-04-05 01:48:31.268873586.txt    2.394860729976778  num of anomalous edges within the time window: 1447  percentage of anomalous edges: 0.11775716145833333  anomalous node count: 53  anomalous edge count: 71\n",
      "index_count: 7\n",
      "thr: 1.9296459003962845\n",
      "2018-04-05 01:48:31.268873586~2018-04-05 02:03:38.918851533.txt    2.355600359117178  num of anomalous edges within the time window: 1330  percentage of anomalous edges: 0.11807528409090909  anomalous node count: 55  anomalous edge count: 65\n",
      "index_count: 8\n",
      "thr: 1.9416707930748873\n",
      "2018-04-05 02:03:38.918851533~2018-04-05 02:19:27.878832963.txt    2.3382968652733993  num of anomalous edges within the time window: 1522  percentage of anomalous edges: 0.12386067708333333  anomalous node count: 66  anomalous edge count: 82\n",
      "index_count: 9\n",
      "thr: 1.5811451299735806\n",
      "2018-04-05 02:19:27.878832963~2018-04-05 02:34:55.308818790.txt    2.1457103994984266  num of anomalous edges within the time window: 2147  percentage of anomalous edges: 0.12333409926470588  anomalous node count: 66  anomalous edge count: 84\n",
      "index_count: 10\n",
      "thr: 1.9724935476731882\n",
      "2018-04-05 02:34:55.308818790~2018-04-05 02:51:02.788787835.txt    2.390060067667056  num of anomalous edges within the time window: 1459  percentage of anomalous edges: 0.11873372395833333  anomalous node count: 52  anomalous edge count: 67\n",
      "index_count: 11\n",
      "thr: 1.9463749526747667\n",
      "2018-04-05 02:51:02.788787835~2018-04-05 03:06:12.028777110.txt    2.3786262850491506  num of anomalous edges within the time window: 1325  percentage of anomalous edges: 0.11763139204545454  anomalous node count: 54  anomalous edge count: 63\n",
      "index_count: 12\n",
      "thr: 1.6196989365092687\n",
      "2018-04-05 03:06:12.028777110~2018-04-05 03:21:19.838755484.txt    2.144902490436518  num of anomalous edges within the time window: 2441  percentage of anomalous edges: 0.13243272569444445  anomalous node count: 106  anomalous edge count: 148\n",
      "index_count: 13\n",
      "thr: 1.9428859828661138\n",
      "2018-04-05 03:21:19.838755484~2018-04-05 03:37:25.368725436.txt    2.378109259401413  num of anomalous edges within the time window: 1309  percentage of anomalous edges: 0.1162109375  anomalous node count: 44  anomalous edge count: 52\n",
      "index_count: 14\n",
      "thr: 1.952875809734096\n",
      "2018-04-05 03:37:25.368725436~2018-04-05 03:53:32.318702503.txt    2.352257414768807  num of anomalous edges within the time window: 1518  percentage of anomalous edges: 0.12353515625  anomalous node count: 54  anomalous edge count: 71\n",
      "index_count: 15\n",
      "thr: 1.9770054122801426\n",
      "2018-04-05 03:53:32.318702503~2018-04-05 04:08:42.908682387.txt    2.36407122512334  num of anomalous edges within the time window: 1531  percentage of anomalous edges: 0.12459309895833333  anomalous node count: 61  anomalous edge count: 81\n",
      "index_count: 16\n",
      "thr: 1.551328732776091\n",
      "2018-04-05 04:08:42.908682387~2018-04-05 04:23:50.318662591.txt    2.122611037994686  num of anomalous edges within the time window: 2128  percentage of anomalous edges: 0.12224264705882353  anomalous node count: 72  anomalous edge count: 90\n",
      "index_count: 17\n",
      "thr: 1.9718600377174536\n",
      "2018-04-05 04:23:50.318662591~2018-04-05 04:38:56.418642944.txt    2.3702475811222943  num of anomalous edges within the time window: 1363  percentage of anomalous edges: 0.12100497159090909  anomalous node count: 50  anomalous edge count: 65\n",
      "index_count: 18\n",
      "thr: 1.9735996383653607\n",
      "2018-04-05 04:38:56.418642944~2018-04-05 04:55:00.098619914.txt    2.371351275834881  num of anomalous edges within the time window: 1525  percentage of anomalous edges: 0.12410481770833333  anomalous node count: 58  anomalous edge count: 73\n",
      "index_count: 19\n",
      "thr: 1.976977399692455\n",
      "2018-04-05 04:55:00.098619914~2018-04-05 05:10:13.418602025.txt    2.3513687057661885  num of anomalous edges within the time window: 1544  percentage of anomalous edges: 0.12565104166666666  anomalous node count: 68  anomalous edge count: 91\n",
      "index_count: 20\n",
      "thr: 1.5554484719585109\n",
      "2018-04-05 05:10:13.418602025~2018-04-05 05:25:20.928580035.txt    2.1316449776256787  num of anomalous edges within the time window: 2125  percentage of anomalous edges: 0.1220703125  anomalous node count: 73  anomalous edge count: 93\n",
      "index_count: 21\n",
      "thr: 1.979518029828582\n",
      "2018-04-05 05:25:20.928580035~2018-04-05 05:40:27.218561900.txt    2.3830630057941784  num of anomalous edges within the time window: 1375  percentage of anomalous edges: 0.1220703125  anomalous node count: 56  anomalous edge count: 72\n",
      "index_count: 22\n",
      "thr: 1.963656319607165\n",
      "2018-04-05 05:40:27.218561900~2018-04-05 05:56:16.798541310.txt    2.3645474198791714  num of anomalous edges within the time window: 1512  percentage of anomalous edges: 0.123046875  anomalous node count: 52  anomalous edge count: 67\n",
      "index_count: 23\n",
      "thr: 1.939492182922936\n",
      "2018-04-05 05:56:16.798541310~2018-04-05 06:11:41.438523073.txt    2.369858636312893  num of anomalous edges within the time window: 1308  percentage of anomalous edges: 0.11612215909090909  anomalous node count: 50  anomalous edge count: 62\n",
      "index_count: 24\n",
      "thr: 1.6244750753987167\n",
      "2018-04-05 06:11:41.438523073~2018-04-05 06:27:51.038498857.txt    2.1653199361705306  num of anomalous edges within the time window: 2408  percentage of anomalous edges: 0.1306423611111111  anomalous node count: 82  anomalous edge count: 113\n",
      "index_count: 25\n",
      "thr: 1.9559510713936894\n",
      "2018-04-05 06:27:51.038498857~2018-04-05 06:43:12.708474804.txt    2.339555914643926  num of anomalous edges within the time window: 1567  percentage of anomalous edges: 0.12752278645833334  anomalous node count: 64  anomalous edge count: 84\n",
      "index_count: 26\n",
      "thr: 1.9227841492018611\n",
      "2018-04-05 06:43:12.708474804~2018-04-05 06:59:06.688458946.txt    2.3471488352927925  num of anomalous edges within the time window: 1302  percentage of anomalous edges: 0.11558948863636363  anomalous node count: 42  anomalous edge count: 49\n",
      "index_count: 27\n",
      "thr: 1.9685082307610715\n",
      "2018-04-05 06:59:06.688458946~2018-04-05 07:14:15.368436870.txt    2.3561718862554666  num of anomalous edges within the time window: 1537  percentage of anomalous edges: 0.12508138020833334  anomalous node count: 66  anomalous edge count: 86\n",
      "index_count: 28\n",
      "thr: 1.594560595634967\n",
      "2018-04-05 07:14:15.368436870~2018-04-05 07:29:21.658415949.txt    2.1347151801293136  num of anomalous edges within the time window: 2262  percentage of anomalous edges: 0.12994025735294118  anomalous node count: 84  anomalous edge count: 114\n",
      "index_count: 29\n",
      "thr: 1.9759716240023948\n",
      "2018-04-05 07:29:21.658415949~2018-04-05 07:44:30.238394636.txt    2.3829530498811176  num of anomalous edges within the time window: 1512  percentage of anomalous edges: 0.123046875  anomalous node count: 57  anomalous edge count: 73\n",
      "index_count: 30\n",
      "thr: 1.9777135486526078\n",
      "2018-04-05 07:44:30.238394636~2018-04-05 07:59:37.718371772.txt    2.367448698544333  num of anomalous edges within the time window: 1410  percentage of anomalous edges: 0.12517755681818182  anomalous node count: 55  anomalous edge count: 70\n",
      "index_count: 31\n"
     ]
    },
    {
     "name": "stdout",
     "output_type": "stream",
     "text": [
      "thr: 1.9982512125470158\n",
      "2018-04-05 07:59:37.718371772~2018-04-05 08:15:00.048354234.txt    2.4055915902779756  num of anomalous edges within the time window: 1432  percentage of anomalous edges: 0.11653645833333333  anomalous node count: 61  anomalous edge count: 81\n",
      "index_count: 32\n",
      "thr: 1.5606624812397631\n",
      "2018-04-05 08:15:00.048354234~2018-04-05 08:30:00.818334493.txt    2.1269149841066306  num of anomalous edges within the time window: 2157  percentage of anomalous edges: 0.12390854779411764  anomalous node count: 85  anomalous edge count: 124\n",
      "index_count: 33\n",
      "thr: 1.9685890198492606\n",
      "2018-04-05 08:30:00.818334493~2018-04-05 08:46:58.358308872.txt    2.38025044403535  num of anomalous edges within the time window: 1455  percentage of anomalous edges: 0.118408203125  anomalous node count: 54  anomalous edge count: 70\n",
      "index_count: 34\n",
      "thr: 2.009741987120438\n",
      "2018-04-05 08:46:58.358308872~2018-04-05 09:02:14.208291024.txt    2.384720639114768  num of anomalous edges within the time window: 1572  percentage of anomalous edges: 0.1180889423076923  anomalous node count: 82  anomalous edge count: 122\n",
      "index_count: 35\n",
      "thr: 2.417749138028774\n",
      "2018-04-05 09:02:14.208291024~2018-04-05 09:18:15.908275619.txt    3.1755422876328647  num of anomalous edges within the time window: 1428  percentage of anomalous edges: 0.07339638157894737  anomalous node count: 89  anomalous edge count: 124\n",
      "index_count: 36\n",
      "thr: 2.1993907521562788\n",
      "2018-04-05 09:18:15.908275619~2018-04-05 09:33:24.388251998.txt    2.753917201067931  num of anomalous edges within the time window: 2666  percentage of anomalous edges: 0.09642650462962964  anomalous node count: 196  anomalous edge count: 261\n",
      "index_count: 37\n",
      "thr: 2.303313568612754\n",
      "2018-04-05 09:33:24.388251998~2018-04-05 09:48:31.868229749.txt    2.7611763447165965  num of anomalous edges within the time window: 1502  percentage of anomalous edges: 0.08628216911764706  anomalous node count: 115  anomalous edge count: 136\n",
      "index_count: 38\n",
      "thr: 2.640790656327698\n",
      "2018-04-05 09:48:31.868229749~2018-04-05 10:03:36.278206757.txt    2.9354003621398186  num of anomalous edges within the time window: 2593  percentage of anomalous edges: 0.10550944010416667  anomalous node count: 91  anomalous edge count: 107\n",
      "index_count: 39\n",
      "thr: 2.762642591784065\n",
      "2018-04-05 10:03:36.278206757~2018-04-05 10:18:47.548195301.txt    3.534447624963415  num of anomalous edges within the time window: 2452  percentage of anomalous edges: 0.0748291015625  anomalous node count: 136  anomalous edge count: 152\n",
      "index_count: 40\n",
      "thr: 2.4270594081388355\n",
      "2018-04-05 10:18:47.548195301~2018-04-05 10:34:09.388166476.txt    3.416794648176459  num of anomalous edges within the time window: 2389  percentage of anomalous edges: 0.072906494140625  anomalous node count: 137  anomalous edge count: 192\n",
      "index_count: 41\n",
      "thr: 2.736065246481841\n",
      "2018-04-05 10:34:09.388166476~2018-04-05 10:50:03.808154253.txt    3.922244475032743  num of anomalous edges within the time window: 1629  percentage of anomalous edges: 0.0636328125  anomalous node count: 89  anomalous edge count: 101\n",
      "index_count: 42\n",
      "thr: 2.7210827475722392\n",
      "2018-04-05 10:50:03.808154253~2018-04-05 11:05:11.618126068.txt    3.776451348047408  num of anomalous edges within the time window: 1575  percentage of anomalous edges: 0.06991299715909091  anomalous node count: 87  anomalous edge count: 97\n",
      "index_count: 43\n",
      "thr: 2.004701190660266\n",
      "2018-04-05 11:05:11.618126068~2018-04-05 11:20:19.148105624.txt    2.5368609722154285  num of anomalous edges within the time window: 2719  percentage of anomalous edges: 0.11063639322916667  anomalous node count: 121  anomalous edge count: 202\n",
      "index_count: 44\n",
      "thr: 2.596808449800478\n",
      "2018-04-05 11:20:19.148105624~2018-04-05 11:35:26.918085424.txt    3.651060794003126  num of anomalous edges within the time window: 1312  percentage of anomalous edges: 0.06101190476190476  anomalous node count: 68  anomalous edge count: 86\n",
      "index_count: 45\n",
      "thr: 2.203198281454572\n",
      "2018-04-05 11:35:26.918085424~2018-04-05 11:50:34.558062073.txt    2.6256365072616883  num of anomalous edges within the time window: 1837  percentage of anomalous edges: 0.09966362847222222  anomalous node count: 100  anomalous edge count: 159\n",
      "index_count: 46\n",
      "thr: 2.2882872194079584\n",
      "2018-04-05 11:50:34.558062073~2018-04-05 12:05:42.408045700.txt    2.967071076972029  num of anomalous edges within the time window: 1481  percentage of anomalous edges: 0.072314453125  anomalous node count: 119  anomalous edge count: 153\n",
      "index_count: 47\n",
      "thr: 2.4286162571338905\n",
      "2018-04-05 12:05:42.408045700~2018-04-05 12:21:22.598022879.txt    3.67681370001247  num of anomalous edges within the time window: 1801  percentage of anomalous edges: 0.0703515625  anomalous node count: 88  anomalous edge count: 109\n",
      "index_count: 48\n",
      "thr: 2.0256711022028897\n",
      "2018-04-05 12:21:22.598022879~2018-04-05 12:37:57.238002803.txt    2.4432060167877983  num of anomalous edges within the time window: 1589  percentage of anomalous edges: 0.11083984375  anomalous node count: 83  anomalous edge count: 125\n",
      "index_count: 49\n",
      "thr: 2.2106356386652672\n",
      "2018-04-05 12:37:57.238002803~2018-04-05 12:53:05.917980125.txt    2.8279456024714498  num of anomalous edges within the time window: 1436  percentage of anomalous edges: 0.08249080882352941  anomalous node count: 99  anomalous edge count: 136\n",
      "index_count: 50\n",
      "thr: 2.1702986935209814\n",
      "2018-04-05 12:53:05.917980125~2018-04-05 13:08:10.457959463.txt    2.676687819195419  num of anomalous edges within the time window: 1373  percentage of anomalous edges: 0.08938802083333333  anomalous node count: 106  anomalous edge count: 170\n",
      "index_count: 51\n",
      "thr: 1.9561234959491705\n",
      "2018-04-05 13:08:10.457959463~2018-04-05 13:23:21.737940445.txt    2.4984965212895043  num of anomalous edges within the time window: 2662  percentage of anomalous edges: 0.11302649456521739  anomalous node count: 162  anomalous edge count: 294\n",
      "index_count: 52\n",
      "thr: 2.3289448733156606\n",
      "2018-04-05 13:23:21.737940445~2018-04-05 13:38:28.747920982.txt    3.1031767194806186  num of anomalous edges within the time window: 1506  percentage of anomalous edges: 0.07353515625  anomalous node count: 113  anomalous edge count: 153\n",
      "index_count: 53\n",
      "thr: 2.5463167457623497\n",
      "2018-04-05 13:38:28.747920982~2018-04-05 13:53:37.257899522.txt    3.553486232264788  num of anomalous edges within the time window: 1645  percentage of anomalous edges: 0.0642578125  anomalous node count: 111  anomalous edge count: 151\n",
      "index_count: 54\n",
      "thr: 2.785995485828212\n",
      "2018-04-05 13:53:37.257899522~2018-04-05 14:08:45.097880934.txt    4.136979140298215  num of anomalous edges within the time window: 1730  percentage of anomalous edges: 0.06257233796296297  anomalous node count: 79  anomalous edge count: 84\n",
      "index_count: 55\n",
      "thr: 2.224672182607484\n",
      "2018-04-05 14:08:45.097880934~2018-04-05 14:24:37.387859365.txt    3.023308169720372  num of anomalous edges within the time window: 2455  percentage of anomalous edges: 0.08562360491071429  anomalous node count: 150  anomalous edge count: 241\n",
      "index_count: 56\n",
      "thr: 2.181501578681273\n",
      "2018-04-05 14:24:37.387859365~2018-04-05 14:40:00.907836772.txt    2.6764564054503603  num of anomalous edges within the time window: 1582  percentage of anomalous edges: 0.09087775735294118  anomalous node count: 102  anomalous edge count: 174\n",
      "index_count: 57\n",
      "thr: 2.2553374862810363\n",
      "2018-04-05 14:40:00.907836772~2018-04-05 14:55:08.907815861.txt    2.8492119891679155  num of anomalous edges within the time window: 1539  percentage of anomalous edges: 0.08349609375  anomalous node count: 99  anomalous edge count: 153\n",
      "index_count: 58\n",
      "thr: 2.4796823476138776\n",
      "2018-04-05 14:55:08.907815861~2018-04-05 15:10:16.787797610.txt    3.2161861605932662  num of anomalous edges within the time window: 1554  percentage of anomalous edges: 0.07987253289473684  anomalous node count: 87  anomalous edge count: 114\n",
      "index_count: 59\n",
      "thr: 2.2841719021453346\n",
      "2018-04-05 15:10:16.787797610~2018-04-05 15:26:23.817771480.txt    2.998536286403405  num of anomalous edges within the time window: 2706  percentage of anomalous edges: 0.0978732638888889  anomalous node count: 158  anomalous edge count: 232\n",
      "index_count: 60\n",
      "thr: 2.763478970330305\n",
      "2018-04-05 15:26:23.817771480~2018-04-05 15:41:32.747754581.txt    4.242535307112918  num of anomalous edges within the time window: 1004  percentage of anomalous edges: 0.051603618421052634  anomalous node count: 84  anomalous edge count: 87\n",
      "index_count: 61\n"
     ]
    },
    {
     "name": "stdout",
     "output_type": "stream",
     "text": [
      "thr: 2.6680127821692197\n",
      "2018-04-05 15:41:32.747754581~2018-04-05 15:57:39.747734089.txt    3.7653659456409514  num of anomalous edges within the time window: 1536  percentage of anomalous edges: 0.06818181818181818  anomalous node count: 132  anomalous edge count: 154\n",
      "index_count: 62\n",
      "thr: 2.4945387120850366\n",
      "2018-04-05 15:57:39.747734089~2018-04-05 16:13:34.727713638.txt    3.2513579003175193  num of anomalous edges within the time window: 1699  percentage of anomalous edges: 0.07900855654761904  anomalous node count: 84  anomalous edge count: 111\n",
      "index_count: 63\n",
      "thr: 2.4922714208870484\n",
      "2018-04-05 16:13:34.727713638~2018-04-05 16:29:02.837699924.txt    3.536134474732341  num of anomalous edges within the time window: 2385  percentage of anomalous edges: 0.08031384698275862  anomalous node count: 114  anomalous edge count: 154\n",
      "index_count: 64\n",
      "thr: 2.1712520618797724\n",
      "2018-04-05 16:29:02.837699924~2018-04-05 16:44:03.257674146.txt    2.7024503208097372  num of anomalous edges within the time window: 1392  percentage of anomalous edges: 0.090625  anomalous node count: 101  anomalous edge count: 169\n",
      "index_count: 65\n",
      "thr: 2.6850031397154854\n",
      "2018-04-05 16:44:03.257674146~2018-04-05 16:59:10.827650372.txt    4.071258765000564  num of anomalous edges within the time window: 1118  percentage of anomalous edges: 0.051990327380952384  anomalous node count: 79  anomalous edge count: 96\n",
      "index_count: 66\n",
      "thr: 2.1909575892274047\n",
      "2018-04-05 16:59:10.827650372~2018-04-05 17:14:19.757631615.txt    2.7807189456261825  num of anomalous edges within the time window: 1435  percentage of anomalous edges: 0.09342447916666667  anomalous node count: 91  anomalous edge count: 146\n",
      "index_count: 67\n",
      "thr: 1.8120877972279221\n",
      "2018-04-05 17:14:19.757631615~2018-04-05 17:29:42.817608450.txt    2.390085388366965  num of anomalous edges within the time window: 2642  percentage of anomalous edges: 0.1228608630952381  anomalous node count: 104  anomalous edge count: 197\n",
      "index_count: 68\n",
      "thr: 2.054814661702437\n",
      "2018-04-05 17:29:42.817608450~2018-04-05 17:45:00.787588203.txt    2.5274452803538883  num of anomalous edges within the time window: 1505  percentage of anomalous edges: 0.11305588942307693  anomalous node count: 75  anomalous edge count: 139\n",
      "index_count: 69\n",
      "thr: 2.1219456394141183\n",
      "2018-04-05 17:45:00.787588203~2018-04-05 18:00:00.897576901.txt    2.5905837649207126  num of anomalous edges within the time window: 1607  percentage of anomalous edges: 0.11209542410714286  anomalous node count: 84  anomalous edge count: 150\n",
      "index_count: 70\n",
      "thr: 2.0665352503692076\n",
      "2018-04-05 18:00:00.897576901~2018-04-05 18:15:51.217550065.txt    2.5447675248354287  num of anomalous edges within the time window: 1461  percentage of anomalous edges: 0.10975060096153846  anomalous node count: 79  anomalous edge count: 142\n",
      "index_count: 71\n",
      "thr: 1.7658208303243712\n",
      "2018-04-05 18:15:51.217550065~2018-04-05 18:31:58.647526739.txt    2.323767137592003  num of anomalous edges within the time window: 2586  percentage of anomalous edges: 0.12626953125  anomalous node count: 106  anomalous edge count: 216\n",
      "index_count: 72\n",
      "thr: 2.0992542348390777\n",
      "2018-04-05 18:31:58.647526739~2018-04-05 18:47:07.857504183.txt    2.585141658187285  num of anomalous edges within the time window: 1601  percentage of anomalous edges: 0.11167689732142858  anomalous node count: 78  anomalous edge count: 140\n",
      "index_count: 73\n",
      "thr: 2.1088875133250466\n",
      "2018-04-05 18:47:07.857504183~2018-04-05 19:02:51.597488187.txt    2.5665960908310734  num of anomalous edges within the time window: 1591  percentage of anomalous edges: 0.11097935267857142  anomalous node count: 84  anomalous edge count: 148\n",
      "index_count: 74\n",
      "thr: 2.06463704333925\n",
      "2018-04-05 19:02:51.597488187~2018-04-05 19:19:21.927461058.txt    2.5204380650468052  num of anomalous edges within the time window: 1642  percentage of anomalous edges: 0.11453683035714286  anomalous node count: 75  anomalous edge count: 138\n",
      "index_count: 75\n",
      "thr: 1.9103962564292423\n",
      "2018-04-05 19:19:21.927461058~2018-04-05 19:34:28.807441594.txt    2.460281241022188  num of anomalous edges within the time window: 2759  percentage of anomalous edges: 0.12246981534090909  anomalous node count: 114  anomalous edge count: 218\n",
      "index_count: 76\n",
      "thr: 2.0930518728573673\n",
      "2018-04-05 19:34:28.807441594~2018-04-05 19:50:39.457421452.txt    2.5696164855793007  num of anomalous edges within the time window: 1628  percentage of anomalous edges: 0.10598958333333333  anomalous node count: 83  anomalous edge count: 150\n",
      "index_count: 77\n",
      "thr: 2.8723639707942787\n",
      "2018-04-05 19:50:39.457421452~2018-04-05 20:05:43.727406866.txt    3.9644880265741245  num of anomalous edges within the time window: 1723  percentage of anomalous edges: 0.084130859375  anomalous node count: 79  anomalous edge count: 81\n",
      "index_count: 78\n",
      "thr: 1.7508871642990527\n",
      "2018-04-05 20:05:43.727406866~2018-04-05 20:20:53.647380275.txt    2.2812536139506845  num of anomalous edges within the time window: 2560  percentage of anomalous edges: 0.125  anomalous node count: 108  anomalous edge count: 215\n",
      "index_count: 79\n",
      "thr: 2.111801252457973\n",
      "2018-04-05 20:20:53.647380275~2018-04-05 20:36:02.337354040.txt    2.5168934157358924  num of anomalous edges within the time window: 1741  percentage of anomalous edges: 0.11334635416666666  anomalous node count: 88  anomalous edge count: 164\n",
      "index_count: 80\n",
      "thr: 2.0520243431631284\n",
      "2018-04-05 20:36:02.337354040~2018-04-05 20:52:09.327336640.txt    2.4972130447645684  num of anomalous edges within the time window: 1523  percentage of anomalous edges: 0.11440805288461539  anomalous node count: 81  anomalous edge count: 144\n",
      "index_count: 81\n",
      "thr: 2.6802496295128733\n",
      "2018-04-05 20:52:09.327336640~2018-04-05 21:07:10.977316255.txt    3.9352212147858308  num of anomalous edges within the time window: 1048  percentage of anomalous edges: 0.06020220588235294  anomalous node count: 68  anomalous edge count: 79\n",
      "index_count: 82\n",
      "thr: 2.4397408988892466\n",
      "2018-04-05 21:07:10.977316255~2018-04-05 21:22:26.127306715.txt    3.720941153362658  num of anomalous edges within the time window: 1690  percentage of anomalous edges: 0.07175611413043478  anomalous node count: 87  anomalous edge count: 112\n",
      "index_count: 83\n",
      "thr: 2.712325006044759\n",
      "2018-04-05 21:22:26.127306715~2018-04-05 21:38:32.887280445.txt    3.9126555873050752  num of anomalous edges within the time window: 1228  percentage of anomalous edges: 0.0666232638888889  anomalous node count: 70  anomalous edge count: 81\n",
      "index_count: 84\n",
      "thr: 2.0579573662749597\n",
      "2018-04-05 21:38:32.887280445~2018-04-05 21:54:40.767253589.txt    2.4911929963222823  num of anomalous edges within the time window: 1659  percentage of anomalous edges: 0.11572265625  anomalous node count: 80  anomalous edge count: 149\n",
      "index_count: 85\n",
      "thr: 2.1187584589357007\n",
      "2018-04-05 21:54:40.767253589~2018-04-05 22:10:48.657231894.txt    2.548826983241403  num of anomalous edges within the time window: 1781  percentage of anomalous edges: 0.10870361328125  anomalous node count: 97  anomalous edge count: 172\n",
      "index_count: 86\n",
      "thr: 1.7988240046546529\n",
      "2018-04-05 22:10:48.657231894~2018-04-05 22:26:54.227211858.txt    2.3371014628986657  num of anomalous edges within the time window: 2598  percentage of anomalous edges: 0.12081473214285714  anomalous node count: 113  anomalous edge count: 225\n",
      "index_count: 87\n",
      "thr: 2.0742798546938133\n",
      "2018-04-05 22:26:54.227211858~2018-04-05 22:43:03.677188299.txt    2.5042195150761004  num of anomalous edges within the time window: 1647  percentage of anomalous edges: 0.11488560267857142  anomalous node count: 87  anomalous edge count: 165\n",
      "index_count: 88\n",
      "thr: 2.648995394658278\n",
      "2018-04-05 22:43:03.677188299~2018-04-05 22:59:12.127167319.txt    4.153363659051046  num of anomalous edges within the time window: 1045  percentage of anomalous edges: 0.0537109375  anomalous node count: 70  anomalous edge count: 89\n",
      "index_count: 89\n",
      "thr: 2.1990630428644526\n",
      "2018-04-05 22:59:12.127167319~2018-04-05 23:14:18.697147803.txt    2.8893199269338403  num of anomalous edges within the time window: 10243  percentage of anomalous edges: 0.05496115212912088  anomalous node count: 1985  anomalous edge count: 2054\n",
      "index_count: 90\n",
      "thr: 1.749496205097254\n",
      "2018-04-05 23:14:18.697147803~2018-04-05 23:30:00.957128263.txt    2.2721867148404025  num of anomalous edges within the time window: 2858  percentage of anomalous edges: 0.13290550595238096  anomalous node count: 111  anomalous edge count: 226\n",
      "index_count: 91\n"
     ]
    },
    {
     "name": "stdout",
     "output_type": "stream",
     "text": [
      "thr: 1.8017819048409027\n",
      "2018-04-05 23:30:00.957128263~2018-04-05 23:45:01.057108814.txt    2.0596920655361854  num of anomalous edges within the time window: 13049  percentage of anomalous edges: 0.11277136338495575  anomalous node count: 6301  anomalous edge count: 6415\n"
     ]
    }
   ],
   "source": [
    "# 通过4-5的数据来确认阈值\n",
    "import copy\n",
    "# node_IDF=torch.load(\"node_IDF_4_3-4_5\")\n",
    "y_data_4_5=[]\n",
    "df_list_4_5=[]\n",
    "# node_set_list=[]\n",
    "history_list=[]\n",
    "tw_que=[]\n",
    "his_tw={}\n",
    "current_tw={}\n",
    "\n",
    "file_l=os.listdir(\"graph_4_5_share/\")\n",
    "index_count=0\n",
    "for f_path in sorted(file_l):\n",
    "    f=open(\"graph_4_5_share/\"+f_path)\n",
    "    edge_loss_list=[]\n",
    "    edge_list=[]\n",
    "    print('index_count:',index_count)\n",
    "    \n",
    "    for line in f:\n",
    "        l=line.strip()\n",
    "        jdata=eval(l)\n",
    "        edge_loss_list.append(jdata['loss'])\n",
    "        edge_list.append([str(jdata['srcmsg']),str(jdata['dstmsg'])])\n",
    "    df_list_4_5.append(pd.DataFrame(edge_loss_list))\n",
    "    count,loss_avg,node_set,edge_set=cal_anomaly_loss(edge_loss_list,edge_list,\"graph_4_5_share//\")\n",
    "    current_tw['name']=f_path\n",
    "    current_tw['loss']=loss_avg\n",
    "    current_tw['index']=index_count\n",
    "    current_tw['nodeset']=node_set\n",
    "\n",
    "    added_que_flag=False\n",
    "    for hq in history_list:\n",
    "        for his_tw in hq:\n",
    "            if cal_set_rel(current_tw['nodeset'],his_tw['nodeset'])!=0 and current_tw['name']!=his_tw['name']:\n",
    "                hq.append(copy.deepcopy(current_tw))\n",
    "                added_que_flag=True\n",
    "                break\n",
    "            if added_que_flag:\n",
    "                break\n",
    "    if added_que_flag is False:\n",
    "        temp_hq=[copy.deepcopy(current_tw)]\n",
    "        history_list.append(temp_hq)\n",
    "  \n",
    "    index_count+=1\n",
    "#     node_set_list.append(node_set)\n",
    "    print( f_path,\"  \",loss_avg,\" num of anomalous edges within the time window:\",count,\" percentage of anomalous edges:\",count/len(edge_list),\" anomalous node count:\",len(node_set),\" anomalous edge count:\",len(edge_set))\n",
    "    #     y_data_4_10.append([loss_avg,labels_4_10[f_path],f_path])"
   ]
  },
  {
   "cell_type": "code",
   "execution_count": 45,
   "metadata": {},
   "outputs": [
    {
     "name": "stdout",
     "output_type": "stream",
     "text": [
      "['2018-04-05 00:00:00.019021794~2018-04-05 00:15:00.828996051.txt']\n",
      "3.4401597110687923\n",
      "['2018-04-05 00:15:00.828996051~2018-04-05 00:31:53.958984540.txt']\n",
      "3.126877556964881\n",
      "['2018-04-05 00:31:53.958984540~2018-04-05 00:47:02.738955442.txt']\n",
      "3.390264725988329\n",
      "['2018-04-05 00:47:02.738955442~2018-04-05 01:02:10.248933422.txt']\n",
      "3.362452552847992\n",
      "['2018-04-05 01:02:10.248933422~2018-04-05 01:17:16.198913636.txt']\n",
      "3.3938867459276416\n",
      "['2018-04-05 01:17:16.198913636~2018-04-05 01:32:24.868893768.txt']\n",
      "3.1002497520695957\n",
      "['2018-04-05 01:32:24.868893768~2018-04-05 01:48:31.268873586.txt']\n",
      "3.394860729976778\n",
      "['2018-04-05 01:48:31.268873586~2018-04-05 02:03:38.918851533.txt']\n",
      "3.355600359117178\n",
      "['2018-04-05 02:03:38.918851533~2018-04-05 02:19:27.878832963.txt']\n",
      "3.3382968652733993\n",
      "['2018-04-05 02:19:27.878832963~2018-04-05 02:34:55.308818790.txt']\n",
      "3.1457103994984266\n",
      "['2018-04-05 02:34:55.308818790~2018-04-05 02:51:02.788787835.txt']\n",
      "3.390060067667056\n",
      "['2018-04-05 02:51:02.788787835~2018-04-05 03:06:12.028777110.txt']\n",
      "3.3786262850491506\n",
      "['2018-04-05 03:06:12.028777110~2018-04-05 03:21:19.838755484.txt']\n",
      "3.144902490436518\n",
      "['2018-04-05 03:21:19.838755484~2018-04-05 03:37:25.368725436.txt']\n",
      "3.378109259401413\n",
      "['2018-04-05 03:37:25.368725436~2018-04-05 03:53:32.318702503.txt']\n",
      "3.352257414768807\n",
      "['2018-04-05 03:53:32.318702503~2018-04-05 04:08:42.908682387.txt']\n",
      "3.36407122512334\n",
      "['2018-04-05 04:08:42.908682387~2018-04-05 04:23:50.318662591.txt']\n",
      "3.122611037994686\n",
      "['2018-04-05 04:23:50.318662591~2018-04-05 04:38:56.418642944.txt']\n",
      "3.3702475811222943\n",
      "['2018-04-05 04:38:56.418642944~2018-04-05 04:55:00.098619914.txt']\n",
      "3.371351275834881\n",
      "['2018-04-05 04:55:00.098619914~2018-04-05 05:10:13.418602025.txt']\n",
      "3.3513687057661885\n",
      "['2018-04-05 05:10:13.418602025~2018-04-05 05:25:20.928580035.txt']\n",
      "3.1316449776256787\n",
      "['2018-04-05 05:25:20.928580035~2018-04-05 05:40:27.218561900.txt']\n",
      "3.3830630057941784\n",
      "['2018-04-05 05:40:27.218561900~2018-04-05 05:56:16.798541310.txt']\n",
      "3.3645474198791714\n",
      "['2018-04-05 05:56:16.798541310~2018-04-05 06:11:41.438523073.txt']\n",
      "3.369858636312893\n",
      "['2018-04-05 06:11:41.438523073~2018-04-05 06:27:51.038498857.txt']\n",
      "3.1653199361705306\n",
      "['2018-04-05 06:27:51.038498857~2018-04-05 06:43:12.708474804.txt']\n",
      "3.339555914643926\n",
      "['2018-04-05 06:43:12.708474804~2018-04-05 06:59:06.688458946.txt']\n",
      "3.3471488352927925\n",
      "['2018-04-05 06:59:06.688458946~2018-04-05 07:14:15.368436870.txt']\n",
      "3.3561718862554666\n",
      "['2018-04-05 07:14:15.368436870~2018-04-05 07:29:21.658415949.txt']\n",
      "3.1347151801293136\n",
      "['2018-04-05 07:29:21.658415949~2018-04-05 07:44:30.238394636.txt']\n",
      "3.3829530498811176\n",
      "['2018-04-05 07:44:30.238394636~2018-04-05 07:59:37.718371772.txt']\n",
      "3.367448698544333\n",
      "['2018-04-05 07:59:37.718371772~2018-04-05 08:15:00.048354234.txt']\n",
      "3.4055915902779756\n",
      "['2018-04-05 08:15:00.048354234~2018-04-05 08:30:00.818334493.txt']\n",
      "3.1269149841066306\n",
      "['2018-04-05 08:30:00.818334493~2018-04-05 08:46:58.358308872.txt']\n",
      "3.38025044403535\n",
      "['2018-04-05 08:46:58.358308872~2018-04-05 09:02:14.208291024.txt']\n",
      "3.384720639114768\n",
      "['2018-04-05 09:02:14.208291024~2018-04-05 09:18:15.908275619.txt']\n",
      "4.175542287632865\n",
      "['2018-04-05 09:18:15.908275619~2018-04-05 09:33:24.388251998.txt']\n",
      "3.753917201067931\n",
      "['2018-04-05 09:33:24.388251998~2018-04-05 09:48:31.868229749.txt']\n",
      "3.7611763447165965\n",
      "['2018-04-05 09:48:31.868229749~2018-04-05 10:03:36.278206757.txt']\n",
      "3.9354003621398186\n",
      "['2018-04-05 10:03:36.278206757~2018-04-05 10:18:47.548195301.txt']\n",
      "4.5344476249634145\n",
      "['2018-04-05 10:18:47.548195301~2018-04-05 10:34:09.388166476.txt']\n",
      "4.4167946481764595\n",
      "['2018-04-05 10:34:09.388166476~2018-04-05 10:50:03.808154253.txt']\n",
      "4.922244475032743\n",
      "['2018-04-05 10:50:03.808154253~2018-04-05 11:05:11.618126068.txt']\n",
      "4.776451348047408\n",
      "['2018-04-05 11:05:11.618126068~2018-04-05 11:20:19.148105624.txt']\n",
      "3.5368609722154285\n",
      "['2018-04-05 11:20:19.148105624~2018-04-05 11:35:26.918085424.txt']\n",
      "4.651060794003126\n",
      "['2018-04-05 11:35:26.918085424~2018-04-05 11:50:34.558062073.txt']\n",
      "3.6256365072616883\n",
      "['2018-04-05 11:50:34.558062073~2018-04-05 12:05:42.408045700.txt']\n",
      "3.967071076972029\n",
      "['2018-04-05 12:05:42.408045700~2018-04-05 12:21:22.598022879.txt']\n",
      "4.67681370001247\n",
      "['2018-04-05 12:21:22.598022879~2018-04-05 12:37:57.238002803.txt']\n",
      "3.4432060167877983\n",
      "['2018-04-05 12:37:57.238002803~2018-04-05 12:53:05.917980125.txt']\n",
      "3.8279456024714498\n",
      "['2018-04-05 12:53:05.917980125~2018-04-05 13:08:10.457959463.txt']\n",
      "3.676687819195419\n",
      "['2018-04-05 13:08:10.457959463~2018-04-05 13:23:21.737940445.txt']\n",
      "3.4984965212895043\n",
      "['2018-04-05 13:23:21.737940445~2018-04-05 13:38:28.747920982.txt']\n",
      "4.103176719480619\n",
      "['2018-04-05 13:38:28.747920982~2018-04-05 13:53:37.257899522.txt']\n",
      "4.553486232264788\n",
      "['2018-04-05 13:53:37.257899522~2018-04-05 14:08:45.097880934.txt']\n",
      "5.136979140298215\n",
      "['2018-04-05 14:08:45.097880934~2018-04-05 14:24:37.387859365.txt']\n",
      "4.023308169720372\n",
      "['2018-04-05 14:24:37.387859365~2018-04-05 14:40:00.907836772.txt']\n",
      "3.6764564054503603\n",
      "['2018-04-05 14:40:00.907836772~2018-04-05 14:55:08.907815861.txt']\n",
      "3.8492119891679155\n",
      "['2018-04-05 14:55:08.907815861~2018-04-05 15:10:16.787797610.txt']\n",
      "4.216186160593266\n",
      "['2018-04-05 15:10:16.787797610~2018-04-05 15:26:23.817771480.txt']\n",
      "3.998536286403405\n",
      "['2018-04-05 15:26:23.817771480~2018-04-05 15:41:32.747754581.txt']\n",
      "5.242535307112918\n",
      "['2018-04-05 15:41:32.747754581~2018-04-05 15:57:39.747734089.txt']\n",
      "4.765365945640951\n",
      "['2018-04-05 15:57:39.747734089~2018-04-05 16:13:34.727713638.txt']\n",
      "4.251357900317519\n",
      "['2018-04-05 16:13:34.727713638~2018-04-05 16:29:02.837699924.txt']\n",
      "4.536134474732341\n",
      "['2018-04-05 16:29:02.837699924~2018-04-05 16:44:03.257674146.txt']\n",
      "3.7024503208097372\n",
      "['2018-04-05 16:44:03.257674146~2018-04-05 16:59:10.827650372.txt']\n",
      "5.071258765000564\n",
      "['2018-04-05 16:59:10.827650372~2018-04-05 17:14:19.757631615.txt']\n",
      "3.7807189456261825\n",
      "['2018-04-05 17:14:19.757631615~2018-04-05 17:29:42.817608450.txt']\n",
      "3.390085388366965\n",
      "['2018-04-05 17:29:42.817608450~2018-04-05 17:45:00.787588203.txt']\n",
      "3.5274452803538883\n",
      "['2018-04-05 17:45:00.787588203~2018-04-05 18:00:00.897576901.txt']\n",
      "3.5905837649207126\n",
      "['2018-04-05 18:00:00.897576901~2018-04-05 18:15:51.217550065.txt']\n",
      "3.5447675248354287\n",
      "['2018-04-05 18:15:51.217550065~2018-04-05 18:31:58.647526739.txt']\n",
      "3.323767137592003\n",
      "['2018-04-05 18:31:58.647526739~2018-04-05 18:47:07.857504183.txt']\n",
      "3.585141658187285\n",
      "['2018-04-05 18:47:07.857504183~2018-04-05 19:02:51.597488187.txt']\n",
      "3.5665960908310734\n",
      "['2018-04-05 19:02:51.597488187~2018-04-05 19:19:21.927461058.txt']\n",
      "3.5204380650468052\n",
      "['2018-04-05 19:19:21.927461058~2018-04-05 19:34:28.807441594.txt']\n",
      "3.460281241022188\n",
      "['2018-04-05 19:34:28.807441594~2018-04-05 19:50:39.457421452.txt']\n",
      "3.5696164855793007\n",
      "['2018-04-05 19:50:39.457421452~2018-04-05 20:05:43.727406866.txt']\n",
      "4.9644880265741245\n",
      "['2018-04-05 20:05:43.727406866~2018-04-05 20:20:53.647380275.txt']\n",
      "3.2812536139506845\n",
      "['2018-04-05 20:20:53.647380275~2018-04-05 20:36:02.337354040.txt']\n",
      "3.5168934157358924\n",
      "['2018-04-05 20:36:02.337354040~2018-04-05 20:52:09.327336640.txt']\n",
      "3.4972130447645684\n",
      "['2018-04-05 20:52:09.327336640~2018-04-05 21:07:10.977316255.txt']\n",
      "4.93522121478583\n",
      "['2018-04-05 21:07:10.977316255~2018-04-05 21:22:26.127306715.txt']\n",
      "4.7209411533626575\n",
      "['2018-04-05 21:22:26.127306715~2018-04-05 21:38:32.887280445.txt']\n",
      "4.912655587305075\n",
      "['2018-04-05 21:38:32.887280445~2018-04-05 21:54:40.767253589.txt']\n",
      "3.4911929963222823\n",
      "['2018-04-05 21:54:40.767253589~2018-04-05 22:10:48.657231894.txt']\n",
      "3.548826983241403\n",
      "['2018-04-05 22:10:48.657231894~2018-04-05 22:26:54.227211858.txt']\n",
      "3.3371014628986657\n",
      "['2018-04-05 22:26:54.227211858~2018-04-05 22:43:03.677188299.txt']\n",
      "3.5042195150761004\n",
      "['2018-04-05 22:43:03.677188299~2018-04-05 22:59:12.127167319.txt']\n",
      "5.153363659051046\n",
      "['2018-04-05 22:59:12.127167319~2018-04-05 23:14:18.697147803.txt']\n",
      "3.8893199269338403\n",
      "['2018-04-05 23:14:18.697147803~2018-04-05 23:30:00.957128263.txt']\n",
      "3.2721867148404025\n",
      "['2018-04-05 23:30:00.957128263~2018-04-05 23:45:01.057108814.txt']\n",
      "3.0596920655361854\n"
     ]
    }
   ],
   "source": [
    "pred_label={}\n",
    "anomalous_queue_scores = []\n",
    "\n",
    "files = os.listdir(\"graph_4_5_share/\")\n",
    "for f in files:\n",
    "    pred_label[f]=0\n",
    "\n",
    "\n",
    "for hl in history_list:\n",
    "    loss_count=0\n",
    "    for hq in hl:\n",
    "        if loss_count==0:\n",
    "            loss_count=(loss_count+1)*(hq['loss']+1)\n",
    "        else:\n",
    "            loss_count=(loss_count)*(hq['loss']+1)\n",
    "    name_list=[]\n",
    "#     if loss_count>100:\n",
    "    name_list=[]\n",
    "    for i in hl:\n",
    "        name_list.append(i['name'])\n",
    "    print(name_list)\n",
    "    for i in name_list:\n",
    "        pred_label[i]=1\n",
    "    print(loss_count)\n",
    "    \n",
    "    anomalous_queue_scores.append(loss_count)"
   ]
  },
  {
   "cell_type": "code",
   "execution_count": 46,
   "metadata": {},
   "outputs": [
    {
     "data": {
      "text/plain": [
       "5.242535307112918"
      ]
     },
     "execution_count": 46,
     "metadata": {},
     "output_type": "execute_result"
    }
   ],
   "source": [
    "beta_threshold = max(anomalous_queue_scores)\n",
    "beta_threshold"
   ]
  },
  {
   "cell_type": "markdown",
   "metadata": {},
   "source": [
    "## 新检测机制 4-6"
   ]
  },
  {
   "cell_type": "code",
   "execution_count": 38,
   "metadata": {
    "scrolled": true
   },
   "outputs": [
    {
     "name": "stdout",
     "output_type": "stream",
     "text": [
      "index_count: 0\n",
      "thr: 1.9908172406211657\n",
      "2018-04-06 00:00:00.017083676~2018-04-06 00:15:50.177068871.txt    2.4577024042755737  count: 1197  percentage: 0.08349609375  node count: 96  edge count: 154\n",
      "index_count: 1\n",
      "thr: 1.6907408764837044\n",
      "2018-04-06 00:15:50.177068871~2018-04-06 00:30:58.967045191.txt    2.1575900126233303  count: 2679  percentage: 0.130810546875  node count: 93  edge count: 197\n",
      "index_count: 2\n",
      "thr: 1.9919519756826864\n",
      "2018-04-06 00:30:58.967045191~2018-04-06 00:47:07.167023337.txt    2.5226839439954585  count: 1336  percentage: 0.08697916666666666  node count: 78  edge count: 135\n",
      "index_count: 3\n",
      "thr: 1.9612414399811182\n",
      "2018-04-06 00:47:07.167023337~2018-04-06 01:02:14.677010991.txt    2.4173589651466263  count: 1410  percentage: 0.09835379464285714  node count: 89  edge count: 165\n",
      "index_count: 4\n",
      "thr: 1.9513866290614739\n",
      "2018-04-06 01:02:14.677010991~2018-04-06 01:17:19.056982719.txt    2.398199404601927  count: 1232  percentage: 0.10026041666666667  node count: 77  edge count: 139\n",
      "index_count: 5\n",
      "thr: 1.5718403363233446\n",
      "2018-04-06 01:17:19.056982719~2018-04-06 01:32:29.456961759.txt    2.0340624965517375  count: 2626  percentage: 0.13497121710526316  node count: 94  edge count: 201\n",
      "index_count: 6\n",
      "thr: 2.007331821404542\n",
      "2018-04-06 01:32:29.456961759~2018-04-06 01:47:34.436947077.txt    2.478497332221069  count: 1366  percentage: 0.09528459821428571  node count: 78  edge count: 141\n",
      "index_count: 7\n",
      "thr: 1.931869879003782\n",
      "2018-04-06 01:47:34.436947077~2018-04-06 02:02:43.106920556.txt    2.347618421062547  count: 1382  percentage: 0.10381610576923077  node count: 85  edge count: 156\n",
      "index_count: 8\n",
      "thr: 1.9401791622907907\n",
      "2018-04-06 02:02:43.106920556~2018-04-06 02:17:48.476901849.txt    2.3588257961293215  count: 1429  percentage: 0.1073467548076923  node count: 77  edge count: 143\n",
      "index_count: 9\n",
      "thr: 1.5844458464844344\n",
      "2018-04-06 02:17:48.476901849~2018-04-06 02:33:48.406880632.txt    2.045391244012519  count: 2657  percentage: 0.13656455592105263  node count: 91  edge count: 195\n",
      "index_count: 10\n",
      "thr: 1.9208752161517113\n",
      "2018-04-06 02:33:48.406880632~2018-04-06 02:49:07.976859935.txt    2.346044336607095  count: 1367  percentage: 0.10268930288461539  node count: 74  edge count: 143\n",
      "index_count: 11\n",
      "thr: 1.9649321668251207\n",
      "2018-04-06 02:49:07.976859935~2018-04-06 03:05:04.836837911.txt    2.3881858713759763  count: 1489  percentage: 0.10386439732142858  node count: 84  edge count: 150\n",
      "index_count: 12\n",
      "thr: 1.6428860565312107\n",
      "2018-04-06 03:05:04.836837911~2018-04-06 03:21:23.736815129.txt    2.104818972259189  count: 2663  percentage: 0.130029296875  node count: 112  edge count: 205\n",
      "index_count: 13\n",
      "thr: 1.95795648597079\n",
      "2018-04-06 03:21:23.736815129~2018-04-06 03:37:30.946794613.txt    2.3770729401977864  count: 1511  percentage: 0.10539899553571429  node count: 77  edge count: 141\n",
      "index_count: 14\n",
      "thr: 1.9120848441667748\n",
      "2018-04-06 03:37:30.946794613~2018-04-06 03:52:38.836775414.txt    2.343352873859794  count: 1374  percentage: 0.10321514423076923  node count: 70  edge count: 123\n",
      "index_count: 15\n",
      "thr: 1.988980301685189\n",
      "2018-04-06 03:52:38.836775414~2018-04-06 04:07:44.916766067.txt    2.447233770446476  count: 1393  percentage: 0.09716796875  node count: 83  edge count: 147\n",
      "index_count: 16\n",
      "thr: 1.6068741317954705\n",
      "2018-04-06 04:07:44.916766067~2018-04-06 04:22:56.346731444.txt    2.073246069888973  count: 2587  percentage: 0.13296669407894737  node count: 91  edge count: 190\n",
      "index_count: 17\n",
      "thr: 1.937855967558966\n",
      "2018-04-06 04:22:56.346731444~2018-04-06 04:38:03.996711152.txt    2.3380250301952925  count: 1418  percentage: 0.1065204326923077  node count: 78  edge count: 143\n",
      "index_count: 18\n",
      "thr: 1.931546459186901\n",
      "2018-04-06 04:38:03.996711152~2018-04-06 04:54:10.956696707.txt    2.35961023971874  count: 1471  percentage: 0.10260881696428571  node count: 75  edge count: 139\n",
      "index_count: 19\n",
      "thr: 1.881139491419911\n",
      "2018-04-06 04:54:10.956696707~2018-04-06 05:09:19.686673819.txt    2.251721985575179  count: 1420  percentage: 0.11555989583333333  node count: 74  edge count: 120\n",
      "index_count: 20\n",
      "thr: 1.5994953080193837\n",
      "2018-04-06 05:09:19.686673819~2018-04-06 05:24:21.256650907.txt    2.0516905350264643  count: 2665  percentage: 0.13697574013157895  node count: 95  edge count: 197\n",
      "index_count: 21\n",
      "thr: 1.9276159520215008\n",
      "2018-04-06 05:24:21.256650907~2018-04-06 05:40:34.436635353.txt    2.3114988586371967  count: 1595  percentage: 0.11125837053571429  node count: 77  edge count: 136\n",
      "index_count: 22\n",
      "thr: 1.8848105484811102\n",
      "2018-04-06 05:40:34.436635353~2018-04-06 05:56:42.656608208.txt    2.2963994807013335  count: 1418  percentage: 0.1065204326923077  node count: 69  edge count: 133\n",
      "index_count: 23\n",
      "thr: 1.99116858620663\n",
      "2018-04-06 05:56:42.656608208~2018-04-06 06:11:49.026587588.txt    2.4730611269635365  count: 1330  percentage: 0.0927734375  node count: 84  edge count: 144\n",
      "index_count: 24\n",
      "thr: 1.5821052297318803\n",
      "2018-04-06 06:11:49.026587588~2018-04-06 06:26:59.116568845.txt    2.0584843350579405  count: 2591  percentage: 0.13317228618421054  node count: 88  edge count: 178\n",
      "index_count: 25\n",
      "thr: 1.934951306538975\n",
      "2018-04-06 06:26:59.116568845~2018-04-06 06:42:05.616549747.txt    2.3264139723883113  count: 1358  percentage: 0.11051432291666667  node count: 78  edge count: 144\n",
      "index_count: 26\n",
      "thr: 1.9276524418072127\n",
      "2018-04-06 06:42:05.616549747~2018-04-06 06:57:14.796527090.txt    2.319503073459086  count: 1472  percentage: 0.11057692307692307  node count: 77  edge count: 143\n",
      "index_count: 27\n",
      "thr: 2.0366640157742273\n",
      "2018-04-06 06:57:14.796527090~2018-04-06 07:12:21.486507686.txt    2.5295935681556116  count: 1334  percentage: 0.08684895833333334  node count: 95  edge count: 158\n",
      "index_count: 28\n",
      "thr: 1.6505729309966293\n",
      "2018-04-06 07:12:21.486507686~2018-04-06 07:28:29.926483734.txt    2.1237795095737666  count: 2628  percentage: 0.1283203125  node count: 98  edge count: 206\n",
      "index_count: 29\n",
      "thr: 1.9972350931367362\n",
      "2018-04-06 07:28:29.926483734~2018-04-06 07:43:36.186466909.txt    2.4576491233308304  count: 1482  percentage: 0.096484375  node count: 89  edge count: 164\n",
      "index_count: 30\n",
      "thr: 1.9620132293929435\n",
      "2018-04-06 07:43:36.186466909~2018-04-06 07:58:45.906442356.txt    2.3789696441524604  count: 1486  percentage: 0.10365513392857142  node count: 83  edge count: 157\n",
      "index_count: 31\n",
      "thr: 1.9533081991491907\n",
      "2018-04-06 07:58:45.906442356~2018-04-06 08:14:50.596423582.txt    2.3595347912639775  count: 1431  percentage: 0.09981863839285714  node count: 93  edge count: 166\n",
      "index_count: 32\n",
      "thr: 1.8075001592753126\n",
      "2018-04-06 08:14:50.596423582~2018-04-06 08:30:01.506400452.txt    2.2919175063705586  count: 2681  percentage: 0.11900745738636363  node count: 111  edge count: 198\n",
      "index_count: 33\n",
      "thr: 1.9967470846244977\n",
      "2018-04-06 08:30:01.506400452~2018-04-06 08:45:17.736385465.txt    2.460656714040087  count: 1433  percentage: 0.09995814732142858  node count: 97  edge count: 171\n",
      "index_count: 34\n",
      "thr: 1.9232830997840482\n",
      "2018-04-06 08:45:17.736385465~2018-04-06 09:01:17.176359680.txt    2.317143481024264  count: 1412  percentage: 0.10606971153846154  node count: 85  edge count: 156\n",
      "index_count: 35\n",
      "thr: 2.432416744869708\n",
      "2018-04-06 09:01:17.176359680~2018-04-06 09:16:25.066340315.txt    3.1333500176851414  count: 1789  percentage: 0.087353515625  node count: 99  edge count: 128\n",
      "index_count: 36\n",
      "thr: 2.2813580737431187\n",
      "node: {'file': '/home/user/#pico74511#'}  IDF: 5.6240175061873385\n",
      "2018-04-06 09:16:25.066340315~2018-04-06 09:31:25.146320510.txt    3.4541117476818224  count: 1752  percentage: 0.0712890625  node count: 95  edge count: 123\n",
      "index_count: 37\n",
      "thr: 3.175941453028093\n",
      "2018-04-06 09:31:25.146320510~2018-04-06 09:46:40.966296805.txt    4.453492609316783  count: 2085  percentage: 0.0814453125  node count: 70  edge count: 63\n",
      "index_count: 38\n",
      "thr: 2.0016438908880803\n",
      "2018-04-06 09:46:40.966296805~2018-04-06 10:01:47.476279293.txt    2.4654750884912264  count: 1252  percentage: 0.08151041666666667  node count: 91  edge count: 152\n",
      "index_count: 39\n",
      "thr: 2.0092425666447022\n",
      "2018-04-06 10:01:47.476279293~2018-04-06 10:17:55.186257332.txt    2.4720623415024554  count: 1403  percentage: 0.08563232421875  node count: 89  edge count: 147\n",
      "index_count: 40\n",
      "thr: 2.3763388682106683\n",
      "2018-04-06 10:17:55.186257332~2018-04-06 10:33:00.136241644.txt    3.485066722507822  count: 2102  percentage: 0.07602719907407407  node count: 130  edge count: 185\n",
      "index_count: 41\n"
     ]
    },
    {
     "name": "stdout",
     "output_type": "stream",
     "text": [
      "thr: 3.0103301936748013\n",
      "2018-04-06 10:33:00.136241644~2018-04-06 10:48:11.796216358.txt    4.407358262547601  count: 1646  percentage: 0.07654389880952381  node count: 105  edge count: 106\n",
      "index_count: 42\n",
      "thr: 2.9526448575217303\n",
      "2018-04-06 10:48:11.796216358~2018-04-06 11:03:19.756210028.txt    3.994000849696253  count: 2076  percentage: 0.08814538043478261  node count: 63  edge count: 64\n",
      "index_count: 43\n",
      "thr: 2.9980328642466674\n",
      "2018-04-06 11:03:19.756210028~2018-04-06 11:18:26.126177915.txt    3.6808227307550156  count: 6214  percentage: 0.1213671875  node count: 558  edge count: 559\n",
      "index_count: 44\n",
      "thr: 1.907028797497779\n",
      "node: {'file': '/home/user/.links/links.his'}  IDF: 5.6240175061873385\n",
      "node: {'subject': 'links'}  IDF: 5.6240175061873385\n",
      "2018-04-06 11:18:26.126177915~2018-04-06 11:33:35.116170745.txt    2.541123864357893  count: 2182  percentage: 0.09685724431818182  node count: 138  edge count: 243\n",
      "index_count: 45\n",
      "thr: 2.1859289705376264\n",
      "node: {'subject': 'vUgefal'}  IDF: 5.6240175061873385\n",
      "2018-04-06 11:33:35.116170745~2018-04-06 11:48:42.606135188.txt    2.8261370325620288  count: 1345  percentage: 0.08756510416666667  node count: 59  edge count: 64\n",
      "index_count: 46\n",
      "thr: 2.3795796535234888\n",
      "node: {'subject': 'vUgefal'}  IDF: 5.6240175061873385\n",
      "2018-04-06 11:48:42.606135188~2018-04-06 12:03:50.186115455.txt    3.055979667539182  count: 1610  percentage: 0.08734809027777778  node count: 66  edge count: 73\n",
      "index_count: 47\n",
      "thr: 2.1344613906623398\n",
      "node: {'subject': 'vUgefal'}  IDF: 5.6240175061873385\n",
      "2018-04-06 12:03:50.186115455~2018-04-06 14:01:32.489584227.txt    2.5693435541155876  count: 653  percentage: 0.0797119140625  node count: 58  edge count: 63\n",
      "index_count: 48\n",
      "thr: 2.2064551420468015\n",
      "2018-04-06 14:01:32.489584227~2018-04-06 14:16:39.379560570.txt    2.981017921849301  count: 2375  percentage: 0.07731119791666667  node count: 114  edge count: 158\n",
      "index_count: 49\n",
      "thr: 2.471679331414886\n",
      "2018-04-06 14:16:39.379560570~2018-04-06 14:31:41.149538564.txt    3.660409980625797  count: 1249  percentage: 0.06419613486842106  node count: 84  edge count: 106\n",
      "index_count: 50\n",
      "thr: 2.711786298481271\n",
      "2018-04-06 14:31:41.149538564~2018-04-06 14:46:47.869522833.txt    3.4488223514778884  count: 2062  percentage: 0.06712239583333333  node count: 147  edge count: 162\n",
      "index_count: 51\n",
      "thr: 2.6482025018857236\n",
      "node: {'file': '/home/user/#pico02441#'}  IDF: 5.6240175061873385\n",
      "2018-04-06 14:46:47.869522833~2018-04-06 15:02:04.169502159.txt    4.249219655776195  count: 1112  percentage: 0.057154605263157895  node count: 86  edge count: 102\n",
      "index_count: 52\n",
      "thr: 2.613545031240469\n",
      "2018-04-06 15:02:04.169502159~2018-04-06 15:17:11.749480935.txt    3.726207311280006  count: 2260  percentage: 0.0711945564516129  node count: 125  edge count: 140\n",
      "index_count: 53\n",
      "thr: 2.6989307390367694\n",
      "2018-04-06 15:17:11.749480935~2018-04-06 15:32:19.019459138.txt    3.9036627526926746  count: 1445  percentage: 0.070556640625  node count: 143  edge count: 151\n",
      "index_count: 54\n",
      "thr: 2.058666208003889\n",
      "2018-04-06 15:32:19.019459138~2018-04-06 15:47:25.559439120.txt    2.603608114544424  count: 1131  percentage: 0.07889229910714286  node count: 84  edge count: 138\n",
      "index_count: 55\n",
      "thr: 2.1159672065056654\n",
      "2018-04-06 15:47:25.559439120~2018-04-06 16:02:51.629418719.txt    2.76043790843431  count: 1239  percentage: 0.07562255859375  node count: 102  edge count: 151\n",
      "index_count: 56\n",
      "thr: 2.6267065842984367\n",
      "2018-04-06 16:02:51.629418719~2018-04-06 16:18:33.979401357.txt    3.8456191522932444  count: 2323  percentage: 0.06874408143939394  node count: 110  edge count: 127\n",
      "index_count: 57\n",
      "thr: 3.1265543950043293\n",
      "2018-04-06 16:18:33.979401357~2018-04-06 16:34:47.879379108.txt    4.370727905456579  count: 2135  percentage: 0.08687337239583333  node count: 77  edge count: 80\n",
      "index_count: 58\n",
      "thr: 2.385779479260859\n",
      "2018-04-06 16:34:47.879379108~2018-04-06 16:50:08.479356930.txt    3.3306985200741592  count: 1386  percentage: 0.07123766447368421  node count: 88  edge count: 116\n",
      "index_count: 59\n",
      "thr: 3.242425193630033\n",
      "node: {'file': '/home/user/#pico04533#'}  IDF: 5.6240175061873385\n",
      "2018-04-06 16:50:08.479356930~2018-04-06 17:05:29.239333653.txt    4.677806625760211  count: 2953  percentage: 0.06554066051136363  node count: 201  edge count: 205\n",
      "index_count: 60\n",
      "thr: 2.734074516799004\n",
      "2018-04-06 17:05:29.239333653~2018-04-06 17:20:51.639321683.txt    4.061632658395035  count: 2253  percentage: 0.0647116268382353  node count: 122  edge count: 136\n",
      "index_count: 61\n",
      "thr: 2.9515393927964793\n",
      "2018-04-06 17:20:51.639321683~2018-04-06 17:35:54.449302990.txt    3.836990052188923  count: 2448  percentage: 0.053125  node count: 192  edge count: 204\n",
      "index_count: 62\n",
      "thr: 2.877624767976937\n",
      "2018-04-06 17:35:54.449302990~2018-04-06 17:51:58.069270063.txt    4.095104057983782  count: 1590  percentage: 0.033755095108695655  node count: 187  edge count: 194\n",
      "index_count: 63\n",
      "thr: 2.3389877277555913\n",
      "2018-04-06 17:51:58.069270063~2018-04-06 18:08:36.779250443.txt    3.214058521168763  count: 1253  percentage: 0.06797960069444445  node count: 107  edge count: 149\n",
      "index_count: 64\n",
      "thr: 1.9929401746218538\n",
      "2018-04-06 18:08:36.779250443~2018-04-06 18:24:17.369229503.txt    2.7930019912122233  count: 2059  percentage: 0.09139737215909091  node count: 98  edge count: 165\n",
      "index_count: 65\n",
      "thr: 2.482369241374977\n",
      "2018-04-06 18:24:17.369229503~2018-04-06 18:40:52.729207049.txt    3.817841097160622  count: 1107  percentage: 0.05689761513157895  node count: 95  edge count: 130\n",
      "index_count: 66\n",
      "thr: 2.526652159817593\n",
      "2018-04-06 18:40:52.729207049~2018-04-06 18:55:59.999193978.txt    3.9440033380854715  count: 1041  percentage: 0.056477864583333336  node count: 78  edge count: 100\n",
      "index_count: 67\n",
      "thr: 2.187228799566967\n",
      "2018-04-06 18:55:59.999193978~2018-04-06 19:11:08.459167047.txt    2.9594735077449252  count: 1141  percentage: 0.07428385416666666  node count: 93  edge count: 123\n",
      "index_count: 68\n",
      "thr: 2.730364071250554\n",
      "2018-04-06 19:11:08.459167047~2018-04-06 19:26:14.719145309.txt    3.930372571656781  count: 2480  percentage: 0.08072916666666667  node count: 162  edge count: 175\n",
      "index_count: 69\n",
      "thr: 2.726359756392264\n",
      "2018-04-06 19:26:14.719145309~2018-04-06 19:41:23.549124701.txt    3.7038412071640203  count: 1379  percentage: 0.056111653645833336  node count: 152  edge count: 153\n",
      "index_count: 70\n",
      "thr: 2.2348581840774333\n",
      "2018-04-06 19:41:23.549124701~2018-04-06 19:57:28.259104051.txt    3.1789404777042156  count: 1031  percentage: 0.06712239583333333  node count: 73  edge count: 101\n",
      "index_count: 71\n",
      "thr: 2.8336574446079594\n",
      "2018-04-06 19:57:28.259104051~2018-04-06 20:13:39.769084097.txt    4.095747558435094  count: 1647  percentage: 0.08465254934210527  node count: 70  edge count: 76\n",
      "index_count: 72\n",
      "thr: 2.272191242911824\n",
      "2018-04-06 20:13:39.769084097~2018-04-06 20:28:47.019060830.txt    3.4181051023317663  count: 1693  percentage: 0.07515092329545454  node count: 78  edge count: 99\n",
      "index_count: 73\n",
      "thr: 2.20409607241838\n",
      "2018-04-06 20:28:47.019060830~2018-04-06 20:43:57.369040719.txt    3.175084833623999  count: 944  percentage: 0.06584821428571429  node count: 74  edge count: 98\n",
      "index_count: 74\n",
      "thr: 2.9498350486298675\n",
      "2018-04-06 20:43:57.369040719~2018-04-06 20:59:02.029030474.txt    3.8906240581323543  count: 1878  percentage: 0.05239955357142857  node count: 212  edge count: 216\n",
      "index_count: 75\n",
      "thr: 2.3838998929370665\n",
      "2018-04-06 20:59:02.029030474~2018-04-06 21:15:00.619010803.txt    3.370448839711392  count: 1016  percentage: 0.06201171875  node count: 78  edge count: 83\n",
      "index_count: 76\n",
      "thr: 1.8891851413233498\n",
      "2018-04-06 21:15:00.619010803~2018-04-06 21:30:00.778978760.txt    2.533410919094425  count: 2248  percentage: 0.10453869047619048  node count: 116  edge count: 202\n",
      "index_count: 77\n",
      "thr: 2.2493033052193283\n",
      "2018-04-06 21:30:00.778978760~2018-04-06 21:45:25.218957773.txt    3.18683831938538  count: 1053  percentage: 0.0685546875  node count: 71  edge count: 98\n",
      "index_count: 78\n",
      "thr: 2.035816397825982\n",
      "2018-04-06 21:45:25.218957773~2018-04-06 22:01:32.928937945.txt    2.516102907156963  count: 1281  percentage: 0.0833984375  node count: 94  edge count: 148\n",
      "index_count: 79\n",
      "thr: 2.362474304471144\n",
      "2018-04-06 22:01:32.928937945~2018-04-06 22:17:39.688914711.txt    3.592846509114384  count: 1814  percentage: 0.07381184895833333  node count: 87  edge count: 112\n",
      "index_count: 80\n",
      "thr: 2.1787860082665294\n",
      "2018-04-06 22:17:39.688914711~2018-04-06 22:32:48.168897833.txt    3.0155906004961146  count: 1032  percentage: 0.0671875  node count: 75  edge count: 102\n",
      "index_count: 81\n"
     ]
    },
    {
     "name": "stdout",
     "output_type": "stream",
     "text": [
      "thr: 2.5848167496047556\n",
      "2018-04-06 22:32:48.168897833~2018-04-06 22:48:06.838874079.txt    3.761243191615698  count: 1301  percentage: 0.07473575367647059  node count: 66  edge count: 77\n",
      "index_count: 82\n",
      "thr: 2.264000268496172\n",
      "2018-04-06 22:48:06.838874079~2018-04-06 23:03:09.188854937.txt    3.47918757774847  count: 1946  percentage: 0.02500513980263158  node count: 171  edge count: 195\n",
      "index_count: 83\n",
      "thr: 2.3139839100845307\n",
      "node: {'file': '/tmp/periodic.L7oz7KTJ1r'}  IDF: 5.6240175061873385\n",
      "2018-04-06 23:03:09.188854937~2018-04-06 23:18:10.168840981.txt    2.977040430157053  count: 6193  percentage: 0.05399867466517857  node count: 1216  edge count: 1226\n",
      "index_count: 84\n",
      "thr: 1.9532320057063668\n",
      "2018-04-06 23:18:10.168840981~2018-04-06 23:33:15.408814807.txt    2.3611681694697997  count: 1415  percentage: 0.10629507211538461  node count: 77  edge count: 142\n",
      "index_count: 85\n",
      "thr: 1.7305920435591648\n",
      "node: {'file': '/tmp/periodic.L7oz7KTJ1r'}  IDF: 5.6240175061873385\n",
      "2018-04-06 23:33:15.408814807~2018-04-06 23:49:23.948792776.txt    1.9747019268820725  count: 17787  percentage: 0.11353017769607843  node count: 9256  edge count: 9388\n"
     ]
    }
   ],
   "source": [
    "\n",
    "# node_IDF=torch.load(\"node_IDF_4_3-4_5\")\n",
    "y_data_4_6=[]\n",
    "df_list_4_6=[]\n",
    "# node_set_list=[]\n",
    "history_list=[]\n",
    "tw_que=[]\n",
    "his_tw={}\n",
    "current_tw={}\n",
    "\n",
    "file_l=os.listdir(\"graph_4_6_share/\")\n",
    "index_count=0\n",
    "for f_path in sorted(file_l):\n",
    "    f=open(\"graph_4_6_share/\"+f_path)\n",
    "    edge_loss_list=[]\n",
    "    edge_list=[]\n",
    "    print('index_count:',index_count)\n",
    "    \n",
    "    for line in f:\n",
    "        l=line.strip()\n",
    "        jdata=eval(l)\n",
    "        edge_loss_list.append(jdata['loss'])\n",
    "        edge_list.append([str(jdata['srcmsg']),str(jdata['dstmsg'])])\n",
    "    df_list_4_6.append(pd.DataFrame(edge_loss_list))\n",
    "    count,loss_avg,node_set,edge_set=cal_anomaly_loss(edge_loss_list,edge_list,\"graph_4_6_share/\")\n",
    "    current_tw['name']=f_path\n",
    "    current_tw['loss']=loss_avg\n",
    "    current_tw['index']=index_count\n",
    "    current_tw['nodeset']=node_set\n",
    "\n",
    "    added_que_flag=False\n",
    "    for hq in history_list:\n",
    "        for his_tw in hq:\n",
    "            if cal_set_rel(current_tw['nodeset'],his_tw['nodeset'])!=0 and current_tw['name']!=his_tw['name']:\n",
    "                hq.append(copy.deepcopy(current_tw))\n",
    "                added_que_flag=True\n",
    "                break\n",
    "            if added_que_flag:\n",
    "                break\n",
    "    if added_que_flag is False:\n",
    "        temp_hq=[copy.deepcopy(current_tw)]\n",
    "        history_list.append(temp_hq)\n",
    "    index_count+=1\n",
    "    print( f_path,\"  \",loss_avg,\" count:\",count,\" percentage:\",count/len(edge_list),\" node count:\",len(node_set),\" edge count:\",len(edge_set))\n"
   ]
  },
  {
   "cell_type": "code",
   "execution_count": 40,
   "metadata": {},
   "outputs": [
    {
     "name": "stdout",
     "output_type": "stream",
     "text": [
      "['2018-04-06 11:03:19.756210028~2018-04-06 11:18:26.126177915.txt', '2018-04-06 11:18:26.126177915~2018-04-06 11:33:35.116170745.txt', '2018-04-06 11:33:35.116170745~2018-04-06 11:48:42.606135188.txt', '2018-04-06 11:48:42.606135188~2018-04-06 12:03:50.186115455.txt', '2018-04-06 12:03:50.186115455~2018-04-06 14:01:32.489584227.txt']\n",
      "918.1379802082796\n"
     ]
    }
   ],
   "source": [
    "\n",
    "pred_label={}\n",
    "\n",
    "filelist = os.listdir(\"graph_4_6_share\")\n",
    "for f in filelist:\n",
    "    pred_label[f]=0\n",
    "    \n",
    "filelist = os.listdir(\"graph_4_7_share\")\n",
    "for f in filelist:\n",
    "    pred_label[f]=0\n",
    "\n",
    "for hl in history_list:\n",
    "    loss_count=0\n",
    "    for hq in hl:\n",
    "        if loss_count==0:\n",
    "            loss_count=(loss_count+1)*(hq['loss']+1)\n",
    "        else:\n",
    "            loss_count=(loss_count)*(hq['loss']+1)\n",
    "    name_list=[]\n",
    "    if loss_count>100:\n",
    "        name_list=[]\n",
    "        for i in hl:\n",
    "            name_list.append(i['name'])\n",
    "        print(name_list)\n",
    "        for i in name_list:\n",
    "            pred_label[i]=1\n",
    "        print(loss_count)"
   ]
  },
  {
   "cell_type": "markdown",
   "metadata": {},
   "source": [
    "## 新检测机制 4-7"
   ]
  },
  {
   "cell_type": "code",
   "execution_count": 41,
   "metadata": {
    "scrolled": true
   },
   "outputs": [
    {
     "name": "stdout",
     "output_type": "stream",
     "text": [
      "index_count: 0\n",
      "thr: 2.0475062222283578\n",
      "2018-04-07 00:00:00.008778912~2018-04-07 00:15:00.638758012.txt    2.5784202080257135  count: 1103  percentage: 0.07180989583333333  node count: 131  edge count: 160\n",
      "index_count: 1\n",
      "thr: 2.2583148570981004\n",
      "node: {'file': '/tmp/periodic.TWkmZ7gwrS'}  IDF: 5.6240175061873385\n",
      "2018-04-07 00:15:00.638758012~2018-04-07 00:30:00.678739107.txt    3.338940780994126  count: 2346  percentage: 0.029753449675324676  node count: 392  edge count: 408\n",
      "index_count: 2\n",
      "thr: 2.0111376011754905\n",
      "2018-04-07 00:30:00.678739107~2018-04-07 00:45:48.008718917.txt    2.478785437202601  count: 1293  percentage: 0.09019252232142858  node count: 75  edge count: 129\n",
      "index_count: 3\n",
      "thr: 1.983675478274942\n",
      "2018-04-07 00:45:48.008718917~2018-04-07 01:01:00.048699594.txt    2.4302555864991664  count: 1343  percentage: 0.09368024553571429  node count: 87  edge count: 153\n",
      "index_count: 4\n",
      "thr: 1.6608844401213747\n",
      "2018-04-07 01:01:00.048699594~2018-04-07 01:17:08.118674396.txt    2.098691243024192  count: 2819  percentage: 0.137646484375  node count: 110  edge count: 219\n",
      "index_count: 5\n",
      "thr: 1.9440583018106121\n",
      "2018-04-07 01:17:08.118674396~2018-04-07 01:32:15.738656469.txt    2.3749619997732823  count: 1368  percentage: 0.10276442307692307  node count: 81  edge count: 148\n",
      "index_count: 6\n",
      "thr: 1.9702331283478813\n",
      "2018-04-07 01:32:15.738656469~2018-04-07 01:48:06.728632339.txt    2.394252996620247  count: 1331  percentage: 0.09998497596153846  node count: 75  edge count: 138\n",
      "index_count: 7\n",
      "thr: 1.983510534306824\n",
      "2018-04-07 01:48:06.728632339~2018-04-07 02:04:30.508619128.txt    2.4102165440070307  count: 1441  percentage: 0.10051618303571429  node count: 78  edge count: 141\n",
      "index_count: 8\n",
      "thr: 1.6766767354449392\n",
      "2018-04-07 02:04:30.508619128~2018-04-07 02:20:37.378590706.txt    2.136513491296943  count: 2730  percentage: 0.13330078125  node count: 96  edge count: 196\n",
      "index_count: 9\n",
      "thr: 2.036373944180469\n",
      "2018-04-07 02:20:37.378590706~2018-04-07 02:36:02.398566241.txt    2.5700869612239288  count: 1238  percentage: 0.08635602678571429  node count: 73  edge count: 133\n",
      "index_count: 10\n",
      "thr: 2.0246170150465264\n",
      "2018-04-07 02:36:02.398566241~2018-04-07 02:51:53.698546766.txt    2.51188971632618  count: 1298  percentage: 0.09054129464285714  node count: 79  edge count: 138\n",
      "index_count: 11\n",
      "thr: 1.971263794258233\n",
      "2018-04-07 02:51:53.698546766~2018-04-07 03:07:00.248525720.txt    2.4011659971946213  count: 1302  percentage: 0.09780649038461539  node count: 79  edge count: 144\n",
      "index_count: 12\n",
      "thr: 1.683714099625344\n",
      "2018-04-07 03:07:00.248525720~2018-04-07 03:23:07.518503381.txt    2.13497760539205  count: 2763  percentage: 0.134912109375  node count: 93  edge count: 191\n",
      "index_count: 13\n",
      "thr: 1.9663192534048364\n",
      "2018-04-07 03:23:07.518503381~2018-04-07 03:38:21.038486955.txt    2.3856106037589377  count: 1447  percentage: 0.10093470982142858  node count: 82  edge count: 143\n",
      "index_count: 14\n",
      "thr: 1.901390099558121\n",
      "2018-04-07 03:38:21.038486955~2018-04-07 03:54:12.858461862.txt    2.2957282848045475  count: 1342  percentage: 0.10921223958333333  node count: 72  edge count: 131\n",
      "index_count: 15\n",
      "thr: 1.9974923647730227\n",
      "2018-04-07 03:54:12.858461862~2018-04-07 04:09:33.798446888.txt    2.4576953877126027  count: 1367  percentage: 0.09535435267857142  node count: 87  edge count: 149\n",
      "index_count: 16\n",
      "thr: 1.609277232770227\n",
      "2018-04-07 04:09:33.798446888~2018-04-07 04:24:41.418423834.txt    2.062295580399728  count: 2533  percentage: 0.1374240451388889  node count: 94  edge count: 198\n",
      "index_count: 17\n",
      "thr: 1.9571779532220503\n",
      "2018-04-07 04:24:41.418423834~2018-04-07 04:39:48.788404454.txt    2.367212460829866  count: 1345  percentage: 0.10103665865384616  node count: 74  edge count: 139\n",
      "index_count: 18\n",
      "thr: 2.000673492797802\n",
      "2018-04-07 04:39:48.788404454~2018-04-07 04:55:33.038382167.txt    2.479138843463293  count: 1331  percentage: 0.09284319196428571  node count: 80  edge count: 141\n",
      "index_count: 19\n",
      "thr: 1.9758749058403104\n",
      "2018-04-07 04:55:33.038382167~2018-04-07 05:11:04.578374282.txt    2.381472602766257  count: 1492  percentage: 0.10407366071428571  node count: 86  edge count: 151\n",
      "index_count: 20\n",
      "thr: 1.6826034602348066\n",
      "2018-04-07 05:11:04.578374282~2018-04-07 05:26:27.198342157.txt    2.180730123683118  count: 2454  percentage: 0.12613075657894737  node count: 84  edge count: 173\n",
      "index_count: 21\n",
      "thr: 2.0051434764360794\n",
      "2018-04-07 05:26:27.198342157~2018-04-07 05:43:18.328318581.txt    2.491765008414166  count: 1307  percentage: 0.09116908482142858  node count: 77  edge count: 131\n",
      "index_count: 22\n",
      "thr: 1.96038528334311\n",
      "2018-04-07 05:43:18.328318581~2018-04-07 05:59:26.278297788.txt    2.4123186229537312  count: 1381  percentage: 0.09633091517857142  node count: 74  edge count: 133\n",
      "index_count: 23\n",
      "thr: 1.989660855197961\n",
      "2018-04-07 05:59:26.278297788~2018-04-07 06:14:36.128277413.txt    2.4351300471863913  count: 1403  percentage: 0.09786551339285714  node count: 87  edge count: 148\n",
      "index_count: 24\n",
      "thr: 1.6823802641908778\n",
      "2018-04-07 06:14:36.128277413~2018-04-07 06:29:43.938255177.txt    2.154881805511592  count: 2528  percentage: 0.1299342105263158  node count: 98  edge count: 200\n",
      "index_count: 25\n",
      "thr: 1.9737371469486065\n",
      "2018-04-07 06:29:43.938255177~2018-04-07 06:44:51.448236248.txt    2.427329877647785  count: 1308  percentage: 0.09825721153846154  node count: 74  edge count: 133\n",
      "index_count: 26\n",
      "thr: 1.9476291323755497\n",
      "2018-04-07 06:44:51.448236248~2018-04-07 07:00:00.038221478.txt    2.3752659811039347  count: 1373  percentage: 0.10314002403846154  node count: 68  edge count: 121\n",
      "index_count: 27\n",
      "thr: 1.983877398460408\n",
      "2018-04-07 07:00:00.038221478~2018-04-07 07:15:05.688195960.txt    2.417601950976606  count: 1198  percentage: 0.09749348958333333  node count: 82  edge count: 138\n",
      "index_count: 28\n",
      "thr: 1.5469726911039625\n",
      "2018-04-07 07:15:05.688195960~2018-04-07 07:30:14.418177837.txt    2.012157069090122  count: 2505  percentage: 0.13590494791666666  node count: 104  edge count: 172\n",
      "index_count: 29\n",
      "thr: 2.027376391185124\n",
      "2018-04-07 07:30:14.418177837~2018-04-07 07:45:21.878154598.txt    2.4874287378169075  count: 1329  percentage: 0.09270368303571429  node count: 76  edge count: 138\n",
      "index_count: 30\n",
      "thr: 1.9372919569498568\n",
      "2018-04-07 07:45:21.878154598~2018-04-07 08:00:29.578138194.txt    2.345636837770918  count: 1372  percentage: 0.10306490384615384  node count: 82  edge count: 148\n",
      "index_count: 31\n",
      "thr: 1.9673297968024712\n",
      "2018-04-07 08:00:29.578138194~2018-04-07 08:15:57.788117378.txt    2.416348561056805  count: 1293  percentage: 0.09713040865384616  node count: 74  edge count: 132\n",
      "index_count: 32\n",
      "thr: 1.6759898081688824\n",
      "2018-04-07 08:15:57.788117378~2018-04-07 08:32:10.258101102.txt    2.1251544464294883  count: 2816  percentage: 0.1375  node count: 94  edge count: 199\n",
      "index_count: 33\n",
      "thr: 1.9786350010885123\n",
      "2018-04-07 08:32:10.258101102~2018-04-07 08:47:18.038077804.txt    2.423864091762953  count: 1246  percentage: 0.09359975961538461  node count: 74  edge count: 124\n",
      "index_count: 34\n",
      "thr: 1.9991675986398803\n",
      "2018-04-07 08:47:18.038077804~2018-04-07 09:03:01.168052225.txt    2.4448537008400693  count: 1358  percentage: 0.0947265625  node count: 91  edge count: 158\n",
      "index_count: 35\n",
      "thr: 1.7963664470947562\n",
      "2018-04-07 09:03:01.168052225~2018-04-07 09:19:07.038030612.txt    2.4057037397720555  count: 2152  percentage: 0.105078125  node count: 105  edge count: 205\n",
      "index_count: 36\n",
      "thr: 2.073079310882832\n",
      "2018-04-07 09:19:07.038030612~2018-04-07 09:35:00.558007579.txt    2.6808868901224328  count: 1208  percentage: 0.07864583333333333  node count: 82  edge count: 132\n",
      "index_count: 37\n",
      "thr: 2.1402589023881573\n",
      "2018-04-07 09:35:00.558007579~2018-04-07 09:50:24.827995819.txt    2.7482096830410745  count: 1340  percentage: 0.081787109375  node count: 84  edge count: 121\n",
      "index_count: 38\n",
      "thr: 2.0457213334041073\n",
      "2018-04-07 09:50:24.827995819~2018-04-07 10:06:03.197964940.txt    2.559753047597508  count: 1319  percentage: 0.08587239583333334  node count: 96  edge count: 159\n",
      "index_count: 39\n",
      "thr: 2.4465068860741352\n",
      "2018-04-07 10:06:03.197964940~2018-04-07 10:21:34.747944381.txt    4.132586727209408  count: 1564  percentage: 0.06640625  node count: 61  edge count: 70\n",
      "index_count: 40\n",
      "thr: 3.016912869534608\n",
      "2018-04-07 10:21:34.747944381~2018-04-07 10:36:44.657924040.txt    4.422770599789578  count: 2171  percentage: 0.050478980654761904  node count: 238  edge count: 245\n",
      "index_count: 41\n",
      "thr: 2.3523093213324655\n",
      "2018-04-07 10:36:44.657924040~2018-04-07 10:51:55.367905007.txt    3.506981488362554  count: 1069  percentage: 0.06140854779411765  node count: 66  edge count: 90\n",
      "index_count: 42\n"
     ]
    },
    {
     "name": "stdout",
     "output_type": "stream",
     "text": [
      "thr: 3.1442799836437\n",
      "2018-04-07 10:51:55.367905007~2018-04-07 11:07:01.987882382.txt    4.989996227512224  count: 1547  percentage: 0.0604296875  node count: 74  edge count: 72\n",
      "index_count: 43\n",
      "thr: 2.7745876959090037\n",
      "node: {'file': '/home/user/#pico21309#'}  IDF: 5.6240175061873385\n",
      "2018-04-07 11:07:01.987882382~2018-04-07 11:22:08.247863262.txt    3.866933889565091  count: 2871  percentage: 0.05965342420212766  node count: 225  edge count: 240\n",
      "index_count: 44\n",
      "thr: 2.583160968871651\n",
      "2018-04-07 11:22:08.247863262~2018-04-07 11:37:19.117845222.txt    4.117893970669057  count: 1126  percentage: 0.061089409722222224  node count: 72  edge count: 85\n",
      "index_count: 45\n",
      "thr: 2.9865511635119364\n",
      "2018-04-07 11:37:19.117845222~2018-04-07 11:52:25.757824807.txt    4.473294316008028  count: 1808  percentage: 0.06790865384615384  node count: 118  edge count: 127\n",
      "index_count: 46\n",
      "thr: 2.356769615449112\n",
      "2018-04-07 11:52:25.757824807~2018-04-07 12:07:33.167805575.txt    3.412803858266276  count: 1063  percentage: 0.06106387867647059  node count: 109  edge count: 151\n",
      "index_count: 47\n",
      "thr: 2.642482231807797\n",
      "2018-04-07 12:07:33.167805575~2018-04-07 12:22:37.237783089.txt    3.8231946220963158  count: 2126  percentage: 0.06920572916666666  node count: 163  edge count: 177\n",
      "index_count: 48\n",
      "thr: 2.8565332497639906\n",
      "2018-04-07 12:22:37.237783089~2018-04-07 12:37:47.867767543.txt    3.8473890220673903  count: 2518  percentage: 0.05854724702380952  node count: 268  edge count: 281\n",
      "index_count: 49\n",
      "thr: 3.027024922401718\n",
      "2018-04-07 12:37:47.867767543~2018-04-07 12:52:55.687743440.txt    4.236411606035357  count: 2665  percentage: 0.054219563802083336  node count: 226  edge count: 237\n",
      "index_count: 50\n",
      "thr: 3.015061443705708\n",
      "2018-04-07 12:52:55.687743440~2018-04-07 13:08:03.297721130.txt    4.435207359529361  count: 1833  percentage: 0.0617254849137931  node count: 169  edge count: 174\n",
      "index_count: 51\n",
      "thr: 1.8635500429898313\n",
      "2018-04-07 13:08:03.297721130~2018-04-07 13:23:07.587702371.txt    2.387935613098191  count: 2452  percentage: 0.11402529761904762  node count: 138  edge count: 230\n",
      "index_count: 52\n",
      "thr: 2.0343853175638302\n",
      "2018-04-07 13:23:07.587702371~2018-04-07 13:38:18.347682404.txt    2.554673520543782  count: 1279  percentage: 0.08921595982142858  node count: 81  edge count: 124\n",
      "index_count: 53\n",
      "thr: 2.8301119363597507\n",
      "2018-04-07 13:38:18.347682404~2018-04-07 13:53:24.767661961.txt    4.275497414171696  count: 1248  percentage: 0.07169117647058823  node count: 63  edge count: 67\n",
      "index_count: 54\n",
      "thr: 2.2085259001768076\n",
      "2018-04-07 13:53:24.767661961~2018-04-07 14:08:33.897638680.txt    3.0060676220435645  count: 1101  percentage: 0.06719970703125  node count: 106  edge count: 155\n",
      "index_count: 55\n",
      "thr: 2.4988870588061465\n",
      "2018-04-07 14:08:33.897638680~2018-04-07 14:24:26.557620008.txt    4.0224170223359135  count: 1674  percentage: 0.060546875  node count: 93  edge count: 116\n",
      "index_count: 56\n",
      "thr: 2.8237857260208266\n",
      "2018-04-07 14:24:26.557620008~2018-04-07 14:39:48.517612046.txt    4.8257080157668  count: 1133  percentage: 0.061469184027777776  node count: 62  edge count: 63\n",
      "index_count: 57\n",
      "thr: 2.7765508115863438\n",
      "2018-04-07 14:39:48.517612046~2018-04-07 14:55:00.017576301.txt    4.199874814446387  count: 1506  percentage: 0.06685014204545454  node count: 103  edge count: 123\n",
      "index_count: 58\n",
      "thr: 2.3001118554224966\n",
      "2018-04-07 14:55:00.017576301~2018-04-07 15:10:05.317560451.txt    3.1595204114108473  count: 1184  percentage: 0.0642361111111111  node count: 109  edge count: 156\n",
      "index_count: 59\n",
      "thr: 2.481676496216818\n",
      "2018-04-07 15:10:05.317560451~2018-04-07 15:26:12.217536522.txt    3.9256345416568785  count: 1706  percentage: 0.06407752403846154  node count: 100  edge count: 127\n",
      "index_count: 60\n",
      "thr: 2.3956940469082144\n",
      "2018-04-07 15:26:12.217536522~2018-04-07 15:41:21.207514200.txt    3.500880507671863  count: 1181  percentage: 0.060701069078947366  node count: 102  edge count: 142\n",
      "index_count: 61\n",
      "thr: 2.299615095608129\n",
      "2018-04-07 15:41:21.207514200~2018-04-07 15:56:28.657494782.txt    3.189286985704976  count: 1147  percentage: 0.06222873263888889  node count: 110  edge count: 159\n",
      "index_count: 62\n",
      "thr: 2.997159756362432\n",
      "2018-04-07 15:56:28.657494782~2018-04-07 16:12:33.137472696.txt    4.285640314644156  count: 2291  percentage: 0.06392299107142857  node count: 125  edge count: 130\n",
      "index_count: 63\n",
      "thr: 2.495008408914825\n",
      "2018-04-07 16:12:33.137472696~2018-04-07 16:27:43.727457066.txt    4.008058628587033  count: 1742  percentage: 0.068046875  node count: 80  edge count: 94\n",
      "index_count: 64\n",
      "thr: 2.024989467245224\n",
      "2018-04-07 16:27:43.727457066~2018-04-07 16:42:51.697434133.txt    2.5989839092824467  count: 1205  percentage: 0.08405412946428571  node count: 82  edge count: 133\n",
      "index_count: 65\n",
      "thr: 2.031478471722437\n",
      "2018-04-07 16:42:51.697434133~2018-04-07 16:57:58.897414026.txt    2.526321531492031  count: 1244  percentage: 0.08677455357142858  node count: 85  edge count: 141\n",
      "index_count: 66\n",
      "thr: 2.7649940646147915\n",
      "2018-04-07 16:57:58.897414026~2018-04-07 17:12:59.447391588.txt    3.5460841211952836  count: 2654  percentage: 0.05759548611111111  node count: 264  edge count: 281\n",
      "index_count: 67\n",
      "thr: 2.535019638928098\n",
      "2018-04-07 17:12:59.447391588~2018-04-07 17:28:15.007384019.txt    3.260142684785906  count: 2672  percentage: 0.06068313953488372  node count: 232  edge count: 261\n",
      "index_count: 68\n",
      "thr: 2.9223888640113844\n",
      "2018-04-07 17:28:15.007384019~2018-04-07 17:43:22.657350334.txt    3.7415775039211527  count: 5226  percentage: 0.10415338010204081  node count: 461  edge count: 465\n",
      "index_count: 69\n",
      "thr: 2.5922373218161887\n",
      "2018-04-07 17:43:22.657350334~2018-04-07 17:59:27.637330849.txt    3.5222279250726305  count: 1711  percentage: 0.05569661458333333  node count: 167  edge count: 182\n",
      "index_count: 70\n",
      "thr: 2.111228936873916\n",
      "2018-04-07 17:59:27.637330849~2018-04-07 18:14:38.467310967.txt    2.741673739601488  count: 1168  percentage: 0.07604166666666666  node count: 80  edge count: 120\n",
      "index_count: 71\n",
      "thr: 2.48974773564376\n",
      "2018-04-07 18:14:38.467310967~2018-04-07 18:29:44.957289774.txt    4.002395345278435  count: 1719  percentage: 0.06456580528846154  node count: 86  edge count: 103\n",
      "index_count: 72\n",
      "thr: 2.6941678522060863\n",
      "2018-04-07 18:29:44.957289774~2018-04-07 18:45:53.477266719.txt    3.6573403729332816  count: 1935  percentage: 0.053989955357142856  node count: 243  edge count: 260\n",
      "index_count: 73\n",
      "thr: 2.120442168680003\n",
      "2018-04-07 18:45:53.477266719~2018-04-07 19:01:01.807254480.txt    2.7757620911386365  count: 1193  percentage: 0.07281494140625  node count: 95  edge count: 133\n",
      "index_count: 74\n",
      "thr: 1.7584308389215058\n",
      "2018-04-07 19:01:01.807254480~2018-04-07 19:16:09.237229592.txt    2.252491060159785  count: 2483  percentage: 0.121240234375  node count: 127  edge count: 241\n",
      "index_count: 75\n",
      "thr: 2.6160253919603416\n",
      "2018-04-07 19:16:09.237229592~2018-04-07 19:31:16.917209075.txt    4.113190082203983  count: 1196  percentage: 0.06147203947368421  node count: 70  edge count: 83\n",
      "index_count: 76\n",
      "thr: 2.0464368458136506\n",
      "2018-04-07 19:31:16.917209075~2018-04-07 19:46:24.177188164.txt    2.548276168649847  count: 1155  percentage: 0.08056640625  node count: 84  edge count: 144\n",
      "index_count: 77\n",
      "thr: 2.0236228349081804\n",
      "2018-04-07 19:46:24.177188164~2018-04-07 20:01:32.217166390.txt    2.4914794071319832  count: 1341  percentage: 0.0873046875  node count: 98  edge count: 161\n",
      "index_count: 78\n",
      "thr: 2.14719537364869\n",
      "2018-04-07 20:01:32.217166390~2018-04-07 20:16:39.747146568.txt    2.859669262669051  count: 2237  percentage: 0.09102376302083333  node count: 189  edge count: 233\n",
      "index_count: 79\n",
      "thr: 2.7718468881368232\n",
      "2018-04-07 20:16:39.747146568~2018-04-07 20:31:40.247126462.txt    3.647664589406393  count: 2146  percentage: 0.059877232142857145  node count: 241  edge count: 248\n",
      "index_count: 80\n",
      "thr: 2.1950324570036757\n",
      "2018-04-07 20:31:40.247126462~2018-04-07 20:47:54.987106242.txt    2.774407398960571  count: 1468  percentage: 0.07964409722222222  node count: 140  edge count: 167\n",
      "index_count: 81\n",
      "thr: 1.995071349429996\n",
      "2018-04-07 20:47:54.987106242~2018-04-07 21:03:02.457083343.txt    2.4612366409279303  count: 1274  percentage: 0.095703125  node count: 102  edge count: 182\n",
      "index_count: 82\n",
      "thr: 2.0166090549644045\n",
      "2018-04-07 21:03:02.457083343~2018-04-07 21:18:08.817071709.txt    2.9317276304368334  count: 1732  percentage: 0.08054315476190477  node count: 94  edge count: 152\n",
      "index_count: 83\n"
     ]
    },
    {
     "name": "stdout",
     "output_type": "stream",
     "text": [
      "thr: 2.283745204447551\n",
      "2018-04-07 21:18:08.817071709~2018-04-07 21:33:17.447051923.txt    3.4173430458028267  count: 940  percentage: 0.061197916666666664  node count: 64  edge count: 83\n",
      "index_count: 84\n",
      "thr: 2.3969516117480847\n",
      "2018-04-07 21:33:17.447051923~2018-04-07 21:48:25.107022873.txt    3.9173935518277334  count: 759  percentage: 0.052943638392857144  node count: 62  edge count: 78\n",
      "index_count: 85\n",
      "thr: 2.013769330180591\n",
      "2018-04-07 21:48:25.107022873~2018-04-07 22:03:32.547001547.txt    2.4648629502473374  count: 1326  percentage: 0.09249441964285714  node count: 94  edge count: 147\n",
      "index_count: 86\n",
      "thr: 2.0459545678709796\n",
      "2018-04-07 22:03:32.547001547~2018-04-07 22:18:38.656982046.txt    2.9150453110196892  count: 1758  percentage: 0.08175223214285714  node count: 106  edge count: 165\n",
      "index_count: 87\n",
      "thr: 2.7640029955787058\n",
      "2018-04-07 22:18:38.656982046~2018-04-07 22:33:47.286964532.txt    4.227548967002744  count: 1106  percentage: 0.06353400735294118  node count: 65  edge count: 68\n",
      "index_count: 88\n",
      "thr: 2.7626294593695397\n",
      "2018-04-07 22:33:47.286964532~2018-04-07 22:48:54.756943468.txt    4.099284771561179  count: 1345  percentage: 0.0729709201388889  node count: 64  edge count: 71\n",
      "index_count: 89\n",
      "thr: 2.507848938388096\n",
      "2018-04-07 22:48:54.756943468~2018-04-07 23:03:54.806921896.txt    3.2630711643467176  count: 7132  percentage: 0.06448929398148148  node count: 1773  edge count: 1778\n",
      "index_count: 90\n",
      "thr: 2.4450822846350455\n",
      "node: {'file': '/tmp/periodic.NGmpaYSBHt'}  IDF: 5.6240175061873385\n",
      "2018-04-07 23:03:54.806921896~2018-04-07 23:20:00.056902847.txt    3.1907353299359094  count: 6439  percentage: 0.06986762152777778  node count: 1389  edge count: 1398\n",
      "index_count: 91\n",
      "thr: 1.9333950244807188\n",
      "2018-04-07 23:20:00.056902847~2018-04-07 23:35:19.036879610.txt    2.3600469321604596  count: 1510  percentage: 0.10532924107142858  node count: 78  edge count: 147\n",
      "index_count: 92\n",
      "thr: 1.9939185884330448\n",
      "node: {'file': '/tmp/periodic.NGmpaYSBHt'}  IDF: 5.6240175061873385\n",
      "2018-04-07 23:35:19.036879610~2018-04-07 23:50:19.096860042.txt    2.5375199495903593  count: 1132  percentage: 0.07896205357142858  node count: 79  edge count: 140\n"
     ]
    }
   ],
   "source": [
    "\n",
    "# node_IDF=torch.load(\"node_IDF_4_3-4_5\")\n",
    "y_data_4_7=[]\n",
    "df_list_4_7=[]\n",
    "# node_set_list=[]\n",
    "history_list=[]\n",
    "tw_que=[]\n",
    "his_tw={}\n",
    "current_tw={}\n",
    "\n",
    "file_l=os.listdir(\"graph_4_7_share\")\n",
    "index_count=0\n",
    "for f_path in sorted(file_l):\n",
    "    f=open(\"graph_4_7_share/\"+f_path)\n",
    "    edge_loss_list=[]\n",
    "    edge_list=[]\n",
    "    print('index_count:',index_count)\n",
    "    \n",
    "    for line in f:\n",
    "        l=line.strip()\n",
    "        jdata=eval(l)\n",
    "        edge_loss_list.append(jdata['loss'])\n",
    "        edge_list.append([str(jdata['srcmsg']),str(jdata['dstmsg'])])\n",
    "    df_list_4_7.append(pd.DataFrame(edge_loss_list))\n",
    "    count,loss_avg,node_set,edge_set=cal_anomaly_loss(edge_loss_list,edge_list,\"graph_4_7_share/\")\n",
    "    current_tw['name']=f_path\n",
    "    current_tw['loss']=loss_avg\n",
    "    current_tw['index']=index_count\n",
    "    current_tw['nodeset']=node_set\n",
    "\n",
    "    added_que_flag=False\n",
    "    for hq in history_list:\n",
    "        for his_tw in hq:\n",
    "            if cal_set_rel(current_tw['nodeset'],his_tw['nodeset'])!=0 and current_tw['name']!=his_tw['name']:\n",
    "                hq.append(copy.deepcopy(current_tw))\n",
    "                added_que_flag=True\n",
    "                break\n",
    "            if added_que_flag:\n",
    "                break\n",
    "    if added_que_flag is False:\n",
    "        temp_hq=[copy.deepcopy(current_tw)]\n",
    "        history_list.append(temp_hq)\n",
    "  \n",
    "    index_count+=1\n",
    "\n",
    "    print( f_path,\"  \",loss_avg,\" count:\",count,\" percentage:\",count/len(edge_list),\" node count:\",len(node_set),\" edge count:\",len(edge_set))\n"
   ]
  },
  {
   "cell_type": "code",
   "execution_count": 42,
   "metadata": {},
   "outputs": [],
   "source": [
    "\n",
    "for hl in history_list:\n",
    "    loss_count=0\n",
    "    for hq in hl:\n",
    "        if loss_count==0:\n",
    "            loss_count=(loss_count+1)*(hq['loss']+1)\n",
    "        else:\n",
    "            loss_count=(loss_count)*(hq['loss']+1)\n",
    "    name_list=[]\n",
    "    if loss_count>100:\n",
    "        name_list=[]\n",
    "        for i in hl:\n",
    "            name_list.append(i['name'])\n",
    "        print(name_list)\n",
    "        # 下面先打上注释意味着先看下测试结果，先不往预测结果中加\n",
    "#         for i in name_list:\n",
    "#             pred_label[i]=1\n",
    "        print(loss_count)"
   ]
  },
  {
   "cell_type": "markdown",
   "metadata": {},
   "source": [
    "# 异常检测模块"
   ]
  },
  {
   "cell_type": "code",
   "execution_count": 43,
   "metadata": {},
   "outputs": [],
   "source": [
    "from sklearn.metrics import average_precision_score, roc_auc_score\n",
    "#导入plot_roc_curve,roc_curve和roc_auc_score模块\n",
    "# from sklearn.metrics import plot_roc_curve,roc_curve,auc,roc_auc_score\n",
    "import torch\n",
    "from sklearn import preprocessing\n",
    "import matplotlib.pyplot as plt\n",
    "import numpy as np\n",
    "from sklearn.preprocessing import MinMaxScaler\n",
    "from sklearn.metrics import confusion_matrix\n",
    "\n",
    "def plot_thr():\n",
    "    np.seterr(invalid='ignore')\n",
    "    step=0.01\n",
    "    thr_list=torch.arange(-5,5,step)\n",
    "    \n",
    "    \n",
    "\n",
    "    precision_list=[]\n",
    "    recall_list=[]\n",
    "    fscore_list=[]\n",
    "    accuracy_list=[]\n",
    "    auc_val_list=[]\n",
    "    for thr in thr_list:\n",
    "        threshold=thr\n",
    "        y_prediction=[]\n",
    "        for i in y_test_scores:\n",
    "            if i >threshold:\n",
    "                y_prediction.append(1)\n",
    "            else:\n",
    "                y_prediction.append(0)\n",
    "        precision,recall,fscore,accuracy,auc_val=classifier_evaluation(y_test, y_prediction)   \n",
    "        precision_list.append(float(precision))\n",
    "        recall_list.append(float(recall))\n",
    "        fscore_list.append(float(fscore))\n",
    "        accuracy_list.append(float(accuracy))\n",
    "        auc_val_list.append(float(auc_val))\n",
    "\n",
    "    max_fscore=max(fscore_list)\n",
    "    max_fscore_index=fscore_list.index(max_fscore)\n",
    "    print(max_fscore_index)\n",
    "    print(\"max threshold:\",thr_list[max_fscore_index])\n",
    "    print('precision:',precision_list[max_fscore_index])\n",
    "    print('recall:',recall_list[max_fscore_index])\n",
    "    print('fscore:',fscore_list[max_fscore_index])\n",
    "    print('accuracy:',accuracy_list[max_fscore_index])    \n",
    "    print('auc:',auc_val_list[max_fscore_index])\n",
    "\n",
    "    plt.plot(thr_list,precision_list,color='red',label='precision',linewidth=2.0,linestyle='-')\n",
    "    plt.plot(thr_list,recall_list,color='orange',label='recall',linewidth=2.0,linestyle='solid')\n",
    "    plt.plot(thr_list,fscore_list,color='y',label='F-score',linewidth=2.0,linestyle='dashed')\n",
    "    plt.plot(thr_list,accuracy_list,color='g',label='accuracy',linewidth=2.0,linestyle='dashdot')\n",
    "    plt.plot(thr_list,auc_val_list,color='b',label='auc_val',linewidth=2.0,linestyle='dotted')\n",
    "\n",
    "\n",
    "    plt.xlabel(\"Threshold\", fontdict={'size': 16})\n",
    "    plt.ylabel(\"Rate\", fontdict={'size': 16})\n",
    "    plt.title(\"Different evaluation Indicators by varying threshold value\", fontdict={'size': 12})\n",
    "    plt.legend(loc='best', fontsize=12, markerscale=0.5)\n",
    "    plt.show()\n",
    "\n",
    "def classifier_evaluation(y_test, y_test_pred):\n",
    "    # groundtruth, pred_value\n",
    "    tn, fp, fn, tp =confusion_matrix(y_test, y_test_pred).ravel()\n",
    "#     tn+=100\n",
    "#     print(clf_name,\" : \")\n",
    "    print('tn:',tn)\n",
    "    print('fp:',fp)\n",
    "    print('fn:',fn)\n",
    "    print('tp:',tp)\n",
    "    precision=tp/(tp+fp)\n",
    "    recall=tp/(tp+fn)\n",
    "    accuracy=(tp+tn)/(tp+tn+fp+fn)\n",
    "    fscore=2*(precision*recall)/(precision+recall)    \n",
    "    auc_val=roc_auc_score(y_test, y_test_pred)\n",
    "    print(\"precision:\",precision)\n",
    "    print(\"recall:\",recall)\n",
    "    print(\"fscore:\",fscore)\n",
    "    print(\"accuracy:\",accuracy)\n",
    "    print(\"auc_val:\",auc_val)\n",
    "    return precision,recall,fscore,accuracy,auc_val\n",
    "\n",
    "def minmax(data):\n",
    "    min_val=min(data)\n",
    "    max_val=max(data)\n",
    "    ans=[]\n",
    "    for i in data:\n",
    "        ans.append((i-min_val)/(max_val-min_val))\n",
    "    return ans\n"
   ]
  },
  {
   "cell_type": "code",
   "execution_count": 44,
   "metadata": {},
   "outputs": [],
   "source": [
    "y=[]\n",
    "y_pred=[]\n",
    "for i in labels:\n",
    "    y.append(labels[i])\n",
    "    y_pred.append(pred_label[i])"
   ]
  },
  {
   "cell_type": "code",
   "execution_count": 45,
   "metadata": {},
   "outputs": [
    {
     "name": "stdout",
     "output_type": "stream",
     "text": [
      "tn: 174\n",
      "fp: 1\n",
      "fn: 0\n",
      "tp: 4\n",
      "precision: 0.8\n",
      "recall: 1.0\n",
      "fscore: 0.888888888888889\n",
      "accuracy: 0.994413407821229\n",
      "auc_val: 0.9971428571428572\n"
     ]
    },
    {
     "data": {
      "text/plain": [
       "(0.8, 1.0, 0.888888888888889, 0.994413407821229, 0.9971428571428572)"
      ]
     },
     "execution_count": 45,
     "metadata": {},
     "output_type": "execute_result"
    }
   ],
   "source": [
    "classifier_evaluation(y,y_pred)"
   ]
  },
  {
   "cell_type": "code",
   "execution_count": null,
   "metadata": {},
   "outputs": [],
   "source": []
  },
  {
   "cell_type": "code",
   "execution_count": null,
   "metadata": {},
   "outputs": [],
   "source": []
  },
  {
   "cell_type": "code",
   "execution_count": null,
   "metadata": {},
   "outputs": [],
   "source": []
  },
  {
   "cell_type": "markdown",
   "metadata": {},
   "source": [
    "# Attack investigation"
   ]
  },
  {
   "cell_type": "code",
   "execution_count": 31,
   "metadata": {},
   "outputs": [],
   "source": [
    "from graphviz import Digraph\n",
    "import networkx as nx\n",
    "# 社区发现算法\n",
    "import datetime\n",
    "import community.community_louvain as community_louvain\n",
    "from tqdm import tqdm"
   ]
  },
  {
   "cell_type": "code",
   "execution_count": 42,
   "metadata": {},
   "outputs": [
    {
     "name": "stderr",
     "output_type": "stream",
     "text": [
      " 50%|██████████████████████████████████████████████                                              | 2/4 [00:00<00:00,  5.43it/s]"
     ]
    },
    {
     "name": "stdout",
     "output_type": "stream",
     "text": [
      "0.6261387372864688\n",
      "0.8539267068075401\n",
      "thr: 1.907028797497779\n",
      "0.8300467786579248\n",
      "0.9039214612531344\n",
      "thr: 2.1859289705376264\n"
     ]
    },
    {
     "name": "stderr",
     "output_type": "stream",
     "text": [
      "100%|████████████████████████████████████████████████████████████████████████████████████████████| 4/4 [00:00<00:00,  6.17it/s]"
     ]
    },
    {
     "name": "stdout",
     "output_type": "stream",
     "text": [
      "0.9493427947505148\n",
      "0.9534912391819826\n",
      "thr: 2.3795796535234888\n",
      "0.8755370802948619\n",
      "0.8392828735783188\n",
      "thr: 2.1344613906623398\n",
      "开始渲染图像···\n",
      "开始渲染图像···\n",
      "开始渲染图像···\n",
      "开始渲染图像···\n",
      "开始渲染图像···\n"
     ]
    },
    {
     "name": "stderr",
     "output_type": "stream",
     "text": [
      "\n"
     ]
    },
    {
     "name": "stdout",
     "output_type": "stream",
     "text": [
      "开始渲染图像···\n",
      "开始渲染图像···\n",
      "开始渲染图像···\n",
      "开始渲染图像···\n",
      "开始渲染图像···\n",
      "开始渲染图像···\n",
      "开始渲染图像···\n",
      "开始渲染图像···\n",
      "开始渲染图像···\n"
     ]
    }
   ],
   "source": [
    "\n",
    "# 攻击调查模块\n",
    "\n",
    "# 一些常见的路径替换  需要根据不同数据集进行调整\n",
    "replace_dic={\n",
    "    '/run/shm/':'/run/shm/*',\n",
    "    '/home/admin/.cache/mozilla/firefox/':'/home/admin/.cache/mozilla/firefox/*',\n",
    "    '/home/admin/.mozilla/firefox':'/home/admin/.mozilla/firefox*',    \n",
    "    '/data/replay_logdb/':'/data/replay_logdb/*', \n",
    "    '/home/admin/.local/share/applications/':'/home/admin/.local/share/applications/*', \n",
    "    '/usr/share/applications/':'/usr/share/applications/*', \n",
    "    '/lib/x86_64-linux-gnu/':'/lib/x86_64-linux-gnu/*',     \n",
    "    '/proc/':'/proc/*', \n",
    "    '/stat':'*/stat', \n",
    "    '/etc/bash_completion.d/':'/etc/bash_completion.d/*', \n",
    "    '/usr/bin/python2.7':'/usr/bin/python2.7/*', \n",
    "    '/usr/lib/python2.7':'/usr/lib/python2.7/*', \n",
    "}\n",
    "\n",
    "def replace_path_name(path_name):\n",
    "    for i in replace_dic:\n",
    "        if i in path_name:\n",
    "            return replace_dic[i]\n",
    "    return path_name\n",
    "\n",
    "\n",
    "# 异常检测发现的时间窗口\n",
    "attack_list=[\n",
    "    # 这里存放有问题的时间窗口的edge list\n",
    "    './1024_50_genIDF/graph_4_6_share/2018-04-06 11:18:26.126177915~2018-04-06 11:33:35.116170745.txt',\n",
    "    './1024_50_genIDF/graph_4_6_share/2018-04-06 11:33:35.116170745~2018-04-06 11:48:42.606135188.txt',\n",
    "    './1024_50_genIDF/graph_4_6_share/2018-04-06 11:48:42.606135188~2018-04-06 12:03:50.186115455.txt',\n",
    "    './1024_50_genIDF/graph_4_6_share/2018-04-06 12:03:50.186115455~2018-04-06 14:01:32.489584227.txt', \n",
    "  ]\n",
    "\n",
    "# 生成加权图\n",
    "original_edges_count=0\n",
    "graphs=[]\n",
    "gg=nx.DiGraph()\n",
    "count=0\n",
    "for path in tqdm(attack_list):\n",
    "    if \".txt\" in path:\n",
    "        line_count=0\n",
    "        node_set=set()\n",
    "        tempg=nx.DiGraph()\n",
    "        f=open(path,\"r\")       \n",
    "        edge_list=[]\n",
    "        for line in f:\n",
    "            count+=1\n",
    "            l=line.strip()\n",
    "            jdata=eval(l)\n",
    "            edge_list.append(jdata)\n",
    "            \n",
    "        edge_list = sorted(edge_list, key=lambda x:x['loss'],reverse=True) \n",
    "        original_edges_count+=len(edge_list)\n",
    "        \n",
    "        loss_list=[]\n",
    "        for i in edge_list:\n",
    "            loss_list.append(i['loss'])\n",
    "        loss_mean=mean(loss_list)\n",
    "        loss_std=std(loss_list)\n",
    "        print(loss_mean)\n",
    "        print(loss_std)\n",
    "        thr=loss_mean+1.5*loss_std\n",
    "        print(\"thr:\",thr)\n",
    "        for e in edge_list:\n",
    "            if e['loss']>thr:    \n",
    "                tempg.add_edge(str(hashgen(replace_path_name(e['srcmsg']))),str(hashgen(replace_path_name(e['dstmsg']))))\n",
    "                gg.add_edge(str(hashgen(replace_path_name(e['srcmsg']))),str(hashgen(replace_path_name(e['dstmsg']))),loss=e['loss'],srcmsg=e['srcmsg'],dstmsg=e['dstmsg'],edge_type=e['edge_type'],time=e['time'])\n",
    "        \n",
    "\n",
    "\n",
    "# starttime = datetime.datetime.now()\n",
    "#long running\n",
    "partition = community_louvain.best_partition(gg.to_undirected())\n",
    "#do something other\n",
    "# endtime = datetime.datetime.now()\n",
    "# print(\"社区发现计算完毕，消耗时间:{:d}\".format((endtime - starttime).seconds))\n",
    "\n",
    "# 根据社区构建candidate subgraph\n",
    "communities={}\n",
    "max_partition=0\n",
    "for i in partition:\n",
    "    if partition[i]>max_partition:\n",
    "        max_partition=partition[i]\n",
    "for i in range(max_partition+1):\n",
    "    communities[i]=nx.DiGraph()\n",
    "for e in gg.edges:\n",
    "#     if partition[e[0]]==partition[e[1]]:\n",
    "    communities[partition[e[0]]].add_edge(e[0],e[1])\n",
    "    communities[partition[e[1]]].add_edge(e[0],e[1])\n",
    "\n",
    "\n",
    "# 定义attack node，将对应的edge和node在绘制时染色\n",
    "def attack_edge_flag(msg):\n",
    "    attack_edge_type=[\n",
    "        '/tmp/vUgefal',\n",
    "        'vUgefal',\n",
    "        '/var/log/devc',\n",
    "        '/etc/passwd',\n",
    "        '81.49.200.166',\n",
    "        '61.167.39.128',\n",
    "        '78.205.235.65',\n",
    "        '139.123.0.113',\n",
    "        \"'nginx'\",\n",
    "    ]\n",
    "    flag=False\n",
    "    for i in attack_edge_type:\n",
    "        if i in msg:\n",
    "            flag=True\n",
    "    return flag\n",
    "\n",
    "\n",
    "# 绘制和渲染candidate subgraph\n",
    "\n",
    "\n",
    "\n",
    "\n",
    "graph_index=0\n",
    "\n",
    "\n",
    "for c in communities:\n",
    "    # 将文件、 进程、 网络连接的信息放到节点上面去\n",
    "    dot = Digraph(name=\"MyPicture\", comment=\"the test\", format=\"pdf\")\n",
    "    dot.graph_attr['rankdir'] = 'LR'\n",
    "    \n",
    "    for e in communities[c].edges:\n",
    "        try:\n",
    "            temp_edge=gg.edges[e]\n",
    "            srcnode=e['srcnode']\n",
    "            dstnode=e['dstnode']\n",
    "        except:\n",
    "            pass        \n",
    "\n",
    "        if True:\n",
    "#             subgraph_loss_sum+=temp_edge['loss']\n",
    "            # 源节点     \n",
    "            if \"'subject': '\" in temp_edge['srcmsg']:\n",
    "                src_shape='box'\n",
    "            elif \"'file': '\" in temp_edge['srcmsg']:\n",
    "                src_shape='oval'\n",
    "            elif \"'netflow': '\" in temp_edge['srcmsg']:\n",
    "                src_shape='diamond'\n",
    "            if attack_edge_flag(temp_edge['srcmsg']):\n",
    "                src_node_color='red'\n",
    "#                 attack_node_count+=1\n",
    "            else:\n",
    "                src_node_color='blue'\n",
    "            dot.node( name=str(hashgen(replace_path_name(temp_edge['srcmsg']))),label=str(replace_path_name(temp_edge['srcmsg'])+str(partition[str(hashgen(replace_path_name(temp_edge['srcmsg'])))])), color=src_node_color,shape = src_shape)\n",
    "\n",
    "            #目的节点\n",
    "            if \"'subject': '\" in temp_edge['dstmsg']:\n",
    "                dst_shape='box'\n",
    "            elif \"'file': '\" in temp_edge['dstmsg']:\n",
    "                dst_shape='oval'\n",
    "            elif \"'netflow': '\" in temp_edge['dstmsg']:\n",
    "                dst_shape='diamond'\n",
    "            if attack_edge_flag(temp_edge['dstmsg']):\n",
    "                dst_node_color='red'\n",
    "#                 attack_node_count+=1\n",
    "            else:\n",
    "                dst_node_color='blue'\n",
    "            dot.node( name=str(hashgen(replace_path_name(temp_edge['dstmsg']))),label=str(replace_path_name(temp_edge['dstmsg'])+str(partition[str(hashgen(replace_path_name(temp_edge['dstmsg'])))])), color=dst_node_color,shape = dst_shape)\n",
    "\n",
    "            if attack_edge_flag(temp_edge['srcmsg']) and attack_edge_flag(temp_edge['dstmsg']):\n",
    "                edge_color='red'\n",
    "#                 attack_edge_count+=1\n",
    "            else:\n",
    "                edge_color='blue'\n",
    "            dot.edge(str(hashgen(replace_path_name(temp_edge['srcmsg']))),str(hashgen(replace_path_name(temp_edge['dstmsg']))), label= temp_edge['edge_type'] , color=edge_color)#+ \"  loss: \"+str(temp_edge['loss']) + \"  time: \"+str(temp_edge['time'])\n",
    "\n",
    "    print(\"开始渲染图像···\")\n",
    "    dot.render('./graph_visual/subgraph_'+str(graph_index), view=False)\n",
    "    graph_index+=1\n"
   ]
  },
  {
   "cell_type": "code",
   "execution_count": null,
   "metadata": {},
   "outputs": [],
   "source": []
  },
  {
   "cell_type": "code",
   "execution_count": 39,
   "metadata": {},
   "outputs": [],
   "source": [
    "def attack_edge_flag(msg):\n",
    "    attack_edge_type=[\n",
    "        '/home/admin/clean',\n",
    "        '/dev/glx_alsa_675',\n",
    "        '/home/admin/profile',\n",
    "          '/var/log/xdev',\n",
    "    '/etc/passwd',\n",
    "    '161.116.88.72',\n",
    "    '146.153.68.151',\n",
    "        '/var/log/mail',\n",
    "        '/tmp/memtrace.so',\n",
    "        '/var/log/xdev',\n",
    "         '/var/log/wdev',\n",
    "        'gtcache',\n",
    "        'firefox',\n",
    "#         '/var/log',\n",
    "        'vUgefal'\n",
    "    ]\n",
    "    flag=False\n",
    "    for i in attack_edge_type:\n",
    "        if i in msg:\n",
    "            flag=True\n",
    "            break\n",
    "    return flag\n"
   ]
  },
  {
   "cell_type": "code",
   "execution_count": 40,
   "metadata": {},
   "outputs": [
    {
     "data": {
      "text/plain": [
       "True"
      ]
     },
     "execution_count": 40,
     "metadata": {},
     "output_type": "execute_result"
    }
   ],
   "source": [
    "attack_edge_flag(\"{'subject': 'vUgefal'}\")"
   ]
  },
  {
   "cell_type": "code",
   "execution_count": null,
   "metadata": {},
   "outputs": [],
   "source": []
  },
  {
   "cell_type": "code",
   "execution_count": null,
   "metadata": {},
   "outputs": [],
   "source": []
  }
 ],
 "metadata": {
  "kernelspec": {
   "display_name": "Python 3 (ipykernel)",
   "language": "python",
   "name": "python3"
  },
  "language_info": {
   "codemirror_mode": {
    "name": "ipython",
    "version": 3
   },
   "file_extension": ".py",
   "mimetype": "text/x-python",
   "name": "python",
   "nbconvert_exporter": "python",
   "pygments_lexer": "ipython3",
   "version": "3.9.16"
  },
  "latex_envs": {
   "LaTeX_envs_menu_present": true,
   "autoclose": false,
   "autocomplete": true,
   "bibliofile": "biblio.bib",
   "cite_by": "apalike",
   "current_citInitial": 1,
   "eqLabelWithNumbers": true,
   "eqNumInitial": 1,
   "hotkeys": {
    "equation": "Ctrl-E",
    "itemize": "Ctrl-I"
   },
   "labels_anchors": false,
   "latex_user_defs": false,
   "report_style_numbering": false,
   "user_envs_cfg": false
  },
  "toc": {
   "base_numbering": 1,
   "nav_menu": {},
   "number_sections": true,
   "sideBar": true,
   "skip_h1_title": false,
   "title_cell": "Table of Contents",
   "title_sidebar": "Contents",
   "toc_cell": false,
   "toc_position": {
    "height": "calc(100% - 180px)",
    "left": "10px",
    "top": "150px",
    "width": "241px"
   },
   "toc_section_display": true,
   "toc_window_display": true
  }
 },
 "nbformat": 4,
 "nbformat_minor": 4
}
